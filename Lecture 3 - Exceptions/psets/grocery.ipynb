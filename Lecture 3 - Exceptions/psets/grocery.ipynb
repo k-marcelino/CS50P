{
 "cells": [
  {
   "cell_type": "markdown",
   "metadata": {},
   "source": [
    "https://cs50.harvard.edu/python/2022/psets/3/grocery/"
   ]
  },
  {
   "cell_type": "markdown",
   "metadata": {},
   "source": [
    "Grocery List\n",
    "\n",
    "Suppose that you’re in the habit of making a list of items you need from the grocery store.\n",
    "\n",
    "In a file called grocery.py, implement a program that prompts the user for items, one per line, until the user inputs control-d (which is a common way of ending one’s input to a program). Then output the user’s grocery list in all uppercase, sorted alphabetically by item, prefixing each line with the number of times the user inputted that item. No need to pluralize the items. Treat the user’s input case-insensitively.\n",
    "\n",
    "### Hints\n",
    "\n",
    "    Note that you can detect when the user has inputted control-d by catching an EOFError with code like:\n",
    "\n",
    "    try:\n",
    "        item = input()\n",
    "    except EOFError:\n",
    "        ...\n",
    "\n",
    "    Odds are you’ll want to store your grocery list as a dict.\n",
    "    Note that a dict comes with quite a few methods, per docs.python.org/3/library/stdtypes.html#mapping-types-dict, among them get, and supports operations like:\n",
    "\n",
    "    d[key]\n",
    "\n",
    "    and\n",
    "\n",
    "    if key in d:\n",
    "        ...\n",
    "\n",
    "    wherein d is a dict and key is a str.\n",
    "    Be sure to avoid or catch any KeyError.\n"
   ]
  },
  {
   "cell_type": "markdown",
   "metadata": {},
   "source": [
    "# Solution\n",
    "\n",
    "- Same observation from previous code: \"Ctrl + D\" does not work in vscode, so I used a manual break."
   ]
  },
  {
   "cell_type": "code",
   "execution_count": 3,
   "metadata": {},
   "outputs": [],
   "source": [
    "items = {}\n",
    "\n",
    "while True:\n",
    "    # Trying to get input from user and will break if pressed \"Ctrl + D\"\n",
    "    try:\n",
    "        item = str(input()).strip().upper()\n",
    "    except EOFError:\n",
    "        break\n",
    "\n",
    "    if item == 'D':\n",
    "        break\n",
    "\n",
    "    # if item in items:\n",
    "    #     items[item] += 1\n",
    "    # else:\n",
    "    #     items[item] = 1\n",
    "\n",
    "    # Use the conditionals above or just the line bello, both work to add the item in the dict and the sum of it\n",
    "    items[item] = items.get(item, 0) + 1\n",
    "\n",
    "# Iterate through the sorte dictionary and print each element with its respective amount\n",
    "for k, v in sorted(items.items()):\n",
    "    print(v, k)"
   ]
  },
  {
   "cell_type": "markdown",
   "metadata": {},
   "source": [
    "# How to Test\n",
    "\n",
    "Here’s how to test your code manually:\n",
    "\n",
    "    Run your program with python grocery.py. Type mango and press Enter, then type strawberry and press Enter, followed by control-d. Your program should output:\n",
    "\n",
    "    1 MANGO\n",
    "    1 STRAWBERRY\n",
    "\n",
    "    Run your program with python grocery.py. Type milk and press Enter, then type milk again and press Enter, followed by control-d. Your program should output:\n",
    "\n",
    "    2 MILK\n",
    "\n",
    "    Run your program with python grocery.py. Type tortilla and press Enter, then type sweet potato and press Enter, followed by control-d. Your program should output:\n",
    "\n",
    "    1 SWEET POTATO\n",
    "    1 TORTILLA\n",
    "\n",
    "You can execute the below to check your code using check50, a program that CS50 will use to test your code when you submit. But be sure to test it yourself as well!"
   ]
  }
 ],
 "metadata": {
  "kernelspec": {
   "display_name": "Python 3",
   "language": "python",
   "name": "python3"
  },
  "language_info": {
   "codemirror_mode": {
    "name": "ipython",
    "version": 3
   },
   "file_extension": ".py",
   "mimetype": "text/x-python",
   "name": "python",
   "nbconvert_exporter": "python",
   "pygments_lexer": "ipython3",
   "version": "3.10.7"
  }
 },
 "nbformat": 4,
 "nbformat_minor": 2
}
