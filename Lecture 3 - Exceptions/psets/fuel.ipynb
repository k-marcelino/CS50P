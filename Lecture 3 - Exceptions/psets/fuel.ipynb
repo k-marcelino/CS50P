{
 "cells": [
  {
   "cell_type": "markdown",
   "metadata": {},
   "source": [
    "https://cs50.harvard.edu/python/2022/psets/3/fuel/"
   ]
  },
  {
   "cell_type": "markdown",
   "metadata": {},
   "source": [
    "# Fuel Gauge\n",
    "\n",
    "fuel gauge\n",
    "Source: amazon.com/dp/B09C4FL56G\n",
    "\n",
    "Fuel gauges indicate, often with fractions, just how much fuel is in a tank. For instance 1/4 indicates that a tank is 25% full, 1/2 indicates that a tank is 50% full, and 3/4 indicates that a tank is 75% full.\n",
    "\n",
    "In a file called fuel.py, implement a program that prompts the user for a fraction, formatted as X/Y, wherein each of X and Y is an integer, and then outputs, as a percentage rounded to the nearest integer, how much fuel is in the tank. If, though, 1% or less remains, output E instead to indicate that the tank is essentially empty. And if 99% or more remains, output F instead to indicate that the tank is essentially full.\n",
    "\n",
    "If, though, X or Y is not an integer, X is greater than Y, or Y is 0, instead prompt the user again. (It is not necessary for Y to be 4.) Be sure to catch any exceptions like ValueError or ZeroDivisionError.\n",
    "\n",
    "### Hints\n",
    "\n",
    "    Recall that a str comes with quite a few methods, per docs.python.org/3/library/stdtypes.html#string-methods, including split.\n",
    "    Note that you can handle two exceptions separately with code like: "
   ]
  },
  {
   "cell_type": "code",
   "execution_count": null,
   "metadata": {},
   "outputs": [],
   "source": [
    "try:\n",
    "    ...\n",
    "except ValueError:\n",
    "    ...\n",
    "except ZeroDivisionError:\n",
    "    ..."
   ]
  },
  {
   "cell_type": "markdown",
   "metadata": {},
   "source": [
    "Or you can handle two exceptions together with code like:"
   ]
  },
  {
   "cell_type": "code",
   "execution_count": null,
   "metadata": {},
   "outputs": [],
   "source": [
    "try:\n",
    "    ...\n",
    "except (ValueError, ZeroDivisionError):\n",
    "    ...\n"
   ]
  },
  {
   "cell_type": "markdown",
   "metadata": {},
   "source": [
    "# Solution"
   ]
  },
  {
   "cell_type": "code",
   "execution_count": null,
   "metadata": {},
   "outputs": [],
   "source": [
    "\"5-10\""
   ]
  },
  {
   "cell_type": "code",
   "execution_count": 28,
   "metadata": {},
   "outputs": [
    {
     "name": "stdout",
     "output_type": "stream",
     "text": [
      "F\n"
     ]
    }
   ],
   "source": [
    "\n",
    "while True:\n",
    "\n",
    "    # Prompting user for input\n",
    "    frac = str(input(\"Fraction: \" )).strip()\n",
    "    # Trying to transform input, if goes wrong will continuously prompt till the input is in the right format\n",
    "    try:\n",
    "        # spliting the input into 2 variables\n",
    "        if '/' in frac:\n",
    "            x, y = frac.split('/')\n",
    "            # Transforming into integers\n",
    "            x, y = int(x), int(y)\n",
    "            \n",
    "            # Final check before breaks the loop\n",
    "            if x <= y and y != 0:\n",
    "                break\n",
    "    except (ValueError, ZeroDivisionError):\n",
    "        pass\n",
    "    \n",
    "# Transforming fraction input into decimal\n",
    "remain = x / y * 100\n",
    "# Printing result accordingly the remain range\n",
    "print(f'{remain:.0f}%') if 1 < remain < 99 else print('F') if remain >= 99 else print('E')"
   ]
  },
  {
   "cell_type": "markdown",
   "metadata": {},
   "source": [
    "# How to Test\n",
    "\n",
    "Here’s how to test your code manually:\n",
    "\n",
    "    Run your program with python fuel.py. Type 3/4 and press Enter. Your program should output:\n",
    "\n",
    "    75% \n",
    "\n",
    "    Run your program with python fuel.py. Type 1/4 and press Enter. Your program should output:\n",
    "\n",
    "    25%\n",
    "\n",
    "    Run your program with python fuel.py. Type 4/4 and press Enter. Your program should output:\n",
    "\n",
    "    F\n",
    "\n",
    "    Run your program with python fuel.py. Type 0/4 and press Enter. Your program should output:\n",
    "\n",
    "    E\n",
    "\n",
    "    Run your program with python fuel.py. Type 4/0 and press Enter. Your program should handle a ZeroDivisionError and prompt the user again.\n",
    "    Run your program with python fuel.py. Type three/four and press Enter. Your program should handle a ValueError and prompt the user again.\n",
    "    Run your program with python fuel.py. Type 1.5/3 and press Enter. Your program should handle a ValueError and prompt the user again.\n",
    "    Run your program with python fuel.py. Type 5/4 and press Enter. Your program should prompt the user again.\n",
    "\n",
    "You can execute the below to check your code using check50, a program that CS50 will use to test your code when you submit. But be sure to test it yourself as well!"
   ]
  }
 ],
 "metadata": {
  "kernelspec": {
   "display_name": "Python 3",
   "language": "python",
   "name": "python3"
  },
  "language_info": {
   "codemirror_mode": {
    "name": "ipython",
    "version": 3
   },
   "file_extension": ".py",
   "mimetype": "text/x-python",
   "name": "python",
   "nbconvert_exporter": "python",
   "pygments_lexer": "ipython3",
   "version": "3.10.7"
  }
 },
 "nbformat": 4,
 "nbformat_minor": 2
}
