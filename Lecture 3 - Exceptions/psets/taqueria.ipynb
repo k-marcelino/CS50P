{
 "cells": [
  {
   "cell_type": "markdown",
   "metadata": {},
   "source": [
    "https://cs50.harvard.edu/python/2022/psets/3/taqueria/"
   ]
  },
  {
   "cell_type": "markdown",
   "metadata": {},
   "source": [
    "# Felipe’s Taqueria\n",
    "\n",
    "Note that, as of Wednesday, October 25, 2023 at 12:59 PM GMT-3, the prices of Felipe’s have been updated!\n",
    "\n",
    "Felipe's Taqueria\n",
    "\n",
    "One of the most popular places to eat in Harvard Square is Felipe’s Taqueria, which offers a menu of entrees, per the dict below, wherein the value of each key is a price in dollars:\n"
   ]
  },
  {
   "cell_type": "code",
   "execution_count": 1,
   "metadata": {},
   "outputs": [
    {
     "data": {
      "text/plain": [
       "{'Baja Taco': 4.25,\n",
       " 'Burrito': 7.5,\n",
       " 'Bowl': 8.5,\n",
       " 'Nachos': 11.0,\n",
       " 'Quesadilla': 8.5,\n",
       " 'Super Burrito': 8.5,\n",
       " 'Super Quesadilla': 9.5,\n",
       " 'Taco': 3.0,\n",
       " 'Tortilla Salad': 8.0}"
      ]
     },
     "execution_count": 1,
     "metadata": {},
     "output_type": "execute_result"
    }
   ],
   "source": [
    "{\n",
    "    \"Baja Taco\": 4.25,\n",
    "    \"Burrito\": 7.50,\n",
    "    \"Bowl\": 8.50,\n",
    "    \"Nachos\": 11.00,\n",
    "    \"Quesadilla\": 8.50,\n",
    "    \"Super Burrito\": 8.50,\n",
    "    \"Super Quesadilla\": 9.50,\n",
    "    \"Taco\": 3.00,\n",
    "    \"Tortilla Salad\": 8.00\n",
    "}"
   ]
  },
  {
   "cell_type": "markdown",
   "metadata": {},
   "source": [
    "In a file called taqueria.py, implement a program that enables a user to place an order, prompting them for items, one per line, until the user inputs control-d (which is a common way of ending one’s input to a program). After each inputted item, display the total cost of all items inputted thus far, prefixed with a dollar sign ($) and formatted to two decimal places. Treat the user’s input case insensitively. Ignore any input that isn’t an item. Assume that every item on the menu will be titlecased.\n",
    "\n",
    "### Hints\n",
    "\n",
    "-    Note that you can detect when the user has inputted control-d by catching an EOFError with code like: "
   ]
  },
  {
   "cell_type": "code",
   "execution_count": null,
   "metadata": {},
   "outputs": [],
   "source": [
    "try:\n",
    "    item = input()\n",
    "except EOFError:\n",
    "    ...\n",
    "\n"
   ]
  },
  {
   "cell_type": "markdown",
   "metadata": {},
   "source": [
    "-    You might want to print a new line so that the user’s cursor (and subsequent prompt) doesn’t remain on the same line as your program’s own prompt.\n",
    "-    Inputting control-d does not require inputting Enter as well, and so the user’s cursor (and subsequent prompt) might thus remain on the same line as your program’s own prompt. You can move the user’s cursor to a new line by printing \\n yourself!\n",
    "-    Note that a dict comes with quite a few methods, per docs.python.org/3/library/stdtypes.html#mapping-types-dict, among them get, and supports operations like: "
   ]
  },
  {
   "cell_type": "code",
   "execution_count": null,
   "metadata": {},
   "outputs": [],
   "source": [
    "d[key]"
   ]
  },
  {
   "cell_type": "markdown",
   "metadata": {},
   "source": [
    "and"
   ]
  },
  {
   "cell_type": "code",
   "execution_count": null,
   "metadata": {},
   "outputs": [],
   "source": [
    "if key in d:\n",
    "    ..."
   ]
  },
  {
   "cell_type": "markdown",
   "metadata": {},
   "source": [
    "    wherein d is a dict and key is a str.\n",
    "\n",
    "    \n",
    "-    Be sure to avoid or catch any KeyError."
   ]
  },
  {
   "cell_type": "markdown",
   "metadata": {},
   "source": [
    "# Solution\n",
    "\n",
    "### Adendo:\n",
    "\n",
    "- Control + d é um comando que para o código no terminal, mas não funciona no VSCode, então aqui coloquei um input para parar o código, mas que não está no código final submetido no CS50."
   ]
  },
  {
   "cell_type": "code",
   "execution_count": 3,
   "metadata": {},
   "outputs": [
    {
     "name": "stdout",
     "output_type": "stream",
     "text": [
      "Total: $3.00\n",
      "Total: $6.00\n"
     ]
    }
   ],
   "source": [
    "menu = {\n",
    "    \"Baja Taco\": 4.25,\n",
    "    \"Burrito\": 7.50,\n",
    "    \"Bowl\": 8.50,\n",
    "    \"Nachos\": 11.00,\n",
    "    \"Quesadilla\": 8.50,\n",
    "    \"Super Burrito\": 8.50,\n",
    "    \"Super Quesadilla\": 9.50,\n",
    "    \"Taco\": 3.00,\n",
    "    \"Tortilla Salad\": 8.00\n",
    "}\n",
    "\n",
    "# Control Variable\n",
    "total = 0\n",
    "\n",
    "while True:\n",
    "\n",
    "    # Try to get user input\n",
    "    try:\n",
    "        item = str(input('Item: ')).strip().title()\n",
    "    except EOFError:\n",
    "        print('\\n')\n",
    "        break\n",
    "\n",
    "    # if item == 'D':\n",
    "    #     break\n",
    "\n",
    "    if item in menu:\n",
    "        total += menu[item]\n",
    "        # Print Result\n",
    "        print(f\"Total: ${total:.2f}\")"
   ]
  },
  {
   "cell_type": "markdown",
   "metadata": {},
   "source": [
    "# How to Test\n",
    "\n",
    "Here’s how to test your code manually:\n",
    "\n",
    "-    Run your program with python taqueria.py. Type Taco and press Enter, then type Taco again and press Enter. Your program should output:\n",
    "\n",
    "    Total: $6.00  \n",
    "\n",
    "    and continue prompting the user until they input control-d.\n",
    "-    Run your program with python taqueria.py. Type Baja Taco and press Enter, then type Tortilla Salad and press enter. Your program should output:\n",
    "\n",
    "    Total: $12.25\n",
    "\n",
    "    and continue prompting the user until they input control-d.\n",
    "-    Run your program with python taqueria.py. Type Burger and press Enter. Your program should reprompt the user.\n",
    "\n",
    "Be sure to try other foods and vary the casing of your input. Your program should behave as expected, case-insensitively.\n",
    "\n",
    "You can execute the below to check your code using check50, a program that CS50 will use to test your code when you submit. But be sure to test it yourself as well!"
   ]
  }
 ],
 "metadata": {
  "kernelspec": {
   "display_name": "Python 3",
   "language": "python",
   "name": "python3"
  },
  "language_info": {
   "codemirror_mode": {
    "name": "ipython",
    "version": 3
   },
   "file_extension": ".py",
   "mimetype": "text/x-python",
   "name": "python",
   "nbconvert_exporter": "python",
   "pygments_lexer": "ipython3",
   "version": "3.10.7"
  }
 },
 "nbformat": 4,
 "nbformat_minor": 2
}
