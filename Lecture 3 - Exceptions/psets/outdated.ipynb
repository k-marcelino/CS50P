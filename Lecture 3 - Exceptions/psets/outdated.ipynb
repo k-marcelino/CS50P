{
 "cells": [
  {
   "cell_type": "markdown",
   "metadata": {},
   "source": [
    "https://cs50.harvard.edu/python/2022/psets/3/outdated/\n",
    "\n",
    "https://cs50.harvard.edu/python/2022/notes/3/"
   ]
  },
  {
   "cell_type": "markdown",
   "metadata": {},
   "source": [
    "# Outdated\n",
    "\n",
    "In the United States, dates are typically formatted in month-day-year order (MM/DD/YYYY), otherwise known as middle-endian order, which is arguably bad design. Dates in that format can’t be easily sorted because the date’s year comes last instead of first. Try sorting, for instance, 2/2/1800, 3/3/1900, and 1/1/2000 chronologically in any program (e.g., a spreadsheet). Dates in that format are also ambiguous. Harvard was founded on September 8, 1636, but 9/8/1636 could also be interpreted as August 9, 1636!\n",
    "\n",
    "Fortunately, computers tend to use ISO 8601, an international standard that prescribes that dates should be formatted in year-month-day (YYYY-MM-DD) order, no matter the country, formatting years with four digits, months with two digits, and days with two digits, “padding” each with leading zeroes as needed.\n",
    "\n",
    "In a file called outdated.py, implement a program that prompts the user for a date, anno Domini, in month-day-year order, formatted like 9/8/1636 or September 8, 1636, wherein the month in the latter might be any of the values in the list below:"
   ]
  },
  {
   "cell_type": "code",
   "execution_count": null,
   "metadata": {},
   "outputs": [],
   "source": [
    "[\n",
    "    \"January\",\n",
    "    \"February\",\n",
    "    \"March\",\n",
    "    \"April\",\n",
    "    \"May\",\n",
    "    \"June\",\n",
    "    \"July\",\n",
    "    \"August\",\n",
    "    \"September\",\n",
    "    \"October\",\n",
    "    \"November\",\n",
    "    \"December\"\n",
    "]"
   ]
  },
  {
   "cell_type": "markdown",
   "metadata": {},
   "source": [
    "Then output that same date in YYYY-MM-DD format. If the user’s input is not a valid date in either format, prompt the user again. Assume that every month has no more than 31 days; no need to validate whether a month has 28, 29, 30, or 31 days.\n",
    "\n",
    "### Hints\n",
    "\n",
    "-    Recall that a str comes with quite a few methods, per docs.python.org/3/library/stdtypes.html#string-methods, including split.\n",
    "-    Recall that a list comes with quite a few methods, per docs.python.org/3/tutorial/datastructures.html#more-on-lists, among which is index.\n",
    "-    Note that you can format an int with leading zeroes with code like\n",
    "\n",
    "\n"
   ]
  },
  {
   "cell_type": "code",
   "execution_count": null,
   "metadata": {},
   "outputs": [],
   "source": [
    "print(f\"{n:02}\")\n"
   ]
  },
  {
   "cell_type": "markdown",
   "metadata": {},
   "source": [
    "\n",
    "    wherein, if n is a single digit, it will be prefixed with one 0, per docs.python.org/3/library/string.html#format-string-syntax."
   ]
  },
  {
   "cell_type": "markdown",
   "metadata": {},
   "source": [
    "# Solution"
   ]
  },
  {
   "cell_type": "code",
   "execution_count": null,
   "metadata": {},
   "outputs": [],
   "source": [
    "\"10 December, 1815\",\n",
    "\"October/9/1701\",\n",
    "\"September 8 1636\""
   ]
  },
  {
   "cell_type": "code",
   "execution_count": 1,
   "metadata": {},
   "outputs": [],
   "source": [
    "months =  [\n",
    "    \"January\",\n",
    "    \"February\",\n",
    "    \"March\",\n",
    "    \"April\",\n",
    "    \"May\",\n",
    "    \"June\",\n",
    "    \"July\",\n",
    "    \"August\",\n",
    "    \"September\",\n",
    "    \"October\",\n",
    "    \"November\",\n",
    "    \"December\"\n",
    "]\n",
    "\n",
    "# Not a well designed logic thinking are so many possible errors, I'm just assuming there only 2 types of entrance\n",
    "# and the standard for each is if there is a slash '/' or a comma ','\n",
    "while True:\n",
    "\n",
    "    try:\n",
    "        # Prompting user for date\n",
    "        date = str(input(\"Date: \")).strip()\n",
    "\n",
    "        # Depending the kind of separator transforms slightely different the components\n",
    "        if '/' in date:\n",
    "            m,d,y = date.split('/')\n",
    "            d,m,y = int(d), int(m), int(y)\n",
    "\n",
    "        elif ',' in date:\n",
    "            m,d,y = date.split(' ')\n",
    "            d,m,y = int(d.strip(',')), int(months.index(m.capitalize()) +1), int(y)\n",
    "\n",
    "        # Final check if the days and months are in its known ranges\n",
    "        if 1 <= m <= 12 and 1 <= d <= 31:\n",
    "            break\n",
    "\n",
    "    # Except statement reseting the current loop and prompting user again\n",
    "    except:\n",
    "        pass\n",
    "\n",
    "# Print Result\n",
    "print(f'{y:02}-{m:02}-{d:02}')"
   ]
  },
  {
   "attachments": {
    "image.png": {
     "image/png": "[encoded data removed]"
    }
   },
   "cell_type": "markdown",
   "metadata": {},
   "source": [
    "![image.png](attachment:image.png)"
   ]
  },
  {
   "cell_type": "markdown",
   "metadata": {},
   "source": [
    "# How to Test\n",
    "\n",
    "Here’s how to test your code manually:\n",
    "\n",
    "    Run your program with python outdated.py. Type 9/8/1636 and press Enter. Your program should output:\n",
    "\n",
    "    1636-09-08\n",
    "\n",
    "    Run your program with python outdated.py. Type September 8, 1636 and press Enter. Your program should output:\n",
    "\n",
    "    1636-09-08\n",
    "\n",
    "    Run your program with python outdated.py. Type 23/6/1912 and press Enter. Your program should reprompt the user.\n",
    "    Run your program with python outdated.py. Type December 80, 1980 and press Enter. Your program should reprompt the user.\n",
    "\n",
    "You can execute the below to check your code using check50, a program that CS50 will use to test your code when you submit. But be sure to test it yourself as well!"
   ]
  }
 ],
 "metadata": {
  "kernelspec": {
   "display_name": "Python 3",
   "language": "python",
   "name": "python3"
  },
  "language_info": {
   "codemirror_mode": {
    "name": "ipython",
    "version": 3
   },
   "file_extension": ".py",
   "mimetype": "text/x-python",
   "name": "python",
   "nbconvert_exporter": "python",
   "pygments_lexer": "ipython3",
   "version": "3.10.7"
  }
 },
 "nbformat": 4,
 "nbformat_minor": 2
}
