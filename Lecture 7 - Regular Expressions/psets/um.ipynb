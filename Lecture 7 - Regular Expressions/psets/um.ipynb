{
 "cells": [
  {
   "cell_type": "markdown",
   "metadata": {},
   "source": [
    "https://cs50.harvard.edu/python/2022/psets/7/um/"
   ]
  },
  {
   "cell_type": "markdown",
   "metadata": {},
   "source": [
    "# Regular, um, Expressions\n",
    "\n",
    "It’s not uncommon, in English, at least, to say “um” when trying to, um, think of a word. The more you do it, though, the more noticeable it tends to be!\n",
    "\n",
    "In a file called um.py, implement a function called count that expects a line of text as input as a str and returns, as an int, the number of times that “um” appears in that text, case-insensitively, as a word unto itself, not as a substring of some other word. For instance, given text like hello, um, world, the function should return 1. Given text like yummy, though, the function should return 0.\n",
    "\n",
    "Structure um.py as follows, wherein you’re welcome to modify main and/or implement other functions as you see fit, but you may not import any other libraries. You’re welcome, but not required, to use re and/or sys."
   ]
  },
  {
   "cell_type": "code",
   "execution_count": null,
   "metadata": {},
   "outputs": [],
   "source": [
    "import re\n",
    "import sys\n",
    "\n",
    "\n",
    "def main():\n",
    "    print(count(input(\"Text: \")))\n",
    "\n",
    "\n",
    "def count(s):\n",
    "    ...\n",
    "\n",
    "\n",
    "...\n",
    "\n",
    "\n",
    "if __name__ == \"__main__\":\n",
    "    main()\n"
   ]
  },
  {
   "cell_type": "markdown",
   "metadata": {},
   "source": [
    "Either before or after you implement count in um.py, additionally implement, in a file called test_um.py, three or more functions that collectively test your implementation of count thoroughly, each of whose names should begin with test_ so that you can execute your tests with:"
   ]
  },
  {
   "cell_type": "code",
   "execution_count": null,
   "metadata": {},
   "outputs": [],
   "source": [
    "pytest test_um.py"
   ]
  },
  {
   "cell_type": "markdown",
   "metadata": {},
   "source": [
    "# Hints\n",
    "\n",
    "    Recall that the re module comes with quite a few functions, per docs.python.org/3/library/re.html, including findall.\n",
    "    Recall that regular expressions support quite a few special characters, per docs.python.org/3/library/re.html#regular-expression-syntax.\n",
    "    Because backslashes in regular expressions could be mistaken for escape sequences (like \\n), best to use Python’s raw string notation for regular expression patterns. Just as format strings are prefixed with f, so are raw strings prefixed with r. For instance, instead of \"harvard\\.edu\", use r\"harvard\\.edu\".\n",
    "    Note that \\b is “defined as the boundary between a \\w and a \\W character (or vice versa), or between \\w at the beginning/end of the string,” per docs.python.org/3/library/re.html#regular-expression-syntax.\n",
    "    You might find regex101.com or regexr.com helpful for testing regular expressions (and visualizing matches).\n",
    "    See thefreedictionary.com/words-containing-um for some words that contain “um”.\n"
   ]
  },
  {
   "cell_type": "markdown",
   "metadata": {},
   "source": [
    "# Solution"
   ]
  },
  {
   "cell_type": "code",
   "execution_count": 10,
   "metadata": {},
   "outputs": [],
   "source": [
    "tests = [\n",
    "    'hello, um, world',\n",
    "    'um, hello, um, world',\n",
    "    'um...',\n",
    "    'yum',\n",
    "    'yummy',\n",
    "    'um',\n",
    "    'um?',\n",
    "    'Um, thanks for the album.',\n",
    "    'Um, thanks, um...',\n",
    "]"
   ]
  },
  {
   "cell_type": "markdown",
   "metadata": {},
   "source": [
    "### Checking all tests"
   ]
  },
  {
   "cell_type": "code",
   "execution_count": 19,
   "metadata": {},
   "outputs": [
    {
     "name": "stdout",
     "output_type": "stream",
     "text": [
      "1\n",
      "2\n",
      "1\n",
      "0\n",
      "0\n",
      "1\n",
      "1\n",
      "1\n",
      "2\n"
     ]
    }
   ],
   "source": [
    "import re\n",
    "import sys\n",
    "\n",
    "\n",
    "def main():\n",
    "    # print(count(input(\"Text: \")))\n",
    "    [print(count(test)) for test in tests]\n",
    "\n",
    "\n",
    "def count(s):\n",
    "    return len(re.findall(r\"\\b(um)\\b\", s, re.IGNORECASE))\n",
    "\n",
    "\n",
    "\n",
    "if __name__ == \"__main__\":\n",
    "    main()\n"
   ]
  },
  {
   "cell_type": "markdown",
   "metadata": {},
   "source": [
    "# Final Submission"
   ]
  },
  {
   "cell_type": "code",
   "execution_count": 21,
   "metadata": {},
   "outputs": [
    {
     "name": "stdout",
     "output_type": "stream",
     "text": [
      "1\n"
     ]
    }
   ],
   "source": [
    "import re\n",
    "\n",
    "\n",
    "def main():\n",
    "    print(count(input(\"Text: \")))\n",
    "\n",
    "\n",
    "def count(s):\n",
    "    # Pretty straightforward, just gets the len of all appearances\n",
    "    return len(re.findall(r\"\\b(um)\\b\", s, re.IGNORECASE))\n",
    "\n",
    "\n",
    "if __name__ == \"__main__\":\n",
    "    main()\n"
   ]
  },
  {
   "attachments": {
    "image.png": {
     "image/png": "[encoded data removed]"
    }
   },
   "cell_type": "markdown",
   "metadata": {},
   "source": [
    "![image.png](attachment:image.png)"
   ]
  },
  {
   "cell_type": "markdown",
   "metadata": {},
   "source": [
    "# How to Test\n",
    "\n",
    "### How to Test um.py\n",
    "\n",
    "Here’s how to test um.py manually:\n",
    "\n",
    "    Run your program with python um.py. Ensure your program prompts you for an input. Type um, followed by Enter. Your count function should return 1.\n",
    "    Run your program with python um.py. Type um?, followed by Enter. Your count function should return 1.\n",
    "    Run your program with python um.py. Type Um, thanks for the album., followed by Enter. Your count function should return 1.\n",
    "    Run your program with python um.py. Type Um, thanks, um..., followed by Enter. Your count function should return 2.\n",
    "\n",
    "### How to Test test_um.py\n",
    "\n",
    "To test your tests, run pytest test_um.py. Try to use correct and incorrect versions of um.py to determine how well your tests spot errors:\n",
    "\n",
    "    Ensure you have a correct version of um.py. Run your tests by executing pytest test_um.py. pytest should show that all of your tests have passed.\n",
    "    Modify the count function in the correct version of um.py. count might, for example, mistakently also count any “um” that is part of a word. Run your tests by executing pytest test_um.py. pytest should show that at least one of your tests has failed.\n",
    "    Again modify the count function in the correct version of um.py. count might, for example, mistakenly only match an “um” that is surrounded on either side by a space. Run your tests by executing pytest test_um.py. pytest should show that at least one of your tests has failed.\n"
   ]
  }
 ],
 "metadata": {
  "kernelspec": {
   "display_name": "Python 3",
   "language": "python",
   "name": "python3"
  },
  "language_info": {
   "codemirror_mode": {
    "name": "ipython",
    "version": 3
   },
   "file_extension": ".py",
   "mimetype": "text/x-python",
   "name": "python",
   "nbconvert_exporter": "python",
   "pygments_lexer": "ipython3",
   "version": "3.10.7"
  }
 },
 "nbformat": 4,
 "nbformat_minor": 2
}
