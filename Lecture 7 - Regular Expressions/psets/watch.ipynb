{
 "cells": [
  {
   "cell_type": "markdown",
   "metadata": {},
   "source": [
    "https://cs50.harvard.edu/python/2022/psets/7/watch/"
   ]
  },
  {
   "cell_type": "markdown",
   "metadata": {},
   "source": [
    "# Watch on YouTube\n",
    "\n",
    "It turns out that (most) YouTube videos can be embedded in other websites, just like the above. For instance, if you visit https://youtu.be/xvFZjo5PgG0 on a laptop or desktop, click Share, and then click Embed, you’ll see HTML (the language in which web pages are written) like the below, which you could then copy into your own website’s source code, wherein iframe is an HTML “element,” and src is one of several HTML “attributes” therein, the value of which, between quotes, is https://www.youtube.com/embed/xvFZjo5PgG0."
   ]
  },
  {
   "cell_type": "markdown",
   "metadata": {},
   "source": [
    "<iframe width=\"560\" height=\"315\" src=\"https://www.youtube.com/embed/xvFZjo5PgG0\" title=\"YouTube video player\" frameborder=\"0\" allow=\"accelerometer; autoplay; clipboard-write; encrypted-media; gyroscope; picture-in-picture\" allowfullscreen></iframe>\n",
    "\n",
    "Because some HTML attributes are optional, you could instead minimally embed just the below.\n",
    "\n",
    "<iframe src=\"https://www.youtube.com/embed/xvFZjo5PgG0\"></iframe>\n",
    "\n",
    "Suppose that you’d like to extract the URLs of YouTube videos that are embedded in pages (e.g., https://www.youtube.com/embed/xvFZjo5PgG0), converting them back to shorter, shareable youtu.be URLs (e.g., https://youtu.be/xvFZjo5PgG0) where they can be watched on YouTube itself.\n",
    "\n",
    "In a file called watch.py, implement a function called parse that expects a str of HTML as input, extracts any YouTube URL that’s the value of a src attribute of an iframe element therein, and returns its shorter, shareable youtu.be equivalent as a str. Expect that any such URL will be in one of the formats below. Assume that the value of src will be surrounded by double quotes. And assume that the input will contain no more than one such URL. If the input does not contain any such URL at all, return None.\n",
    "\n",
    "    http://youtube.com/embed/xvFZjo5PgG0\n",
    "    https://youtube.com/embed/xvFZjo5PgG0\n",
    "    https://www.youtube.com/embed/xvFZjo5PgG0\n",
    "\n",
    "Structure watch.py as follows, wherein you’re welcome to modify main and/or implement other functions as you see fit, but you may not import any other libraries. You’re welcome, but not required, to use re and/or sys."
   ]
  },
  {
   "cell_type": "code",
   "execution_count": null,
   "metadata": {},
   "outputs": [],
   "source": [
    "import re\n",
    "import sys\n",
    "\n",
    "\n",
    "def main():\n",
    "    print(parse(input(\"HTML: \")))\n",
    "\n",
    "\n",
    "def parse(s):\n",
    "    ...\n",
    "\n",
    "\n",
    "...\n",
    "\n",
    "\n",
    "if __name__ == \"__main__\":\n",
    "    main()\n"
   ]
  },
  {
   "cell_type": "markdown",
   "metadata": {},
   "source": [
    "# Hints\n",
    "\n",
    "    - Recall that the re module comes with quite a few functions, per docs.python.org/3/library/re.html, including search.\n",
    "    - Recall that regular expressions support quite a few special characters, per docs.python.org/3/library/re.html#regular-expression-syntax.\n",
    "    - Because backslashes in regular expressions could be mistaken for escape sequences (like \\n), best to use Python’s raw string notation for regular expression patterns. Just as format strings are prefixed with f, so are raw strings prefixed with r. For instance, instead of \"harvard\\.edu\", use r\"harvard\\.edu\".\n",
    "    - Note that re.search, if passed a pattern with “capturing groups” (i.e., parentheses), returns a “match object,” per docs.python.org/3/library/re.html#match-objects, wherein matches are 1-indexed, which you can access individually with group, per docs.python.org/3/library/re.html#re.Match.group, or collectively with groups, per docs.python.org/3/library/re.html#re.Match.groups.\n",
    "    Note that * and + are “greedy,” insofar as “they match as much text as possible,” per docs.python.org/3/library/re.html#regular-expression-syntax. Adding ? immediately after either, a la *? or +?, “makes it perform the match in non-greedy or minimal fashion; as few characters as possible will be matched.”\n"
   ]
  },
  {
   "cell_type": "markdown",
   "metadata": {},
   "source": [
    "# Solution"
   ]
  },
  {
   "cell_type": "code",
   "execution_count": 33,
   "metadata": {},
   "outputs": [],
   "source": [
    "tests = [\n",
    "    '<iframe src=\"http://youtube.com/embed/xvFZjo5PgG0\"></iframe>',\n",
    "    '<iframe src=\"https://youtube.com/embed/xvFZjo5PgG0\"></iframe>',\n",
    "    '<iframe src=\"http://www.youtube.com/embed/xvFZjo5PgG0\"></iframe>',\n",
    "    '<iframe width=\"560\" height=\"315\" src=\"https://www.youtube.com/embed/xvFZjo5PgG0\" title=\"YouTube video player\" frameborder=\"0\" allow=\"accelerometer; autoplay; clipboard-write; encrypted-media; gyroscope; picture-in-picture\" allowfullscreen></iframe>',\n",
    "    '<iframe width=\"560\" height=\"315\" src=\"https://cs50.harvard.edu/python\"></iframe>'\n",
    "]"
   ]
  },
  {
   "cell_type": "code",
   "execution_count": 36,
   "metadata": {},
   "outputs": [
    {
     "name": "stdout",
     "output_type": "stream",
     "text": [
      "https://youtu.be/xvFZjo5PgG0\n",
      "https://youtu.be/xvFZjo5PgG0\n",
      "https://youtu.be/xvFZjo5PgG0\n",
      "https://youtu.be/xvFZjo5PgG0\n",
      "None\n"
     ]
    }
   ],
   "source": [
    "import re\n",
    "import sys\n",
    "\n",
    "\n",
    "def main():\n",
    "    # print(parse(input(\"HTML: \")))\n",
    "    [print(parse(test)) for test in tests]\n",
    "\n",
    "\n",
    "def parse(s):\n",
    "    prefix = \"https://youtu.be/\"\n",
    "    if matched := re.search(r'src=\"https?://(?:www\\.)?you.+bed/(.+?)\"', s):\n",
    "        return prefix + matched.group(1)\n",
    "\n",
    "\n",
    "if __name__ == \"__main__\":\n",
    "    main()\n"
   ]
  },
  {
   "cell_type": "markdown",
   "metadata": {},
   "source": [
    "# Solution Submitted"
   ]
  },
  {
   "cell_type": "code",
   "execution_count": null,
   "metadata": {},
   "outputs": [],
   "source": [
    "import re\n",
    "import sys\n",
    "\n",
    "\n",
    "def main():\n",
    "    print(parse(input(\"HTML: \")))\n",
    "\n",
    "\n",
    "def parse(s):\n",
    "    prefix = \"https://youtu.be/\"\n",
    "    if matched := re.search(r'src=\"https?://(?:www\\.)?you.+bed/(.+?)\"', s):\n",
    "        return prefix + matched.group(1)\n",
    "\n",
    "\n",
    "if __name__ == \"__main__\":\n",
    "    main()"
   ]
  },
  {
   "cell_type": "markdown",
   "metadata": {},
   "source": [
    "# How to Test\n",
    "\n",
    "Here’s how to test your code manually:\n",
    "\n",
    "    Run your program with python watch.py. Ensure your program prompts you for HTML, then copy/paste the below:\n",
    "\n",
    "    <iframe src=\"http://www.youtube.com/embed/xvFZjo5PgG0\"></iframe>\n",
    "\n",
    "    Press enter and your program should output https://youtu.be/xvFZjo5PgG0. Notice how, though the src attribute is prefixed with http://www.youtube.com/embed/, the resulting link is prefixed with https://youtu.be/.\n",
    "    Run your program with python watch.py. Ensure your program prompts you for HTML, then copy/paste the below:\n",
    "\n",
    "    <iframe width=\"560\" height=\"315\" src=\"https://www.youtube.com/embed/xvFZjo5PgG0\" title=\"YouTube video player\" frameborder=\"0\" allow=\"accelerometer; autoplay; clipboard-write; encrypted-media; gyroscope; picture-in-picture\" allowfullscreen></iframe>\n",
    "\n",
    "    Press enter and your program should still output https://youtu.be/xvFZjo5PgG0.\n",
    "    Run your program with python watch.py. Ensure your program prompts you for HTML, then copy/paste the below:\n",
    "\n",
    "    <iframe width=\"560\" height=\"315\" src=\"https://cs50.harvard.edu/python\"></iframe>\n",
    "\n",
    "    Press enter and your program should output None. Notice how the src attribute doesn’t point to a YouTube link!\n"
   ]
  }
 ],
 "metadata": {
  "kernelspec": {
   "display_name": "Python 3",
   "language": "python",
   "name": "python3"
  },
  "language_info": {
   "codemirror_mode": {
    "name": "ipython",
    "version": 3
   },
   "file_extension": ".py",
   "mimetype": "text/x-python",
   "name": "python",
   "nbconvert_exporter": "python",
   "pygments_lexer": "ipython3",
   "version": "3.10.7"
  }
 },
 "nbformat": 4,
 "nbformat_minor": 2
}
