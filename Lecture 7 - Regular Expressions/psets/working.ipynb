{
 "cells": [
  {
   "cell_type": "markdown",
   "metadata": {},
   "source": [
    "https://cs50.harvard.edu/python/2022/psets/7/working/"
   ]
  },
  {
   "cell_type": "markdown",
   "metadata": {},
   "source": [
    "Working 9 to 5\n",
    "\n",
    "Whereas most countries use a 24-hour clock, the United States tends to use a 12-hour clock. Accordingly, instead of “09:00 to 17:00”, many Americans would say they work “9:00 AM to 5:00 PM” (or “9 AM to 5 PM”), wherein “AM” is an abbreviation for “ante meridiem” and “PM” is an abbreviation for “post meridiem”, wherein “meridiem” means midday (i.e., noon).\n",
    "Conversion Table\n",
    "\n",
    "Just as “12:00 AM” in 12-hour format would be “00:00” in 24-hour format, so would “12:01 AM” through “12:59 AM” be “00:01” through “00:59”, respectively.\n",
    "\n",
    "    12-Hour     12:00 AM\n",
    "    24-Hour     00:00\n",
    "    12-Hour     1:00 AM\n",
    "    24-Hour     01:00\n",
    "    12-Hour     2:00 AM\n",
    "    24-Hour     02:00\n",
    "    12-Hour     3:00 AM\n",
    "    24-Hour     03:00\n",
    "    12-Hour     4:00 AM\n",
    "    24-Hour     04:00\n",
    "    12-Hour     5:00 AM\n",
    "    24-Hour     05:00\n",
    "    12-Hour     6:00 AM\n",
    "    24-Hour     06:00\n",
    "    12-Hour     7:00 AM\n",
    "    24-Hour     07:00\n",
    "    12-Hour     8:00 AM\n",
    "    24-Hour     08:00\n",
    "    12-Hour     9:00 AM\n",
    "    24-Hour     09:00\n",
    "    12-Hour     10:00 AM\n",
    "    24-Hour     10:00\n",
    "    12-Hour     11:00 AM\n",
    "    24-Hour     11:00\n",
    "    12-Hour     12:00 PM\n",
    "    24-Hour     12:00\n",
    "    12-Hour     1:00 PM\n",
    "    24-Hour     13:00\n",
    "    12-Hour     2:00 PM\n",
    "    24-Hour     14:00\n",
    "    12-Hour     3:00 PM\n",
    "    24-Hour     15:00\n",
    "    12-Hour     4:00 PM\n",
    "    24-Hour     16:00\n",
    "    12-Hour     5:00 PM\n",
    "    24-Hour     17:00\n",
    "    12-Hour     6:00 PM\n",
    "    24-Hour     18:00\n",
    "    12-Hour     7:00 PM\n",
    "    24-Hour     19:00\n",
    "    12-Hour     8:00 PM\n",
    "    24-Hour     20:00\n",
    "    12-Hour     9:00 PM\n",
    "    24-Hour     21:00\n",
    "    12-Hour     10:00 PM\n",
    "    24-Hour     22:00\n",
    "    12-Hour     11:00 PM\n",
    "    24-Hour     23:00\n",
    "    12-Hour     12:00 AM\n",
    "    24-Hour     00:00\n",
    "\n",
    "In a file called working.py, implement a function called convert that expects a str in either of the 12-hour formats below and returns the corresponding str in 24-hour format (i.e., 9:00 to 17:00). Expect that AM and PM will be capitalized (with no periods therein) and that there will be a space before each. Assume that these times are representative of actual times, not necessarily 9:00 AM and 5:00 PM specifically.\n",
    "\n",
    "    9:00 AM to 5:00 PM\n",
    "    9 AM to 5 PM\n",
    "\n",
    "Raise a ValueError instead if the input to convert is not in either of those formats or if either time is invalid (e.g., 12:60 AM, 13:00 PM, etc.). But do not assume that someone’s hours will start ante meridiem and end post meridiem; someone might work late and even long hours (e.g., 5:00 PM to 9:00 AM).\n",
    "\n",
    "Structure working.py as follows, wherein you’re welcome to modify main and/or implement other functions as you see fit, but you may not import any other libraries. You’re welcome, but not required, to use re and/or sys."
   ]
  },
  {
   "cell_type": "code",
   "execution_count": null,
   "metadata": {},
   "outputs": [],
   "source": [
    "import re\n",
    "import sys\n",
    "\n",
    "\n",
    "def main():\n",
    "    print(convert(input(\"Hours: \")))\n",
    "\n",
    "\n",
    "def convert(s):\n",
    "    ...\n",
    "\n",
    "\n",
    "...\n",
    "\n",
    "\n",
    "if __name__ == \"__main__\":\n",
    "    main()\n"
   ]
  },
  {
   "cell_type": "markdown",
   "metadata": {},
   "source": [
    "Either before or after you implement convert in working.py, additionally implement, in a file called test_working.py, three or more functions that collectively test your implementation of convert thoroughly, each of whose names should begin with test_ so that you can execute your tests with:"
   ]
  },
  {
   "cell_type": "code",
   "execution_count": null,
   "metadata": {},
   "outputs": [],
   "source": [
    "pytest test_working.py"
   ]
  },
  {
   "cell_type": "markdown",
   "metadata": {},
   "source": [
    "# Hints\n",
    "\n",
    "- Recall that the re module comes with quite a few functions, per docs.python.org/3/library/re.html, including search.\n",
    "- Recall that regular expressions support quite a few special characters, per docs.python.org/3/library/re.html#regular-expression-syntax.\n",
    "- Because backslashes in regular expressions could be mistaken for escape sequences (like \\n), best to use Python’s raw string notation for regular expression patterns, else pytest will warn with DeprecationWarning: invalid escape sequence. Just as format strings are prefixed with f, so are raw strings prefixed with r. For instance, instead of \"harvard\\.edu\", use r\"harvard\\.edu\".\n",
    "- Note that re.search, if passed a pattern with “capturing groups” (i.e., parentheses), returns a “match object,” per docs.python.org/3/library/re.html#match-objects, wherein matches are 1-indexed, which you can access individually with group, per docs.python.org/3/library/re.html#re.Match.group, or collectively with groups, per docs.python.org/3/library/re.html#re.Match.groups.\n",
    "Note that you can format an int with leading zeroes with code like\n",
    "\n",
    "    print(f\"{n:02}\")\n",
    "\n",
    "    wherein, if n is a single digit, it will be prefixed with one 0, per docs.python.org/3/library/string.html#format-string-syntax.\n"
   ]
  },
  {
   "cell_type": "markdown",
   "metadata": {},
   "source": [
    "# Solution"
   ]
  },
  {
   "cell_type": "code",
   "execution_count": 184,
   "metadata": {},
   "outputs": [],
   "source": [
    "tests = [\n",
    "    '9 AM to 5 PM', \n",
    "    '9:00 AM to 5:00 PM', \n",
    "    '9 AM to 5:30 PM'\n",
    "    '10 PM to 8 AM', \n",
    "    '10:30 PM to 8:50 AM',\n",
    "    '9:60 AM to 5:60 PM',\n",
    "    '9 AM - 5 PM',\n",
    "    '09:00 AM - 17:00 PM',\n",
    "    '0 AM - 17:00 PM',\n",
    "    '12 AM to 12 PM'\n",
    "]"
   ]
  },
  {
   "cell_type": "markdown",
   "metadata": {},
   "source": [
    "### Testing regex"
   ]
  },
  {
   "cell_type": "code",
   "execution_count": 182,
   "metadata": {},
   "outputs": [
    {
     "name": "stdout",
     "output_type": "stream",
     "text": [
      "[('10', '', 'PM', '8', '', 'AM')]\n"
     ]
    }
   ],
   "source": [
    "import re\n",
    "import sys\n",
    "\n",
    "\n",
    "def main():\n",
    "    # print(convert(input(\"Hours: \")))\n",
    "    [print(convert(test)) for test in tests]\n",
    "\n",
    "\n",
    "def convert(s):\n",
    "    return re.findall(r\"^(\\d{1,2}):?(\\d{0,2})\\s(AM|PM)\\sto\\s(\\d{1,2}):?(\\d{0,2})\\s(AM|PM)\", s)\n",
    "\n",
    "\n",
    "\n",
    "if __name__ == \"__main__\":\n",
    "    main()\n"
   ]
  },
  {
   "cell_type": "markdown",
   "metadata": {},
   "source": [
    "### Testing inputs"
   ]
  },
  {
   "cell_type": "code",
   "execution_count": 190,
   "metadata": {},
   "outputs": [
    {
     "name": "stdout",
     "output_type": "stream",
     "text": [
      "09:00 to 17:00\n",
      "09:00 to 17:00\n",
      "09:00 to 17:30\n",
      "22:30 to 08:50\n",
      "None\n",
      "None\n",
      "None\n",
      "None\n",
      "00:00 to 12:00\n"
     ]
    }
   ],
   "source": [
    "import re\n",
    "import sys\n",
    "\n",
    "\n",
    "def main():\n",
    "    \n",
    "    # print(convert(input(\"Hours: \")))\n",
    "    [print(convert(test)) for test in tests]\n",
    "\n",
    "\n",
    "def convert(s):\n",
    "    try:\n",
    "        if matches := re.search(r\"^(\\d{1,2}):?(\\d{0,2})\\s(AM|PM)\\sto\\s(\\d{1,2}):?(\\d{0,2})\\s(AM|PM)\", s):\n",
    "            h1, m1, p1, h2, m2, p2 = matches.groups()\n",
    "            m1, m2 = map(lambda x: \"0\" if x == \"\" else x, [m1, m2])\n",
    "            h1, m1, h2, m2 = map(int, [h1, m1, h2, m2])\n",
    "\n",
    "            # Checking if the hours and minutes are out of the right ranges i.e. hours more than 12 and minutes >= 60\n",
    "            if (0 <= h1 > 12) or (0 <= h2 > 12) or (0 <= m1 >= 60) or (0 <= m2 >= 60):\n",
    "                raise ValueError\n",
    "            \n",
    "            # Ajusting hours accordingly to the period\n",
    "            h1 = transform_hours(h1, p1)\n",
    "            h2 = transform_hours(h2, p2)\n",
    "\n",
    "\n",
    "            return f\"{h1:02}:{m1:02} to {h2:02}:{m2:02}\"\n",
    "        \n",
    "        # Uncomment the raise's bellow, also comment the \"pass\" line to simulate the real behavior\n",
    "        # I made this way so the code won't stop\n",
    "        \n",
    "        # else:\n",
    "        #     raise ValueError\n",
    "\n",
    "    except (ValueError):\n",
    "    #     raise\n",
    "        pass\n",
    "\n",
    "\n",
    "def transform_hours(h, p):\n",
    "    # Checks conditions to add 12 to the number\n",
    "    if ((p == \"PM\") and (h != 12)) or ((p == \"AM\") and (h == 12)):\n",
    "        # Using module operator to force the answer to be at maximum 23\n",
    "        return (h+ 12)%24\n",
    "    else:\n",
    "        return h\n",
    "\n",
    "\n",
    "if __name__ == \"__main__\":\n",
    "    main()\n"
   ]
  },
  {
   "cell_type": "markdown",
   "metadata": {},
   "source": [
    "# Final Submission\n"
   ]
  },
  {
   "cell_type": "code",
   "execution_count": null,
   "metadata": {},
   "outputs": [],
   "source": [
    "import re\n",
    "\n",
    "\n",
    "def main():\n",
    "    print(convert(input(\"Hours: \")))\n",
    "\n",
    "\n",
    "def convert(s):\n",
    "    try:\n",
    "        if matches := re.search(r\"^(\\d{1,2}):?(\\d{0,2})\\s(AM|PM)\\sto\\s(\\d{1,2}):?(\\d{0,2})\\s(AM|PM)\", s):\n",
    "            h1, m1, p1, h2, m2, p2 = matches.groups()\n",
    "            m1, m2 = map(lambda x: \"0\" if x == \"\" else x, [m1, m2])\n",
    "            h1, m1, h2, m2 = map(int, [h1, m1, h2, m2])\n",
    "\n",
    "            # Checking if the hours and minutes are out of the right ranges i.e. hours more than 12 and minutes >= 60\n",
    "            if (0 <= h1 > 12) or (0 <= h2 > 12) or (0 <= m1 >= 60) or (0 <= m2 >= 60):\n",
    "                raise ValueError\n",
    "\n",
    "            # Ajusting hours accordingly to the period\n",
    "            h1 = transform_hours(h1, p1)\n",
    "            h2 = transform_hours(h2, p2)\n",
    "\n",
    "\n",
    "            return f\"{h1:02}:{m1:02} to {h2:02}:{m2:02}\"\n",
    "\n",
    "        else:\n",
    "            raise ValueError\n",
    "\n",
    "    except (ValueError):\n",
    "        raise\n",
    "\n",
    "\n",
    "def transform_hours(h, p):\n",
    "    # Checks conditions to add 12 to the number\n",
    "    if ((p == \"PM\") and (h != 12)) or ((p == \"AM\") and (h == 12)):\n",
    "        # Using module operator to force the answer to be at maximum 23\n",
    "        return (h+ 12)%24\n",
    "    else:\n",
    "        return h\n",
    "\n",
    "\n",
    "if __name__ == \"__main__\":\n",
    "    main()\n"
   ]
  },
  {
   "attachments": {
    "image.png": {
     "image/png": "[encoded data removed]"
    }
   },
   "cell_type": "markdown",
   "metadata": {},
   "source": [
    "![image.png](attachment:image.png)"
   ]
  },
  {
   "cell_type": "markdown",
   "metadata": {},
   "source": [
    "# How to Test\n",
    "\n",
    "### How to Test working.py\n",
    "\n",
    "Here’s how to test working.py manually:\n",
    "\n",
    "    Run your program with python working.py. Ensure your program prompts you for a time. Type 9 AM to 5 PM, followed by Enter. Your program should output 09:00 to 17:00.\n",
    "    Run your program with python working.py. Type 9:00 AM to 5:00 PM, followed by Enter. Your program should again output 09:00 to 17:00.\n",
    "    Run your program with python working.py. Ensure your program prompts you for a time. Type 10 PM to 8 AM, followed by Enter. Your program should output 22:00 to 08:00.\n",
    "    Run your program with python working.py. Ensure your program prompts you for a time. Type 10:30 PM to 8:50 AM, followed by Enter. Your program should again output 22:30 to 08:50.\n",
    "    Run your program with python working.py. Ensure your program prompts you for a time. Try intentionally inducing a ValueError by typing 9:60 AM to 5:60 PM, followed by Enter. Your program should indeed raise a ValueError.\n",
    "    Run your program with python working.py. Ensure your program prompts you for a time. Try intentionally inducing a ValueError by typing 9 AM - 5 PM, followed by Enter. Your program should indeed raise a ValueError.\n",
    "    Run your program with python working.py. Ensure your program prompts you for a time. Try intentionally inducing a ValueError by typing 09:00 AM - 17:00 PM, followed by Enter. Your program should indeed raise a ValueError.\n",
    "\n",
    "### How to Test test_working.py\n",
    "\n",
    "To test your tests, run pytest test_working.py. Try to use correct and incorrect versions of working.py to determine how well your tests spot errors:\n",
    "\n",
    "    Ensure you have a correct version of working.py. Run your tests by executing pytest test_working.py. pytest should show that all of your tests have passed.\n",
    "    Modify the correct version of working.py, particularly its function convert. Your program might, for example, fail to raise a ValueError when it should. Run your tests by executing pytest test_working.py. pytest should show that at least one of your tests has failed.\n",
    "    Similarly, modify the correct version of working.py, changing the return values of convert. Your program might, for example, mistakenly omit minutes. Run your tests by executing pytest test_working.py. pytest should show that at least one of your tests has failed.\n"
   ]
  }
 ],
 "metadata": {
  "kernelspec": {
   "display_name": "Python 3",
   "language": "python",
   "name": "python3"
  },
  "language_info": {
   "codemirror_mode": {
    "name": "ipython",
    "version": 3
   },
   "file_extension": ".py",
   "mimetype": "text/x-python",
   "name": "python",
   "nbconvert_exporter": "python",
   "pygments_lexer": "ipython3",
   "version": "3.10.7"
  }
 },
 "nbformat": 4,
 "nbformat_minor": 2
}
