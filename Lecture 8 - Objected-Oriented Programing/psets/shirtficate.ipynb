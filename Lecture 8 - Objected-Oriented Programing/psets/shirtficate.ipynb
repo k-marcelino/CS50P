{
 "cells": [
  {
   "cell_type": "markdown",
   "metadata": {},
   "source": [
    "https://cs50.harvard.edu/python/2022/psets/8/shirtificate/"
   ]
  },
  {
   "cell_type": "markdown",
   "metadata": {},
   "source": [
    "Suppose that you’d like to implement a CS50 “shirtificate,” a PDF with an image of an I took CS50 t-shirt, shirtificate.png, customized with a user’s own name.\n",
    "\n",
    "In a file called shirtificate.py, implement a program that prompts the user for their name and outputs, using fpdf2, a CS50 shirtificate in a file called shirtificate.pdf similar to this one for John Harvard, with these specifications:\n",
    "\n",
    "    The orientation of the PDF should be Portrait.\n",
    "    The format of the PDF should be A4, which is 210mm wide by 297mm tall.\n",
    "    The top of the PDF should say “CS50 Shirtificate” as text, centered horizontally.\n",
    "    The shirt’s image should be centered horizontally.\n",
    "    The user’s name should be on top of the shirt, in white text.\n",
    "\n",
    "All other details we leave to you. You’re even welcome to add borders, colors, and lines. Your shirtificate needn’t match John Harvard’s precisely. And no need to wrap long names across multiple lines.\n",
    "\n",
    "Before writing any code, do read through fpdf2’s tutorial to learn how to use it. Then skim fpdf2’s API (application programming interface) to see all of its functions and parameters therefor.\n",
    "\n",
    "No need to submit any PDFs with your code. But, if you would like, you’re welcome (but not expected) to share a shirtificate with your name on it in any of CS50’s communities!"
   ]
  },
  {
   "cell_type": "markdown",
   "metadata": {},
   "source": [
    "# Hints\n",
    "\n",
    "    Note that fpdf2 comes with a class called FPDF, which has quite a few methods, per py-pdf.github.io/fpdf2/fpdf/#fpdf.FPDF. You can install it with:\n",
    "\n",
    "    pip install fpdf2\n",
    "\n",
    "    Note that you can extend FPDF and instantiate your own subclass thereof in order to add a header to every page of a PDF, per py-pdf.github.io/fpdf2/Tutorial.html#tuto-2-header-footer-page-break-and-image. Or you can add it as text yourself.\n",
    "    Note that you can disable automatic page breaks, which might otherwise cause your PDF to overflow from one page to two, with set_auto_page_break, per py-pdf.github.io/fpdf2/Margins.html.\n",
    "    Note that a cell’s height can be negative, to move it upward.\n",
    "    You can open shirtificate.pdf, once outputted, by clicking it in VS Code’s file explorer.\n"
   ]
  },
  {
   "cell_type": "markdown",
   "metadata": {},
   "source": [
    "# Solution"
   ]
  },
  {
   "cell_type": "code",
   "execution_count": 6,
   "metadata": {},
   "outputs": [],
   "source": [
    "# pip install fpdf2\n",
    "\n",
    "# Run the command bellow in the terminal to get the shirt png\n",
    "# wget https://cs50.harvard.edu/python/2022/psets/8/shirtificate/shirtificate.png\n",
    "\n",
    "# Or this one in a cell:\n",
    "# import wget\n",
    "# wget.download('https://cs50.harvard.edu/python/2022/psets/8/shirtificate/shirtificate.png')"
   ]
  },
  {
   "cell_type": "code",
   "execution_count": 8,
   "metadata": {},
   "outputs": [],
   "source": [
    "# Test\n",
    "# from fpdf import FPDF\n",
    "\n",
    "# pdf = FPDF(orientation=\"P\", unit=\"mm\", format=\"A4\")\n",
    "# pdf.add_page()\n",
    "# pdf.set_font(\"helvetica\", \"B\", 16)\n",
    "# pdf.cell(40, 10, \"Hello World!\")\n",
    "# pdf.output(\"tuto1.pdf\")"
   ]
  },
  {
   "cell_type": "code",
   "execution_count": 77,
   "metadata": {},
   "outputs": [],
   "source": [
    "from fpdf import FPDF\n",
    "\n",
    "def main():\n",
    "    # I could have made more dinamic and separated into functions, but decided to keep it simple to attend the final goal\n",
    "    name = str(input(\"Name: \"))\n",
    "\n",
    "    # Defining Page Settings\n",
    "    pdf = PDF(orientation=\"P\", unit=\"mm\", format=\"A4\")\n",
    "    pdf.set_auto_page_break(False)\n",
    "    pdf.add_page()\n",
    "    pdf.set_margin(0)\n",
    "\n",
    "    # Getting Image\n",
    "    pdf.image('https://cs50.harvard.edu/python/2022/psets/8/shirtificate/shirtificate.png', alt_text=\"shirt\", h=190, x=10)\n",
    "\n",
    "    # Writing final message into the shirt\n",
    "    pdf.set_text_color(255,255,255)\n",
    "    pdf.set_font(\"helvetica\", \"\", 20)\n",
    "    pdf.cell(0, -250, f\"{name} took CS50\", align=\"C\")\n",
    "\n",
    "    # Exporting pdf\n",
    "    pdf.output(\"shirtificate.pdf\")\n",
    "\n",
    "# Extending PDF classs\n",
    "class PDF(FPDF):\n",
    "    def header(self):\n",
    "        self.set_font(\"helvetica\", \"\", 48)\n",
    "        self.cell(0, 35, \"CS50 Shirtificate\", align='C')\n",
    "        self.ln(45)\n",
    "    \n",
    "\n",
    "if __name__ == \"__main__\":\n",
    "    main()"
   ]
  },
  {
   "cell_type": "markdown",
   "metadata": {},
   "source": [
    "# How to Test\n",
    "\n",
    "Here’s how to test your code manually:\n",
    "\n",
    "    Run your program with shirtificate.py. Make sure your program prompts you for a name. Enter your own name and press Enter. Your program should create a file, shirtificate.pdf, containing the name you entered as input overlaid on a rendering of shirtificate.png.\n",
    "    Try a few other names for good measure, too!\n"
   ]
  }
 ],
 "metadata": {
  "kernelspec": {
   "display_name": "Python 3",
   "language": "python",
   "name": "python3"
  },
  "language_info": {
   "codemirror_mode": {
    "name": "ipython",
    "version": 3
   },
   "file_extension": ".py",
   "mimetype": "text/x-python",
   "name": "python",
   "nbconvert_exporter": "python",
   "pygments_lexer": "ipython3",
   "version": "3.10.7"
  }
 },
 "nbformat": 4,
 "nbformat_minor": 2
}
