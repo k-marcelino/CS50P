{
 "cells": [
  {
   "cell_type": "code",
   "execution_count": null,
   "metadata": {},
   "outputs": [],
   "source": [
    "https://cs50.harvard.edu/python/2022/psets/8/jar/"
   ]
  },
  {
   "cell_type": "markdown",
   "metadata": {},
   "source": [
    "Suppose that you’d like to implement a cookie jar in which to store cookies. In a file called jar.py, implement a class called Jar with these methods:\n",
    "\n",
    "    __init__ should initialize a cookie jar with the given capacity, which represents the maximum number of cookies that can fit in the cookie jar. If capacity is not a non-negative int, though, __init__ should instead raise a ValueError.\n",
    "    __str__ should return a str with \n",
    "\n",
    "🍪, where\n",
    "\n",
    "    is the number of cookies in the cookie jar. For instance, if there are 3 cookies in the cookie jar, then str should return \"🍪🍪🍪\"\n",
    "    deposit should add n cookies to the cookie jar. If adding that many would exceed the cookie jar’s capacity, though, deposit should instead raise a ValueError.\n",
    "    withdraw should remove n cookies from the cookie jar. Nom nom nom. If there aren’t that many cookies in the cookie jar, though, withdraw should instead raise a ValueError.\n",
    "    capacity should return the cookie jar’s capacity.\n",
    "    size should return the number of cookies actually in the cookie jar, initially 0.\n",
    "\n",
    "Structure your class per the below. You may not alter these methods’ parameters, but you may add your own methods."
   ]
  },
  {
   "cell_type": "code",
   "execution_count": null,
   "metadata": {},
   "outputs": [],
   "source": [
    "class Jar:\n",
    "    def __init__(self, capacity=12):\n",
    "        ...\n",
    "\n",
    "    def __str__(self):\n",
    "        ...\n",
    "\n",
    "    def deposit(self, n):\n",
    "        ...\n",
    "\n",
    "    def withdraw(self, n):\n",
    "        ...\n",
    "\n",
    "    @property\n",
    "    def capacity(self):\n",
    "        ...\n",
    "\n",
    "    @property\n",
    "    def size(self):\n",
    "        ...\n"
   ]
  },
  {
   "cell_type": "markdown",
   "metadata": {},
   "source": [
    "Either before or after you implement jar.py, additionally implement, in a file called test_jar.py, four or more functions that collectively test your implementation of Jar thoroughly, each of whose names should begin with test_ so that you can execute your tests with:"
   ]
  },
  {
   "cell_type": "code",
   "execution_count": null,
   "metadata": {},
   "outputs": [],
   "source": [
    "pytest test_jar.py"
   ]
  },
  {
   "cell_type": "markdown",
   "metadata": {},
   "source": [
    "Note that it’s not as easy to test instance methods as it is to test functions alone, since instance methods sometimes manipulate the same “state” (i.e., instance variables). To test one method (e.g., withdraw), then, you might need to call another method first (e.g., deposit). But the method you call first might itself not be correct!\n",
    "\n",
    "And so programmers sometimes mock (i.e., simulate) state when testing methods, as with Python’s own mock object library, so that you can call just the one method but modify the underlying state first, without calling the other method to do so.\n",
    "\n",
    "For simplicity, though, no need to mock any state. Implement your tests as you normally would!\n",
    "\n",
    "# Hints"
   ]
  },
  {
   "cell_type": "code",
   "execution_count": null,
   "metadata": {},
   "outputs": [],
   "source": [
    "from jar import Jar\n",
    "\n",
    "\n",
    "def test_init():\n",
    "    ...\n",
    "\n",
    "\n",
    "def test_str():\n",
    "    jar = Jar()\n",
    "    assert str(jar) == \"\"\n",
    "    jar.deposit(1)\n",
    "    assert str(jar) == \"🍪\"\n",
    "    jar.deposit(11)\n",
    "    assert str(jar) == \"🍪🍪🍪🍪🍪🍪🍪🍪🍪🍪🍪🍪\"\n",
    "\n",
    "\n",
    "def test_deposit():\n",
    "    ...\n",
    "\n",
    "\n",
    "def test_withdraw():\n",
    "    ...\n"
   ]
  },
  {
   "cell_type": "markdown",
   "metadata": {},
   "source": [
    "# Solutions"
   ]
  },
  {
   "attachments": {
    "image.png": {
     "image/png": "[encoded data removed]"
    }
   },
   "cell_type": "markdown",
   "metadata": {},
   "source": [
    "![image.png](attachment:image.png)"
   ]
  },
  {
   "cell_type": "code",
   "execution_count": 89,
   "metadata": {},
   "outputs": [
    {
     "name": "stdout",
     "output_type": "stream",
     "text": [
      "🍪🍪🍪🍪🍪\n",
      "🍪🍪🍪🍪🍪🍪🍪🍪🍪🍪\n",
      "🍪\n"
     ]
    }
   ],
   "source": [
    "class Jar:\n",
    "    def __init__(self, capacity=12):\n",
    "        self.capacity = capacity\n",
    "        self.size = 0\n",
    "\n",
    "    def __str__(self):\n",
    "        return '🍪' * self.size\n",
    "\n",
    "    def deposit(self, n):\n",
    "        self.size += n\n",
    "        return self.size\n",
    "\n",
    "    def withdraw(self, n):\n",
    "        self.size -= n\n",
    "        return self.size\n",
    "\n",
    "\n",
    "    @property\n",
    "    def capacity(self):\n",
    "        return self._capacity\n",
    "\n",
    "    @capacity.setter\n",
    "    def capacity(self, capacity):\n",
    "        if capacity < 1:\n",
    "            raise ValueError(\"capacity must be at least 1\")\n",
    "        self._capacity = capacity\n",
    "\n",
    "\n",
    "    @property\n",
    "    def size(self):\n",
    "        return self._size\n",
    "\n",
    "    @size.setter\n",
    "    def size(self, size):\n",
    "        if size > self.capacity:\n",
    "            raise ValueError(\"Overload of capacity\")\n",
    "        elif size < 0:\n",
    "            raise ValueError(\"There aren't enough cookies\")\n",
    "        self._size = size\n",
    "\n",
    "    # Funtion to sum different instaciated jar objects\n",
    "    def __add__(self, other):\n",
    "        # I Coul've done some condition to enlarge the capacity if it overloads, but I decided to keep it simple\n",
    "        size = self.size + other.size\n",
    "        other_jar = Jar()\n",
    "        other_jar.deposit(size)\n",
    "        return other_jar\n",
    "\n",
    "\n",
    "def main():\n",
    "    jar = Jar()\n",
    "    jar.deposit(5)\n",
    "    print(jar)\n",
    "    jar.deposit(5)\n",
    "    print(jar)\n",
    "    # jar.deposit(8)\n",
    "    # print(jar)\n",
    "    jar.withdraw(9)\n",
    "    print(jar)\n",
    "    # jar.withdraw(2)\n",
    "    # print(jar)\n",
    "\n",
    "if __name__ == '__main__':\n",
    "    main()"
   ]
  },
  {
   "cell_type": "code",
   "execution_count": 90,
   "metadata": {},
   "outputs": [
    {
     "data": {
      "text/plain": [
       "<__main__.Jar at 0x1daeca2b8b0>"
      ]
     },
     "execution_count": 90,
     "metadata": {},
     "output_type": "execute_result"
    }
   ],
   "source": [
    "jar = Jar()\n",
    "jar"
   ]
  },
  {
   "cell_type": "code",
   "execution_count": 91,
   "metadata": {},
   "outputs": [
    {
     "name": "stdout",
     "output_type": "stream",
     "text": [
      "\n"
     ]
    }
   ],
   "source": [
    "print(jar)"
   ]
  },
  {
   "cell_type": "code",
   "execution_count": 92,
   "metadata": {},
   "outputs": [
    {
     "name": "stdout",
     "output_type": "stream",
     "text": [
      "🍪🍪🍪🍪🍪\n"
     ]
    }
   ],
   "source": [
    "jar2 = Jar()\n",
    "jar2.deposit(5)\n",
    "print(jar2)"
   ]
  },
  {
   "cell_type": "code",
   "execution_count": 93,
   "metadata": {},
   "outputs": [
    {
     "name": "stdout",
     "output_type": "stream",
     "text": [
      "🍪🍪\n"
     ]
    }
   ],
   "source": [
    "jar.deposit(2)\n",
    "print(jar)"
   ]
  },
  {
   "cell_type": "code",
   "execution_count": 94,
   "metadata": {},
   "outputs": [
    {
     "name": "stdout",
     "output_type": "stream",
     "text": [
      "🍪🍪🍪🍪🍪🍪🍪\n"
     ]
    }
   ],
   "source": [
    "total = jar + jar2\n",
    "print(total)"
   ]
  },
  {
   "cell_type": "code",
   "execution_count": 64,
   "metadata": {},
   "outputs": [
    {
     "data": {
      "text/plain": [
       "20"
      ]
     },
     "execution_count": 64,
     "metadata": {},
     "output_type": "execute_result"
    }
   ],
   "source": [
    "jar.capacity = 20\n",
    "jar.capacity"
   ]
  },
  {
   "cell_type": "code",
   "execution_count": 65,
   "metadata": {},
   "outputs": [
    {
     "data": {
      "text/plain": [
       "0"
      ]
     },
     "execution_count": 65,
     "metadata": {},
     "output_type": "execute_result"
    }
   ],
   "source": [
    "jar.size"
   ]
  },
  {
   "cell_type": "code",
   "execution_count": 66,
   "metadata": {},
   "outputs": [
    {
     "ename": "ValueError",
     "evalue": "There aren't enough cookies",
     "output_type": "error",
     "traceback": [
      "\u001b[1;31m---------------------------------------------------------------------------\u001b[0m",
      "\u001b[1;31mValueError\u001b[0m                                Traceback (most recent call last)",
      "Cell \u001b[1;32mIn [66], line 1\u001b[0m\n\u001b[1;32m----> 1\u001b[0m \u001b[43mjar\u001b[49m\u001b[38;5;241;43m.\u001b[39;49m\u001b[43mwithdraw\u001b[49m\u001b[43m(\u001b[49m\u001b[38;5;241;43m1\u001b[39;49m\u001b[43m)\u001b[49m\n",
      "Cell \u001b[1;32mIn [57], line 14\u001b[0m, in \u001b[0;36mJar.withdraw\u001b[1;34m(self, n)\u001b[0m\n\u001b[0;32m     13\u001b[0m \u001b[38;5;28;01mdef\u001b[39;00m \u001b[38;5;21mwithdraw\u001b[39m(\u001b[38;5;28mself\u001b[39m, n):\n\u001b[1;32m---> 14\u001b[0m     \u001b[38;5;28;43mself\u001b[39;49m\u001b[38;5;241;43m.\u001b[39;49m\u001b[43msize\u001b[49m \u001b[38;5;241m-\u001b[39m\u001b[38;5;241m=\u001b[39m n\n\u001b[0;32m     15\u001b[0m     \u001b[38;5;28;01mreturn\u001b[39;00m \u001b[38;5;28mself\u001b[39m\u001b[38;5;241m.\u001b[39msize\n",
      "Cell \u001b[1;32mIn [57], line 38\u001b[0m, in \u001b[0;36mJar.size\u001b[1;34m(self, size)\u001b[0m\n\u001b[0;32m     36\u001b[0m     \u001b[38;5;28;01mraise\u001b[39;00m \u001b[38;5;167;01mValueError\u001b[39;00m(\u001b[38;5;124m\"\u001b[39m\u001b[38;5;124mOverload of capacity\u001b[39m\u001b[38;5;124m\"\u001b[39m)\n\u001b[0;32m     37\u001b[0m \u001b[38;5;28;01melif\u001b[39;00m size \u001b[38;5;241m<\u001b[39m \u001b[38;5;241m0\u001b[39m:\n\u001b[1;32m---> 38\u001b[0m     \u001b[38;5;28;01mraise\u001b[39;00m \u001b[38;5;167;01mValueError\u001b[39;00m(\u001b[38;5;124m\"\u001b[39m\u001b[38;5;124mThere aren\u001b[39m\u001b[38;5;124m'\u001b[39m\u001b[38;5;124mt enough cookies\u001b[39m\u001b[38;5;124m\"\u001b[39m)\n\u001b[0;32m     39\u001b[0m \u001b[38;5;28mself\u001b[39m\u001b[38;5;241m.\u001b[39m_size \u001b[38;5;241m=\u001b[39m size\n",
      "\u001b[1;31mValueError\u001b[0m: There aren't enough cookies"
     ]
    }
   ],
   "source": [
    "jar.withdraw(1)"
   ]
  },
  {
   "cell_type": "code",
   "execution_count": 67,
   "metadata": {},
   "outputs": [
    {
     "name": "stdout",
     "output_type": "stream",
     "text": [
      "🍪🍪🍪🍪🍪🍪🍪🍪🍪🍪🍪🍪🍪🍪🍪🍪🍪🍪\n"
     ]
    }
   ],
   "source": [
    "jar.deposit(18)\n",
    "print(jar)"
   ]
  },
  {
   "cell_type": "markdown",
   "metadata": {},
   "source": [
    "# How to Test\n",
    "\n",
    "Here’s how to test your code manually:\n",
    "\n",
    "    Open your test_jar.py file and import your Jar class with from jar import Jar. Create a function called test_init, wherein you create a new instance of Jar with jar = Jar(). assert that this jar has the capacity it should, then run your tests with pytest test_jar.py.\n",
    "    Add another function to your test_jar.py file called test_str. In test_str, create a new instance of your Jar class and deposit a few cookies. assert that str(jar) prints out as many cookies as have been deposited, then run your tests with pytest test_jar.py.\n",
    "    Add another function to your test_jar.py file called test_deposit. In test_deposit, create a new instance of your Jar class and deposit a few cookies. assert that the jar’s size attribute is as large as the number of cookies that have been deposited. Also assert that, if you deposit more than the jar’s capacity, deposit should raise a ValueError. Run your tests with pytest test_jar.py.\n",
    "    Add another function to your test_jar.py file called test_withdraw. In test_withdraw, create a new instance of your Jar class and first deposit a few cookies. assert that withdrawing from the jar leaves the appropriate number of cookies in the jar’s size attribute. Also assert that, if you withdraw more than the jar’s size, withdraw should raise a ValueError. Run your tests with pytest test_jar.py.\n"
   ]
  }
 ],
 "metadata": {
  "kernelspec": {
   "display_name": "Python 3",
   "language": "python",
   "name": "python3"
  },
  "language_info": {
   "codemirror_mode": {
    "name": "ipython",
    "version": 3
   },
   "file_extension": ".py",
   "mimetype": "text/x-python",
   "name": "python",
   "nbconvert_exporter": "python",
   "pygments_lexer": "ipython3",
   "version": "3.10.7"
  }
 },
 "nbformat": 4,
 "nbformat_minor": 2
}
