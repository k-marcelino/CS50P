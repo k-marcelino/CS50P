{
 "cells": [
  {
   "cell_type": "markdown",
   "metadata": {},
   "source": [
    "https://cs50.harvard.edu/python/2022/psets/6/lines/"
   ]
  },
  {
   "cell_type": "markdown",
   "metadata": {},
   "source": [
    "# Lines of Code\n",
    "\n",
    "One way to measure the complexity of a program is to count its number of lines of code (LOC), excluding blank lines and comments. For instance, a program like\n",
    "\n",
    "# Say hello\n",
    "\n",
    "name = input(\"What's your name? \")\n",
    "print(f\"hello, {name}\")\n",
    "\n",
    "has just two lines of code, not four, since its first line is a comment, and its second line is blank (i.e., just whitespace). That’s not that many, so odds are the program isn’t that complex. Of course, just because a program (or even function) has more lines of code than another doesn’t necessarily mean it’s more complex. For instance, a function like\n",
    "\n",
    "def is_even(n):\n",
    "    if n % 2 == 0:\n",
    "        return True\n",
    "    else:\n",
    "        return False\n",
    "\n",
    "isn’t really twice as complex as a function like\n",
    "\n",
    "def is_even(n):\n",
    "    return n % 2 == 0\n",
    "\n",
    "even though the former has (more than) twice as many lines of code. In fact, the former might arguably be simpler if it’s easier to read! So lines of code should be taken with a grain of salt.\n",
    "\n",
    "Even so, in a file called lines.py, implement a program that expects exactly one command-line argument, the name (or path) of a Python file, and outputs the number of lines of code in that file, excluding comments and blank lines. If the user does not specify exactly one command-line argument, or if the specified file’s name does not end in .py, or if the specified file does not exist, the program should instead exit via sys.exit.\n",
    "\n",
    "Assume that any line that starts with #, optionally preceded by whitespace, is a comment. (A docstring should not be considered a comment.) Assume that any line that only contains whitespace is blank.\n",
    "\n",
    "### Hints\n",
    "\n",
    "    Recall that a str comes with quite a few methods, per docs.python.org/3/library/stdtypes.html#string-methods, including lstrip and startswith.\n",
    "    Note that open can raise a FileNotFoundError, per docs.python.org/3/library/exceptions.html#FileNotFoundError.\n",
    "    You might find it helpful to test your program on, e.g., some of Week 6’s source code as well as on programs of your own.\n"
   ]
  },
  {
   "cell_type": "markdown",
   "metadata": {},
   "source": [
    "# Solution\n",
    "\n",
    "only work in a .py file with using arguments when running. Exemple: python lines.py file.py\n"
   ]
  },
  {
   "cell_type": "code",
   "execution_count": null,
   "metadata": {},
   "outputs": [],
   "source": [
    "import sys\n",
    "\n",
    "def main():\n",
    "    ### Checking amount of arguments, if it's 2 continue, otherwise exit\n",
    "    if len(sys.argv) < 2:\n",
    "        sys.exit(\"Too few command-line arguments\")\n",
    "    elif len(sys.argv) > 2:\n",
    "        sys.exit(\"Too many command-line arguments\")\n",
    "\n",
    "\n",
    "    # Store the file name in a variable\n",
    "    program_name = sys.argv[1].strip()\n",
    "    # Test if it is a python file, otherwise exit program\n",
    "    if not (program_name.endswith(\".py\")):\n",
    "        sys.exit(\"Not a Python file\")\n",
    "\n",
    "    # Read lines\n",
    "    lines = file_reader(program_name)\n",
    "    # Return only valid lines\n",
    "    valid_lines = check_valid_lines(lines)\n",
    "\n",
    "    # Print Result\n",
    "    print(len(valid_lines))\n",
    "\n",
    "\n",
    "def file_reader(program_name):\n",
    "    # Try to read file, if it does not exist leave\n",
    "    try:\n",
    "        with open(program_name, \"r\") as file:\n",
    "            return file.readlines()\n",
    "    except FileNotFoundError:\n",
    "        sys.exit(\"File does not exist\")\n",
    "\n",
    "\n",
    "def check_valid_lines(lines):\n",
    "    # Initializing list\n",
    "    valid_lines = []\n",
    "    # Iterating trough the list, and if it's not a comment or an empty line, then append\n",
    "    for line in lines:\n",
    "        if not (line.strip() == '') and not (line.strip().startswith('#')):\n",
    "            valid_lines.append(line)\n",
    "\n",
    "    return valid_lines\n",
    "\n",
    "\n",
    "if __name__ == \"__main__\":\n",
    "    main()\n"
   ]
  },
  {
   "cell_type": "markdown",
   "metadata": {},
   "source": [
    "# How to Test\n",
    "\n",
    "Here’s how to test your code manually:\n",
    "\n",
    "    Run your program with python lines.py. Your program should exit with sys.exit and provide an error message:\n",
    "\n",
    "    Too few command-line arguments\n",
    "\n",
    "    Create two python programs, hello.py and goodbye.py. Run python lines.py hello.py goodbye.py. Your program should exit with sys.exit and provide an error message:\n",
    "\n",
    "    Too many command-line arguments\n",
    "\n",
    "    Create a text file called invalid_extension.txt. Run your program with python lines.py invalid_extension.txt. Your program should exit with sys.exit and provide an error message:\n",
    "\n",
    "    Not a Python file\n",
    "\n",
    "    Run your program with python lines.py non_existent_file.py. Assuming non_existent_file.py doesn’t exist, your program should exit with sys.exit and provide an error message:\n",
    "\n",
    "    File does not exist\n",
    "\n",
    "    Create additional python programs which vary in complexity: create some with comments, some docstrings, and some whitespace. For each of these files run python lines.py FILENAME where FILENAME is the name of the file. lines.py should output the number of lines, excluding comments and whitespace, present in the given file.\n"
   ]
  }
 ],
 "metadata": {
  "kernelspec": {
   "display_name": "Python 3",
   "language": "python",
   "name": "python3"
  },
  "language_info": {
   "name": "python",
   "version": "3.10.7"
  }
 },
 "nbformat": 4,
 "nbformat_minor": 2
}
