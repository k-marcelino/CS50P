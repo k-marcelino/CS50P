{
 "cells": [
  {
   "cell_type": "markdown",
   "metadata": {},
   "source": [
    "https://cs50.harvard.edu/python/2022/project/"
   ]
  },
  {
   "cell_type": "markdown",
   "metadata": {},
   "source": [
    "# Final Project\n",
    "\n",
    "Once you have solved each of the course’s problem sets, it’s time to implement your final project, a Python program of your very own! The design and implementation of your project is entirely up to you, albeit subject to these requirements:\n",
    "\n",
    "    Your project must be implemented in Python.\n",
    "    Your project must have a main function and three or more additional functions. At least three of those additional functions must be accompanied by tests that can be executed with pytest.\n",
    "        Your main function must be in a file called project.py, which should be in the “root” (i.e., top-level folder) of your project.\n",
    "        Your 3 required custom functions other than main must also be in project.py and defined at the same indentation level as main (i.e., not nested under any classes or functions).\n",
    "        Your test functions must be in a file called test_project.py, which should also be in the “root” of your project. Be sure they have the same name as your custom functions, prepended with test_ (test_custom_function, for example, where custom_function is a function you’ve implemented in project.py).\n",
    "        You are welcome to implement additional classes and functions as you see fit beyond the minimum requirement.\n",
    "    Implementing your project should entail more time and effort than is required by each of the course’s problem sets.\n",
    "    Any pip-installable libraries that your project requires must be listed, one per line, in a file called requirements.txt in the root of your project.\n"
   ]
  },
  {
   "cell_type": "markdown",
   "metadata": {},
   "source": [
    "## Example Project Structures\n",
    "\n",
    "project.py"
   ]
  },
  {
   "cell_type": "code",
   "execution_count": null,
   "metadata": {},
   "outputs": [],
   "source": [
    "def main():\n",
    "    ...\n",
    "\n",
    "\n",
    "def function_1():\n",
    "    ...\n",
    "\n",
    "\n",
    "def function_2():\n",
    "    ...\n",
    "\n",
    "\n",
    "def function_n():\n",
    "    ...\n",
    "\n",
    "\n",
    "if __name__ == \"__main__\":\n",
    "    main()\n"
   ]
  },
  {
   "cell_type": "code",
   "execution_count": 11,
   "metadata": {},
   "outputs": [
    {
     "name": "stdout",
     "output_type": "stream",
     "text": [
      "<class 'requests.models.Response'>\n",
      "200\n",
      "{'page': {'pageNumber': -1, 'pageSize': -1, 'totalRecords': 87, 'totalPages': -87}, 'header': {'date': '02/01/25', 'text': 'Quantidade Teórica Total', 'part': '100,000', 'partAcum': None, 'textReductor': 'Redutor', 'reductor': '16.147.994,93246260', 'theoricalQty': '97.041.528.920'}, 'results': [{'segment': None, 'cod': 'ALOS3', 'asset': 'ALLOS', 'type': 'ON  EJ  NM', 'part': '0,469', 'partAcum': None, 'theoricalQty': '502.481.592'}, {'segment': None, 'cod': 'ALPA4', 'asset': 'ALPARGATAS', 'type': 'PN      N1', 'part': '0,055', 'partAcum': None, 'theoricalQty': '166.460.180'}, {'segment': None, 'cod': 'ABEV3', 'asset': 'AMBEV S/A', 'type': 'ON  EDJ', 'part': '2,656', 'partAcum': None, 'theoricalQty': '4.394.835.131'}, {'segment': None, 'cod': 'ASAI3', 'asset': 'ASSAI', 'type': 'ON      NM', 'part': '0,391', 'partAcum': None, 'theoricalQty': '1.349.687.675'}, {'segment': None, 'cod': 'AURE3', 'asset': 'AUREN', 'type': 'ON      NM', 'part': '0,132', 'partAcum': None, 'theoricalQty': '291.727.616'}, {'segment': None, 'cod': 'AMOB3', 'asset': 'AUTOMOB', 'type': 'ON      NM', 'part': '0,010', 'partAcum': None, 'theoricalQty': '558.603.452'}, {'segment': None, 'cod': 'AZUL4', 'asset': 'AZUL', 'type': 'PN      N2', 'part': '0,059', 'partAcum': None, 'theoricalQty': '328.421.113'}, {'segment': None, 'cod': 'AZZA3', 'asset': 'AZZAS 2154', 'type': 'ON      NM', 'part': '0,194', 'partAcum': None, 'theoricalQty': '127.330.493'}, {'segment': None, 'cod': 'B3SA3', 'asset': 'B3', 'type': 'ON  EJ  NM', 'part': '2,913', 'partAcum': None, 'theoricalQty': '5.511.401.013'}, {'segment': None, 'cod': 'BBSE3', 'asset': 'BBSEGURIDADE', 'type': 'ON      NM', 'part': '1,187', 'partAcum': None, 'theoricalQty': '637.332.335'}, {'segment': None, 'cod': 'BBDC3', 'asset': 'BRADESCO', 'type': 'ON  EJ  N1', 'part': '0,796', 'partAcum': None, 'theoricalQty': '1.484.426.957'}, {'segment': None, 'cod': 'BBDC4', 'asset': 'BRADESCO', 'type': 'PN  EJ  N1', 'part': '2,987', 'partAcum': None, 'theoricalQty': '5.129.958.973'}, {'segment': None, 'cod': 'BRAP4', 'asset': 'BRADESPAR', 'type': 'PN  EJ  N1', 'part': '0,214', 'partAcum': None, 'theoricalQty': '250.969.312'}, {'segment': None, 'cod': 'BBAS3', 'asset': 'BRASIL', 'type': 'ON      NM', 'part': '3,537', 'partAcum': None, 'theoricalQty': '2.842.613.858'}, {'segment': None, 'cod': 'BRKM5', 'asset': 'BRASKEM', 'type': 'PNA     N1', 'part': '0,158', 'partAcum': None, 'theoricalQty': '265.388.400'}, {'segment': None, 'cod': 'BRAV3', 'asset': 'BRAVA', 'type': 'ON      NM', 'part': '0,562', 'partAcum': None, 'theoricalQty': '463.981.130'}, {'segment': None, 'cod': 'BRFS3', 'asset': 'BRF SA', 'type': 'ON      NM', 'part': '1,063', 'partAcum': None, 'theoricalQty': '814.523.002'}, {'segment': None, 'cod': 'BPAC11', 'asset': 'BTGP BANCO', 'type': 'UNT EX  N2', 'part': '1,803', 'partAcum': None, 'theoricalQty': '1.287.247.964'}, {'segment': None, 'cod': 'CXSE3', 'asset': 'CAIXA SEGURI', 'type': 'ON      NM', 'part': '0,380', 'partAcum': None, 'theoricalQty': '517.500.000'}, {'segment': None, 'cod': 'CRFB3', 'asset': 'CARREFOUR BR', 'type': 'ON  EJ  NM', 'part': '0,149', 'partAcum': None, 'theoricalQty': '531.901.983'}, {'segment': None, 'cod': 'CCRO3', 'asset': 'CCR SA', 'type': 'ON      NM', 'part': '0,519', 'partAcum': None, 'theoricalQty': '991.920.937'}, {'segment': None, 'cod': 'CMIG4', 'asset': 'CEMIG', 'type': 'PN  EJ  N1', 'part': '1,063', 'partAcum': None, 'theoricalQty': '1.858.636.840'}, {'segment': None, 'cod': 'COGN3', 'asset': 'COGNA ON', 'type': 'ON      NM', 'part': '0,105', 'partAcum': None, 'theoricalQty': '1.872.454.628'}, {'segment': None, 'cod': 'CPLE6', 'asset': 'COPEL', 'type': 'PNB     N2', 'part': '0,791', 'partAcum': None, 'theoricalQty': '1.679.233.590'}, {'segment': None, 'cod': 'CSAN3', 'asset': 'COSAN', 'type': 'ON      NM', 'part': '0,490', 'partAcum': None, 'theoricalQty': '1.165.337.843'}, {'segment': None, 'cod': 'CPFE3', 'asset': 'CPFL ENERGIA', 'type': 'ON      NM', 'part': '0,305', 'partAcum': None, 'theoricalQty': '187.732.538'}, {'segment': None, 'cod': 'CMIN3', 'asset': 'CSNMINERACAO', 'type': 'ON      N2', 'part': '0,294', 'partAcum': None, 'theoricalQty': '1.110.559.345'}, {'segment': None, 'cod': 'CVCB3', 'asset': 'CVC BRASIL', 'type': 'ON      NM', 'part': '0,038', 'partAcum': None, 'theoricalQty': '525.591.097'}, {'segment': None, 'cod': 'CYRE3', 'asset': 'CYRELA REALT', 'type': 'ON      NM', 'part': '0,231', 'partAcum': None, 'theoricalQty': '264.710.610'}, {'segment': None, 'cod': 'ELET3', 'asset': 'ELETROBRAS', 'type': 'ON  ED  N1', 'part': '3,128', 'partAcum': None, 'theoricalQty': '1.780.013.881'}, {'segment': None, 'cod': 'ELET6', 'asset': 'ELETROBRAS', 'type': 'PNB ED  N1', 'part': '0,524', 'partAcum': None, 'theoricalQty': '268.733.136'}, {'segment': None, 'cod': 'EMBR3', 'asset': 'EMBRAER', 'type': 'ON      NM', 'part': '2,125', 'partAcum': None, 'theoricalQty': '734.632.601'}, {'segment': None, 'cod': 'ENGI11', 'asset': 'ENERGISA', 'type': 'UNT     N2', 'part': '0,613', 'partAcum': None, 'theoricalQty': '326.175.300'}, {'segment': None, 'cod': 'ENEV3', 'asset': 'ENEVA', 'type': 'ON      NM', 'part': '0,980', 'partAcum': None, 'theoricalQty': '1.808.392.799'}, {'segment': None, 'cod': 'EGIE3', 'asset': 'ENGIE BRASIL', 'type': 'ON  EJ  NM', 'part': '0,466', 'partAcum': None, 'theoricalQty': '255.236.938'}, {'segment': None, 'cod': 'EQTL3', 'asset': 'EQUATORIAL', 'type': 'ON      NM', 'part': '1,756', 'partAcum': None, 'theoricalQty': '1.244.602.400'}, {'segment': None, 'cod': 'EZTC3', 'asset': 'EZTEC', 'type': 'ON      NM', 'part': '0,054', 'partAcum': None, 'theoricalQty': '97.334.950'}, {'segment': None, 'cod': 'FLRY3', 'asset': 'FLEURY', 'type': 'ON      NM', 'part': '0,289', 'partAcum': None, 'theoricalQty': '464.420.650'}, {'segment': None, 'cod': 'GGBR4', 'asset': 'GERDAU', 'type': 'PN      N1', 'part': '1,161', 'partAcum': None, 'theoricalQty': '1.242.683.687'}, {'segment': None, 'cod': 'GOAU4', 'asset': 'GERDAU MET', 'type': 'PN      N1', 'part': '0,349', 'partAcum': None, 'theoricalQty': '661.577.619'}, {'segment': None, 'cod': 'NTCO3', 'asset': 'GRUPO NATURA', 'type': 'ON      NM', 'part': '0,558', 'partAcum': None, 'theoricalQty': '849.350.756'}, {'segment': None, 'cod': 'HAPV3', 'asset': 'HAPVIDA', 'type': 'ON      NM', 'part': '0,549', 'partAcum': None, 'theoricalQty': '4.779.395.040'}, {'segment': None, 'cod': 'HYPE3', 'asset': 'HYPERA', 'type': 'ON  EDJ NM', 'part': '0,381', 'partAcum': None, 'theoricalQty': '409.310.634'}, {'segment': None, 'cod': 'IGTI11', 'asset': 'IGUATEMI S.A', 'type': 'UNT     N1', 'part': '0,188', 'partAcum': None, 'theoricalQty': '211.468.849'}, {'segment': None, 'cod': 'IRBR3', 'asset': 'IRBBRASIL RE', 'type': 'ON      NM', 'part': '0,179', 'partAcum': None, 'theoricalQty': '81.838.243'}, {'segment': None, 'cod': 'ISAE4', 'asset': 'ISA ENERGIA', 'type': 'PN      N1', 'part': '0,469', 'partAcum': None, 'theoricalQty': '395.801.044'}, {'segment': None, 'cod': 'ITSA4', 'asset': 'ITAUSA', 'type': 'PN      N1', 'part': '2,627', 'partAcum': None, 'theoricalQty': '5.779.870.519'}, {'segment': None, 'cod': 'ITUB4', 'asset': 'ITAUUNIBANCO', 'type': 'PN  EJ  N1', 'part': '7,045', 'partAcum': None, 'theoricalQty': '4.455.161.368'}, {'segment': None, 'cod': 'JBSS3', 'asset': 'JBS', 'type': 'ON      NM', 'part': '2,136', 'partAcum': None, 'theoricalQty': '1.142.696.472'}, {'segment': None, 'cod': 'KLBN11', 'asset': 'KLABIN S/A', 'type': 'UNT     N2', 'part': '0,915', 'partAcum': None, 'theoricalQty': '765.785.673'}, {'segment': None, 'cod': 'RENT3', 'asset': 'LOCALIZA', 'type': 'ON  EJ  NM', 'part': '1,621', 'partAcum': None, 'theoricalQty': '977.700.485'}, {'segment': None, 'cod': 'LREN3', 'asset': 'LOJAS RENNER', 'type': 'ON  EJ  NM', 'part': '0,653', 'partAcum': None, 'theoricalQty': '1.047.736.159'}, {'segment': None, 'cod': 'LWSA3', 'asset': 'LWSA', 'type': 'ON      NM', 'part': '0,072', 'partAcum': None, 'theoricalQty': '420.626.825'}, {'segment': None, 'cod': 'MGLU3', 'asset': 'MAGAZ LUIZA', 'type': 'ON      NM', 'part': '0,118', 'partAcum': None, 'theoricalQty': '353.448.195'}, {'segment': None, 'cod': 'MRFG3', 'asset': 'MARFRIG', 'type': 'ON      NM', 'part': '0,265', 'partAcum': None, 'theoricalQty': '302.019.876'}, {'segment': None, 'cod': 'BEEF3', 'asset': 'MINERVA', 'type': 'ON      NM', 'part': '0,068', 'partAcum': None, 'theoricalQty': '261.359.935'}, {'segment': None, 'cod': 'MRVE3', 'asset': 'MRV', 'type': 'ON      NM', 'part': '0,103', 'partAcum': None, 'theoricalQty': '375.335.828'}, {'segment': None, 'cod': 'MULT3', 'asset': 'MULTIPLAN', 'type': 'ON  EJ  N2', 'part': '0,339', 'partAcum': None, 'theoricalQty': '318.010.631'}, {'segment': None, 'cod': 'PCAR3', 'asset': 'P.ACUCAR-CBD', 'type': 'ON      NM', 'part': '0,050', 'partAcum': None, 'theoricalQty': '379.327.171'}, {'segment': None, 'cod': 'PETR3', 'asset': 'PETROBRAS', 'type': 'ON  EDJ N2', 'part': '4,968', 'partAcum': None, 'theoricalQty': '2.448.348.744'}, {'segment': None, 'cod': 'PETR4', 'asset': 'PETROBRAS', 'type': 'PN  EDJ N2', 'part': '8,256', 'partAcum': None, 'theoricalQty': '4.431.132.660'}, {'segment': None, 'cod': 'RECV3', 'asset': 'PETRORECSA', 'type': 'ON      NM', 'part': '0,230', 'partAcum': None, 'theoricalQty': '275.699.226'}, {'segment': None, 'cod': 'PRIO3', 'asset': 'PETRORIO', 'type': 'ON      NM', 'part': '1,651', 'partAcum': None, 'theoricalQty': '798.909.771'}, {'segment': None, 'cod': 'PETZ3', 'asset': 'PETZ', 'type': 'ON      NM', 'part': '0,065', 'partAcum': None, 'theoricalQty': '307.729.428'}, {'segment': None, 'cod': 'RADL3', 'asset': 'RAIADROGASIL', 'type': 'ON      NM', 'part': '1,450', 'partAcum': None, 'theoricalQty': '1.279.770.315'}, {'segment': None, 'cod': 'RAIZ4', 'asset': 'RAIZEN', 'type': 'PN      N2', 'part': '0,133', 'partAcum': None, 'theoricalQty': '1.192.947.233'}, {'segment': None, 'cod': 'RDOR3', 'asset': 'REDE D OR', 'type': 'ON  EJ  NM', 'part': '1,499', 'partAcum': None, 'theoricalQty': '1.145.289.019'}, {'segment': None, 'cod': 'RAIL3', 'asset': 'RUMO S.A.', 'type': 'ON      NM', 'part': '1,116', 'partAcum': None, 'theoricalQty': '1.215.994.115'}, {'segment': None, 'cod': 'SBSP3', 'asset': 'SABESP', 'type': 'ON      NM', 'part': '3,114', 'partAcum': None, 'theoricalQty': '683.508.570'}, {'segment': None, 'cod': 'SANB11', 'asset': 'SANTANDER BR', 'type': 'UNT', 'part': '0,437', 'partAcum': None, 'theoricalQty': '356.586.730'}, {'segment': None, 'cod': 'STBP3', 'asset': 'SANTOS BRP', 'type': 'ON  EJ  NM', 'part': '0,579', 'partAcum': None, 'theoricalQty': '855.712.622'}, {'segment': None, 'cod': 'SMTO3', 'asset': 'SAO MARTINHO', 'type': 'ON      NM', 'part': '0,170', 'partAcum': None, 'theoricalQty': '142.348.116'}, {'segment': None, 'cod': 'CSNA3', 'asset': 'SID NACIONAL', 'type': 'ON', 'part': '0,336', 'partAcum': None, 'theoricalQty': '736.268.400'}, {'segment': None, 'cod': 'SLCE3', 'asset': 'SLC AGRICOLA', 'type': 'ON      NM', 'part': '0,175', 'partAcum': None, 'theoricalQty': '194.261.422'}, {'segment': None, 'cod': 'SUZB3', 'asset': 'SUZANO S.A.', 'type': 'ON      NM', 'part': '2,006', 'partAcum': None, 'theoricalQty': '630.821.784'}, {'segment': None, 'cod': 'TAEE11', 'asset': 'TAESA', 'type': 'UNT     N2', 'part': '0,370', 'partAcum': None, 'theoricalQty': '218.568.234'}, {'segment': None, 'cod': 'VIVT3', 'asset': 'TELEF BRASIL', 'type': 'ON  EJ', 'part': '0,981', 'partAcum': None, 'theoricalQty': '407.257.128'}, {'segment': None, 'cod': 'TIMS3', 'asset': 'TIM', 'type': 'ON  EJ  NM', 'part': '0,602', 'partAcum': None, 'theoricalQty': '807.495.418'}, {'segment': None, 'cod': 'TOTS3', 'asset': 'TOTVS', 'type': 'ON      NM', 'part': '0,744', 'partAcum': None, 'theoricalQty': '540.206.440'}, {'segment': None, 'cod': 'UGPA3', 'asset': 'ULTRAPAR', 'type': 'ON      NM', 'part': '0,891', 'partAcum': None, 'theoricalQty': '1.090.134.379'}, {'segment': None, 'cod': 'USIM5', 'asset': 'USIMINAS', 'type': 'PNA     N1', 'part': '0,141', 'partAcum': None, 'theoricalQty': '515.193.199'}, {'segment': None, 'cod': 'VALE3', 'asset': 'VALE', 'type': 'ON      NM', 'part': '11,995', 'partAcum': None, 'theoricalQty': '4.270.903.023'}, {'segment': None, 'cod': 'VAMO3', 'asset': 'VAMOS', 'type': 'ON      NM', 'part': '0,119', 'partAcum': None, 'theoricalQty': '485.166.826'}, {'segment': None, 'cod': 'VBBR3', 'asset': 'VIBRA', 'type': 'ON  EJ  NM', 'part': '0,940', 'partAcum': None, 'theoricalQty': '1.023.392.529'}, {'segment': None, 'cod': 'VIVA3', 'asset': 'VIVARA S.A.', 'type': 'ON      NM', 'part': '0,125', 'partAcum': None, 'theoricalQty': '125.823.025'}, {'segment': None, 'cod': 'WEGE3', 'asset': 'WEG', 'type': 'ON  EJ  NM', 'part': '3,448', 'partAcum': None, 'theoricalQty': '1.269.032.828'}, {'segment': None, 'cod': 'YDUQ3', 'asset': 'YDUQS PART', 'type': 'ON      NM', 'part': '0,127', 'partAcum': None, 'theoricalQty': '290.010.465'}]}\n",
      "20250102\n",
      "<class 'pandas.core.frame.DataFrame'>\n"
     ]
    }
   ],
   "source": [
    "\"\"\"\n",
    "    Script Name: ETL for Bovespa Index Composition\n",
    "    Author: Kevyn A. Marcelino\n",
    "    Date Created: 2024-12-31\n",
    "    Last Modified: \n",
    "    Version: 1.0\n",
    "\n",
    "    Description:\n",
    "        Python script for downloading, processing, and saving the Bovespa Index (IBOV) daily composition data & saving in an Excel file.\n",
    "\n",
    "    Contact:\n",
    "        - Email: kevyn.marcelino@usp.br / kevyn.lino@gmail.com\n",
    "        - GitHub: [https://github.com/k-marcelino]\n",
    "\"\"\"\n",
    "### IMPORTS ###\n",
    "import json\n",
    "import requests\n",
    "import pandas as pd\n",
    "\n",
    "\n",
    "def main():\n",
    "    # Retrieves daily information from Bovespa's Index composition using the URL provided by B3 and exports it to an Excel file.\n",
    "    URL = 'https://sistemaswebb3-listados.b3.com.br/indexProxy/indexCall/GetPortfolioDay/eyJpbmRleCI6IklCT1YiLCJsYW5ndWFnZSI6InB0LWJyIn0='\n",
    "\n",
    "    r = request_data(URL)\n",
    "    # check status\n",
    "    print(type(r))\n",
    "    print(r.status_code)\n",
    "    print(r.json())\n",
    "\n",
    "    data, date = transform(r)\n",
    "    print(date)\n",
    "    print(type(data))\n",
    "    export(data, date)\n",
    "\n",
    "\n",
    "def request_data(url):\n",
    "    \"\"\"\n",
    "    Requests data from url provided.\n",
    "\n",
    "    :param url: Constant from B3 website\n",
    "    :return: response content from the url\n",
    "    \"\"\"\n",
    "    session = requests.Session()\n",
    "    response = session.get(url, verify=False)\n",
    "    response.raise_for_status()\n",
    "    \n",
    "    return response\n",
    "\n",
    "\n",
    "def transform(response):\n",
    "    \"\"\"\n",
    "    Trasforms data into final output.\n",
    "        Reads json from content and normalizes it into a DataFrame.\n",
    "        Drops unnecessary columns and transforms 'part' and 'theoricalQty' columns.\n",
    "        Transforms numerical columns\n",
    "    :param content: Content from the request\n",
    "    :return: DataFrame with transformed data\n",
    "    \"\"\"\n",
    "    # Transforming Data\n",
    "    comp_ibov = pd.json_normalize(json.loads(response.content), record_path=['results'])\n",
    "    comp_ibov.drop(columns=['segment', 'partAcum'], inplace=True)\n",
    "    comp_ibov['part'] = comp_ibov['part'].apply(lambda x: float(x.replace(',', '.'))/100)\n",
    "    comp_ibov['theoricalQty'] = comp_ibov['theoricalQty'].apply(lambda x: int(x.replace('.', '')))\n",
    "    comp_ibov = comp_ibov.sort_values(by=['part'], ascending=False).reset_index(drop=True)\n",
    "\n",
    "    # Transforming Date\n",
    "    date = pd.json_normalize(json.loads(response.content))\n",
    "    date = pd.to_datetime(date['header.date'], format='%d/%m/%y').dt.strftime('%Y%m%d').values[0]\n",
    "\n",
    "    return comp_ibov, date\n",
    "\n",
    "\n",
    "def export(data, date):\n",
    "    \"\"\"\n",
    "    Export data to excel file.\n",
    "\n",
    "    :param data: Ibovespa Composition\n",
    "    :param date: Date of the composition\n",
    "    :return: None\n",
    "    \"\"\"\n",
    "    data.to_excel(f'outputs/{date}_comp_ibov.xlsx', index=False)\n",
    "\n",
    "\n",
    "if __name__ == \"__main__\":\n",
    "    main()"
   ]
  },
  {
   "cell_type": "code",
   "execution_count": 16,
   "metadata": {},
   "outputs": [
    {
     "data": {
      "text/plain": [
       "False"
      ]
     },
     "execution_count": 16,
     "metadata": {},
     "output_type": "execute_result"
    }
   ],
   "source": [
    "import os\n",
    "\n",
    "# os.path.isfile(f'outpus/20250102_comp_ibov.xlsx')\n",
    "os.path.exists(f'outpus/20250102_comp_ibov.xlsx')"
   ]
  },
  {
   "cell_type": "code",
   "execution_count": 18,
   "metadata": {},
   "outputs": [
    {
     "data": {
      "text/plain": [
       "'c:\\\\Users\\\\Gracinha\\\\Desktop\\\\USP\\\\FeaDev\\\\CS50P\\\\Final Project'"
      ]
     },
     "execution_count": 18,
     "metadata": {},
     "output_type": "execute_result"
    }
   ],
   "source": [
    "os.path.exists('outputs')\n",
    "# printar diretório atual\n",
    "os.getcwd()"
   ]
  },
  {
   "cell_type": "code",
   "execution_count": 3,
   "metadata": {},
   "outputs": [
    {
     "name": "stdout",
     "output_type": "stream",
     "text": [
      "Note: you may need to restart the kernel to use updated packages.\n"
     ]
    }
   ],
   "source": [
    "# pip freeze > requirements.txt"
   ]
  },
  {
   "cell_type": "markdown",
   "metadata": {},
   "source": [
    "test_project.py"
   ]
  },
  {
   "cell_type": "code",
   "execution_count": null,
   "metadata": {},
   "outputs": [],
   "source": [
    "def test_function_1():\n",
    "    ...\n",
    "\n",
    "\n",
    "def test_function_2():\n",
    "    ...\n",
    "\n",
    "\n",
    "def test_function_n():\n",
    "    ...\n"
   ]
  },
  {
   "cell_type": "markdown",
   "metadata": {},
   "source": [
    "You are welcome, but not required, to collaborate with one or two classmates on your project. (You might want to collaborate with Live Share!) But a two- or three-person should entail twice or thrice the time and effort required by a one-person project.\n",
    "\n",
    "Note that CS50’s staff audits submissions to CS50P including this final project. Students found to be in violation of the Academic Honesty policy will be removed from the course and deemed ineligible for a certificate. Students who have already completed CS50P, if found to be in violation, will have their CS50 Certificate (and edX Certificate, if applicable) revoked."
   ]
  },
  {
   "cell_type": "markdown",
   "metadata": {},
   "source": [
    "# Getting Started\n",
    "\n",
    "Creating an entire project may seem daunting. Here are some questions that you should think about as you start:\n",
    "\n",
    "    What will your software do? What features will it have? How will it be executed?\n",
    "    What new skills will you need to acquire? What topics will you need to research?\n",
    "    If working with one or two classmates, who will do what?\n",
    "    In the world of software, most everything takes longer to implement than you expect. And so it’s not uncommon to accomplish less in a fixed amount of time than you hope. What might you consider to be a good outcome for your project? A better outcome? The best outcome?\n",
    "\n",
    "Consider making goal milestones to keep you on track."
   ]
  },
  {
   "cell_type": "markdown",
   "metadata": {},
   "source": [
    "# How to Submit\n",
    "\n",
    "You must complete all three steps!\n",
    "Step 1 of 3\n",
    "\n",
    "Create a short video (that’s no more than 3 minutes in length) in which you present your project to the world. Your video must begin with an opening section that displays:\n",
    "\n",
    "    your project’s title;\n",
    "    your name;\n",
    "    your GitHub and edX usernames;\n",
    "    your city and country;\n",
    "    and, the date you have recorded this video.\n",
    "\n",
    "It should then go on to demonstrate your project in action, as with slides, screenshots, voiceover, and/or live action. See howtogeek.com/205742/how-to-record-your-windows-mac-linux-android-or-ios-screen for tips on how to make a “screencast,” though you’re welcome to use an actual camera. Upload your video to YouTube (or, if blocked in your country, a similar site) and take note of its URL; it’s fine to flag it as “unlisted,” but don’t flag it as “private.”\n",
    "\n",
    "Submit this form!\n",
    "## Step 2 of 3\n",
    "\n",
    "Create a README.md text file (named exactly that!) in your ~/project folder that explains your project. This file should include your Project title, the URL of your video (created in step 1 above) and a description of your project. You may use the below as a template."
   ]
  },
  {
   "cell_type": "code",
   "execution_count": null,
   "metadata": {},
   "outputs": [],
   "source": [
    "    # YOUR PROJECT TITLE\n",
    "    #### Video Demo:  <URL HERE>\n",
    "    #### Description:\n",
    "    TODO"
   ]
  },
  {
   "cell_type": "markdown",
   "metadata": {},
   "source": [
    "If unfamiliar with Markdown syntax, you might find GitHub’s Basic Writing and Formatting Syntax helpful. If you are using the CS50 Codespace and are prompted to “Open in CS50 Lab”, you can simply press cancel to open in the Editor. You can also preview your .md file by clicking the ‘preview’ icon as explained here: Markdown Preview in vscode. Standard software project READMEs can often run into the thousands or tens of thousands of words in length; yours need not be that long, but should at least be several hundred words that describe things in detail!"
   ]
  },
  {
   "cell_type": "markdown",
   "metadata": {},
   "source": [
    "    Your README.md file should be minimally multiple paragraphs in length, and should explain what your project is, what each of the files you wrote for the project contains and does, and if you debated certain design choices, explaining why you made them. Ensure you allocate sufficient time and energy to writing a README.md that documents your project thoroughly. Be proud of it! A README.md in the neighborhood of 500 words is likely to be sufficient for describing your project and all aspects of its functionality. If unable to reach that threshold, that probably means your project is insufficiently complex."
   ]
  }
 ],
 "metadata": {
  "kernelspec": {
   "display_name": "Python 3",
   "language": "python",
   "name": "python3"
  },
  "language_info": {
   "codemirror_mode": {
    "name": "ipython",
    "version": 3
   },
   "file_extension": ".py",
   "mimetype": "text/x-python",
   "name": "python",
   "nbconvert_exporter": "python",
   "pygments_lexer": "ipython3",
   "version": "3.10.7"
  }
 },
 "nbformat": 4,
 "nbformat_minor": 2
}
