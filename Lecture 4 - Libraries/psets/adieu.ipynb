{
 "cells": [
  {
   "cell_type": "markdown",
   "metadata": {},
   "source": [
    "https://cs50.harvard.edu/python/2022/psets/4/adieu/"
   ]
  },
  {
   "cell_type": "markdown",
   "metadata": {},
   "source": [
    "# Adieu, Adieu\n",
    "\n",
    "In The Sound of Music, there’s a song sung largely in English, So Long, Farewell, with these lyrics, wherein “adieu” means “goodbye” in French:\n",
    "\n",
    "    Adieu, adieu, to yieu and yieu and yieu\n",
    "\n",
    "Of course, the line isn’t grammatically correct, since it would typically be written (with an Oxford comma) as:\n",
    "\n",
    "    Adieu, adieu, to yieu, yieu, and yieu\n",
    "\n",
    "To be fair, “yieu” isn’t even a word; it just rhymes with “you”!\n",
    "\n",
    "In a file called adieu.py, implement a program that prompts the user for names, one per line, until the user inputs control-d. Assume that the user will input at least one name. Then bid adieu to those names, separating two names with one and, three names with two commas and one and, and\n",
    "names with\n",
    "\n",
    "commas and one and, as in the below:\n",
    "\n",
    "    Adieu, adieu, to Liesl\n",
    "    Adieu, adieu, to Liesl and Friedrich\n",
    "    Adieu, adieu, to Liesl, Friedrich, and Louisa\n",
    "    Adieu, adieu, to Liesl, Friedrich, Louisa, and Kurt\n",
    "    Adieu, adieu, to Liesl, Friedrich, Louisa, Kurt, and Brigitta\n",
    "    Adieu, adieu, to Liesl, Friedrich, Louisa, Kurt, Brigitta, and Marta\n",
    "    Adieu, adieu, to Liesl, Friedrich, Louisa, Kurt, Brigitta, Marta, and Gretl\n",
    "\n",
    "\n",
    "### Hints\n",
    "\n",
    "    - Note that the inflect module comes with quite a few methods, per pypi.org/project/inflect. You can install it with:\n",
    "\n",
    "\n",
    "\n"
   ]
  },
  {
   "cell_type": "code",
   "execution_count": 1,
   "metadata": {},
   "outputs": [
    {
     "name": "stdout",
     "output_type": "stream",
     "text": [
      "Collecting inflect\n",
      "  Downloading inflect-7.0.0-py3-none-any.whl.metadata (21 kB)\n",
      "Requirement already satisfied: pydantic>=1.9.1 in c:\\users\\gracinha\\appdata\\local\\programs\\python\\python310\\lib\\site-packages (from inflect) (1.9.2)\n",
      "Requirement already satisfied: typing-extensions in c:\\users\\gracinha\\appdata\\local\\programs\\python\\python310\\lib\\site-packages (from inflect) (4.7.1)\n",
      "Downloading inflect-7.0.0-py3-none-any.whl (34 kB)\n",
      "Installing collected packages: inflect\n",
      "Successfully installed inflect-7.0.0\n",
      "Note: you may need to restart the kernel to use updated packages.\n"
     ]
    }
   ],
   "source": [
    "pip install inflect"
   ]
  },
  {
   "cell_type": "markdown",
   "metadata": {},
   "source": [
    "# Solution [WORKING]\n",
    "\n",
    "works better in cs50 vscode online"
   ]
  },
  {
   "cell_type": "code",
   "execution_count": 28,
   "metadata": {},
   "outputs": [
    {
     "name": "stdout",
     "output_type": "stream",
     "text": [
      "Adieu, adieu, to Liels\n",
      "Adieu, adieu, to Liels and Friedrich\n",
      "Adieu, adieu, to Liels, Friedrich, and Louisa\n"
     ]
    }
   ],
   "source": [
    "# Imports\n",
    "import inflect\n",
    "\n",
    "# instancing inflect lib\n",
    "p = inflect.engine()\n",
    "# Defining list\n",
    "names = []\n",
    "\n",
    "# Prompts user for names and append to the list \"name\" till command \"ctrl + d\"\n",
    "while True: \n",
    "\n",
    "    # Try to get user input\n",
    "    try:\n",
    "        name = str(input('Name: ')).strip().title()\n",
    "    \n",
    "        # temporary adjust to run in vscode jupyter\n",
    "        if name == 'D':\n",
    "            break\n",
    "\n",
    "        names.append(name)\n",
    "    except EOFError:\n",
    "        print('\\n')\n",
    "        break\n",
    "\n",
    "# Prints results after every name iterated - Could do with list comprehension\n",
    "message = \"Adieu, adieu, to\"\n",
    "for i, name in enumerate(names):\n",
    "    print(f'{message} {p.join(names[:i+1])}')\n"
   ]
  },
  {
   "cell_type": "code",
   "execution_count": 13,
   "metadata": {},
   "outputs": [
    {
     "data": {
      "text/plain": [
       "'Liesl, Friedrich'"
      ]
     },
     "execution_count": 13,
     "metadata": {},
     "output_type": "execute_result"
    }
   ],
   "source": [
    "cummulative_names[:-2]"
   ]
  },
  {
   "cell_type": "code",
   "execution_count": null,
   "metadata": {},
   "outputs": [],
   "source": [
    "#Liesl \n",
    "#Friedrich\n",
    "#Louisa"
   ]
  },
  {
   "cell_type": "markdown",
   "metadata": {},
   "source": [
    "# How to Test\n",
    "\n",
    "Here’s how to test your code manually:\n",
    "\n",
    "    - Run your program with python adieu.py. Type Liesl and press Enter, followed by control-d. Your program should output:\n",
    "\n",
    "    Adieu, adieu, to Liesl \n",
    "\n",
    "    - Run your program with python adieu.py. Type Liesl and press Enter, then type Friedrich and press Enter, followed by control-d. Your program should output:\n",
    "\n",
    "    Adieu, adieu, to Liesl and Friedrich\n",
    "\n",
    "    - Run your program with python adieu.py. Type Liesl and press Enter, then type Friedrich and press Enter. Now type Louisa and press Enter, followed by control-d. Your program should output:\n",
    "\n",
    "    Adieu, adieu, to Liesl, Friedrich, and Louisa\n",
    "\n",
    "You can execute the below to check your code using check50, a program that CS50 will use to test your code when you submit. But be sure to test it yourself as well!"
   ]
  }
 ],
 "metadata": {
  "kernelspec": {
   "display_name": "Python 3",
   "language": "python",
   "name": "python3"
  },
  "language_info": {
   "codemirror_mode": {
    "name": "ipython",
    "version": 3
   },
   "file_extension": ".py",
   "mimetype": "text/x-python",
   "name": "python",
   "nbconvert_exporter": "python",
   "pygments_lexer": "ipython3",
   "version": "3.10.7"
  }
 },
 "nbformat": 4,
 "nbformat_minor": 2
}
