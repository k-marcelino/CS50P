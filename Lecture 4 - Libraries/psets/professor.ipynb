{
 "cells": [
  {
   "cell_type": "markdown",
   "metadata": {},
   "source": [
    "https://cs50.harvard.edu/python/2022/psets/4/professor/"
   ]
  },
  {
   "cell_type": "markdown",
   "metadata": {},
   "source": [
    "Little Professor\n",
    "\n",
    "One of David’s first toys as a child, funny enough, was Little Professor, a “calculator” that would generate ten different math problems for David to solve. For instance, if the toy were to display 4 + 0 = , David would (hopefully) answer with 4. If the toy were to display 4 + 1 = , David would (hopefully) answer with 5. If David were to answer incorrectly, the toy would display EEE. And after three incorrect answers for the same problem, the toy would simply display the correct answer (e.g., 4 + 0 = 4 or 4 + 1 = 5).\n",
    "\n",
    "In a file called professor.py, implement a program that:\n",
    "\n",
    "- Prompts the user for a level, . If the user does not input 1, 2, or 3, the program should prompt again.\n",
    "- Randomly generates ten (10) math problems formatted as X + Y = , wherein each of X and Y is a non-negative integer with digits. No need to support operations other than addition (+).\n",
    "- Prompts the user to solve each of those problems. If an answer is not correct (or not even a number), the program should output EEE and prompt the user again, allowing the user up to three tries in total for that problem. If the user has still not answered correctly after three tries, the program should output the correct answer.\n",
    "- The program should ultimately output the user’s score: the number of correct answers out of 10.\n",
    "\n",
    "Structure your program as follows, wherein get_level prompts (and, if need be, re-prompts) the user for a level and returns 1, 2, or 3, and generate_integer returns a randomly generated non-negative integer with level digits or raises a ValueError if level is not 1, 2, or 3:"
   ]
  },
  {
   "cell_type": "code",
   "execution_count": null,
   "metadata": {},
   "outputs": [],
   "source": [
    "import random\n",
    "\n",
    "\n",
    "def main():\n",
    "    ...\n",
    "\n",
    "\n",
    "def get_level():\n",
    "    ...\n",
    "\n",
    "\n",
    "def generate_integer(level):\n",
    "    ...\n",
    "\n",
    "\n",
    "if __name__ == \"__main__\":\n",
    "    main()\n"
   ]
  },
  {
   "cell_type": "markdown",
   "metadata": {},
   "source": [
    "### Hints\n",
    "\n",
    "- Note that you can raise an exception like ValueError with code like:\n",
    "\n",
    "    raise ValueError\n",
    "\n",
    "- Note that the random module comes with quite a few functions, per docs.python.org/3/library/random.html.\n"
   ]
  },
  {
   "cell_type": "markdown",
   "metadata": {},
   "source": [
    "# Solution"
   ]
  },
  {
   "cell_type": "code",
   "execution_count": 7,
   "metadata": {},
   "outputs": [],
   "source": [
    "import random\n",
    "\n",
    "\n",
    "def main():\n",
    "\n",
    "    level = get_level()\n",
    "    score = 0\n",
    "\n",
    "    # Creating 10 random math problems\n",
    "    for i in range(10):\n",
    "        #print(f'i: {i}')\n",
    "        #print(f'Problem {i+1}')\n",
    "        x, y = generate_math_problem(level)\n",
    "\n",
    "        # Giving user 3 shots to answer the problem\n",
    "        for j in range(3):\n",
    "            #print(f'j: {j}')\n",
    "            try:\n",
    "                answer = int(input(f\"{x} + {y} = \").strip())\n",
    "            except: #ValueError\n",
    "                answer = ''\n",
    "\n",
    "            if answer == x+y:\n",
    "                if j == 0:\n",
    "                    score += 1\n",
    "                break\n",
    "\n",
    "            else:\n",
    "                print(\"EEE\")\n",
    "                # Giving right answer if user didn't get it right after 3 tries it prints it out\n",
    "                if j == 2:\n",
    "                    print(f\"{x} + {y} = {x+y}\")\n",
    "                    # ..oterwise prints it was wrong\n",
    "\n",
    "    print(f\"Score: {score}\")\n",
    "\n",
    "def get_level():\n",
    "    while True:\n",
    "        try:\n",
    "            level = int(input(\"Level: \").strip())\n",
    "            if level in [1,2,3]:\n",
    "                return level\n",
    "\n",
    "        except: #ValueError\n",
    "            pass\n",
    "\n",
    "# Maybe the only thing left was to generate 10 different problems, And I don't have this track here, but the code passed unit test anyway\n",
    "def generate_math_problem(n):\n",
    "    match n:\n",
    "        case 1:\n",
    "            return random.randint(0,9), random.randint(0,9)\n",
    "        case 2:\n",
    "            return random.randint(10,99), random.randint(10,99)\n",
    "        case 3:\n",
    "            return random.randint(100,999), random.randint(100,999)\n",
    "\n",
    "\n",
    "if __name__ == \"__main__\":\n",
    "    main()\n"
   ]
  },
  {
   "cell_type": "code",
   "execution_count": null,
   "metadata": {},
   "outputs": [],
   "source": [
    "\n",
    "def get_int():\n",
    "    while True:\n",
    "        try:\n",
    "            x = int(input(\"What's x?\"))\n",
    "        except ValueError:\n",
    "            print(\"x is not an integer\")\n",
    "        else:\n",
    "            break\n",
    "    return x"
   ]
  },
  {
   "cell_type": "code",
   "execution_count": 6,
   "metadata": {},
   "outputs": [
    {
     "data": {
      "text/plain": [
       "False"
      ]
     },
     "execution_count": 6,
     "metadata": {},
     "output_type": "execute_result"
    }
   ],
   "source": [
    "2+2 == ''"
   ]
  },
  {
   "cell_type": "markdown",
   "metadata": {},
   "source": [
    "### How to Test\n",
    "\n",
    "Here’s how to test your code manually:\n",
    "\n",
    "    Run your program with python professor.py. Type -1 and press Enter. Your program should reprompt you:\n",
    "\n",
    "    Level:   \n",
    "\n",
    "    Run your program with python professor.py. Type 4 and press Enter. Your program should reprompt you:\n",
    "\n",
    "    Level:   \n",
    "\n",
    "    Run your program with python professor.py. Type 1 and press Enter. Your program should begin posing addition problems with positive, single-digit integers. For example:\n",
    "\n",
    "    6 + 6 =    \n",
    "\n",
    "    Your program should output 10 distinct problems before printing the number of questions you answered correctly and exiting.\n",
    "    Run your program with python professor.py. Type 1 and press Enter. Answer the first question incorrectly. Your program should output:\n",
    "\n",
    "    EEE\n",
    "\n",
    "    before reprompting you with the same question.\n",
    "    Run your program with python professor.py. Type 1 and press Enter. Answer the first question incorrectly, three times. Your program should output the correct answer. For example:\n",
    "\n",
    "    6 + 6 = 12\n",
    "\n",
    "    and then move on to another question. Answer the remaining questions correctly. Your program should output a score of 9.\n",
    "    Run your program with python professor.py. Type 1 and press Enter. Answer all 10 questions correctly. Your program should output a score of 10.\n"
   ]
  }
 ],
 "metadata": {
  "kernelspec": {
   "display_name": "Python 3",
   "language": "python",
   "name": "python3"
  },
  "language_info": {
   "codemirror_mode": {
    "name": "ipython",
    "version": 3
   },
   "file_extension": ".py",
   "mimetype": "text/x-python",
   "name": "python",
   "nbconvert_exporter": "python",
   "pygments_lexer": "ipython3",
   "version": "3.10.7"
  }
 },
 "nbformat": 4,
 "nbformat_minor": 2
}
