{
 "cells": [
  {
   "cell_type": "markdown",
   "metadata": {},
   "source": [
    "https://cs50.harvard.edu/python/2022/psets/4/emojize/"
   ]
  },
  {
   "cell_type": "markdown",
   "metadata": {},
   "source": [
    "#Emojize\n",
    "\n",
    "Because emoji aren’t quite as easy to type as text, at least on laptops and desktops, some programs support “codes,” whereby you can type, for instance, :thumbs_up:, which will be automatically converted to 👍. Some programs additionally support aliases, whereby you can more succinctly type, for instance, :thumbsup:, which will also be automatically converted to 👍.\n",
    "\n",
    "See carpedm20.github.io/emoji/all.html?enableList=enable_list_alias for a list of codes with aliases.\n",
    "\n",
    "In a file called emojize.py, implement a program that prompts the user for a str in English and then outputs the “emojized” version of that str, converting any codes (or aliases) therein to their corresponding emoji.\n",
    "\n",
    "### Hints\n",
    "\n",
    "    Note that the emoji module comes with two functions, per pypi.org/project/emoji, one of which is emojize, which takes an optional, named parameter called language. You can install it with: "
   ]
  },
  {
   "cell_type": "code",
   "execution_count": 1,
   "metadata": {},
   "outputs": [
    {
     "name": "stdout",
     "output_type": "stream",
     "text": [
      "Collecting emoji\n",
      "  Downloading emoji-2.9.0-py2.py3-none-any.whl.metadata (5.3 kB)\n",
      "Downloading emoji-2.9.0-py2.py3-none-any.whl (397 kB)\n",
      "   ---------------------------------------- 397.5/397.5 kB 6.1 MB/s eta 0:00:00\n",
      "Installing collected packages: emoji\n",
      "Successfully installed emoji-2.9.0\n",
      "Note: you may need to restart the kernel to use updated packages.\n"
     ]
    }
   ],
   "source": [
    "pip install emoji"
   ]
  },
  {
   "cell_type": "markdown",
   "metadata": {},
   "source": [
    "# Solution"
   ]
  },
  {
   "cell_type": "code",
   "execution_count": 5,
   "metadata": {},
   "outputs": [],
   "source": [
    "#:thumbs_up:\n",
    "#:1st_place_medal:\n",
    "#:money_bag:\n",
    "#:smile_cat:"
   ]
  },
  {
   "cell_type": "code",
   "execution_count": 20,
   "metadata": {},
   "outputs": [
    {
     "name": "stdout",
     "output_type": "stream",
     "text": [
      "Output: hello. 🌏\n"
     ]
    }
   ],
   "source": [
    "# Imports\n",
    "from emoji import emojize\n",
    "\n",
    "# Prompting user fort text to be turned into an emoji\n",
    "text = str(input(\"Input: \"))\n",
    "\n",
    "# Printing Result\n",
    "print(f\"Output: {emojize(text, language='alias')}\")"
   ]
  },
  {
   "cell_type": "markdown",
   "metadata": {},
   "source": [
    "# How to Test\n",
    "\n",
    "Here’s how to test your code manually:\n",
    "\n",
    "    Run your program with python emojize.py. Type :1st_place_medal: and press Enter. Your program should output:\n",
    "\n",
    "    Output: 🥇\n",
    "\n",
    "    Run your program with python emojize.py. Type :money_bag: and press Enter. Your program should output:\n",
    "\n",
    "    Output: 💰\n",
    "\n",
    "    Run your program with python emojize.py. Type :smile_cat: and press Enter. Your program should output:\n",
    "\n",
    "    Output: 😸\n",
    "\n",
    "You can execute the below to check your code using check50, a program that CS50 will use to test your code when you submit. But be sure to test it yourself as well!"
   ]
  }
 ],
 "metadata": {
  "kernelspec": {
   "display_name": "Python 3",
   "language": "python",
   "name": "python3"
  },
  "language_info": {
   "codemirror_mode": {
    "name": "ipython",
    "version": 3
   },
   "file_extension": ".py",
   "mimetype": "text/x-python",
   "name": "python",
   "nbconvert_exporter": "python",
   "pygments_lexer": "ipython3",
   "version": "3.10.7"
  }
 },
 "nbformat": 4,
 "nbformat_minor": 2
}
