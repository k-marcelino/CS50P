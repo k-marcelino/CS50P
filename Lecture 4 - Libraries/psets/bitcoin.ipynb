{
 "cells": [
  {
   "cell_type": "markdown",
   "metadata": {},
   "source": [
    "https://cs50.harvard.edu/python/2022/psets/4/bitcoin/"
   ]
  },
  {
   "cell_type": "markdown",
   "metadata": {},
   "source": [
    "Bitcoin is a form of digitial currency, otherwise known as cryptocurrency. Rather than rely on a central authority like a bank, Bitcoin instead relies on a distributed network, otherwise known as a blockchain, to record transactions.\n",
    "\n",
    "Because there’s demand for Bitcoin (i.e., users want it), users are willing to buy it, as by exchanging one currency (e.g., USD) for Bitcoin.\n",
    "\n",
    "In a file called bitcoin.py, implement a program that:\n",
    "\n",
    "- Expects the user to specify as a command-line argument the number of Bitcoins,  , that they would like to buy. If that argument cannot be converted to a float, the program should exit via sys.exit with an error message.\n",
    "- Queries the API for the CoinDesk Bitcoin Price Index at https://api.coindesk.com/v1/bpi/currentprice.json, which returns a JSON object, among whose nested keys is the current price of Bitcoin as a float. Be sure to catch any exceptions, as with code like: "
   ]
  },
  {
   "cell_type": "code",
   "execution_count": null,
   "metadata": {},
   "outputs": [],
   "source": [
    "import requests\n",
    "\n",
    "try:\n",
    "    ...\n",
    "except requests.RequestException:\n",
    "    ...\n",
    "\n"
   ]
  },
  {
   "cell_type": "markdown",
   "metadata": {},
   "source": [
    "- Outputs the current cost of Bitcoins in USD to four decimal places, using , as a thousands separator."
   ]
  },
  {
   "cell_type": "markdown",
   "metadata": {},
   "source": [
    "### Hints\n",
    "\n",
    "- Recall that the sys module comes with argv, per docs.python.org/3/library/sys.html#sys.argv.\n",
    "- Note that the requests module comes with quite a few methods, per requests.readthedocs.io/en/latest, among which are get, per requests.readthedocs.io/en/latest/user/quickstart.html#make-a-request, and json, per requests.readthedocs.io/en/latest/user/quickstart.html#json-response-content. You can install it with: "
   ]
  },
  {
   "cell_type": "code",
   "execution_count": 1,
   "metadata": {},
   "outputs": [
    {
     "name": "stdout",
     "output_type": "stream",
     "text": [
      "Requirement already satisfied: requests in c:\\users\\gracinha\\appdata\\local\\programs\\python\\python310\\lib\\site-packages (2.28.1)Note: you may need to restart the kernel to use updated packages.\n",
      "\n",
      "Requirement already satisfied: charset-normalizer<3,>=2 in c:\\users\\gracinha\\appdata\\local\\programs\\python\\python310\\lib\\site-packages (from requests) (2.1.1)\n",
      "Requirement already satisfied: idna<4,>=2.5 in c:\\users\\gracinha\\appdata\\local\\programs\\python\\python310\\lib\\site-packages (from requests) (3.3)\n",
      "Requirement already satisfied: urllib3<1.27,>=1.21.1 in c:\\users\\gracinha\\appdata\\local\\programs\\python\\python310\\lib\\site-packages (from requests) (1.26.16)\n",
      "Requirement already satisfied: certifi>=2017.4.17 in c:\\users\\gracinha\\appdata\\local\\programs\\python\\python310\\lib\\site-packages (from requests) (2022.6.15.1)\n"
     ]
    }
   ],
   "source": [
    "pip install requests"
   ]
  },
  {
   "cell_type": "markdown",
   "metadata": {},
   "source": [
    "- Note that CoinDesk’s API returns a JSON response like: "
   ]
  },
  {
   "cell_type": "code",
   "execution_count": null,
   "metadata": {},
   "outputs": [],
   "source": [
    "{\n",
    "   \"time\":{\n",
    "      \"updated\":\"May 2, 2022 15:27:00 UTC\",\n",
    "      \"updatedISO\":\"2022-05-02T15:27:00+00:00\",\n",
    "      \"updateduk\":\"May 2, 2022 at 16:27 BST\"\n",
    "   },\n",
    "   \"disclaimer\":\"This data was produced from the CoinDesk Bitcoin Price Index (USD). Non-USD currency data converted using hourly conversion rate from openexchangerates.org\",\n",
    "   \"chartName\":\"Bitcoin\",\n",
    "   \"bpi\":{\n",
    "      \"USD\":{\n",
    "         \"code\":\"USD\",\n",
    "         \"symbol\":\"&#36;\",\n",
    "         \"rate\":\"38,761.0833\",\n",
    "         \"description\":\"United States Dollar\",\n",
    "         \"rate_float\":38761.0833\n",
    "      },\n",
    "      \"GBP\":{\n",
    "         \"code\":\"GBP\",\n",
    "         \"symbol\":\"&pound;\",\n",
    "         \"rate\":\"30,827.6198\",\n",
    "         \"description\":\"British Pound Sterling\",\n",
    "         \"rate_float\":30827.6198\n",
    "      },\n",
    "      \"EUR\":{\n",
    "         \"code\":\"EUR\",\n",
    "         \"symbol\":\"&euro;\",\n",
    "         \"rate\":\"36,800.2764\",\n",
    "         \"description\":\"Euro\",\n",
    "         \"rate_float\":36800.2764\n",
    "      }\n",
    "   }\n",
    "}"
   ]
  },
  {
   "cell_type": "markdown",
   "metadata": {},
   "source": [
    "- Recall that you can format USD to four decimal places with a thousands separator with code like: "
   ]
  },
  {
   "cell_type": "code",
   "execution_count": null,
   "metadata": {},
   "outputs": [],
   "source": [
    "print(f\"${amount:,.4f}\")"
   ]
  },
  {
   "cell_type": "markdown",
   "metadata": {},
   "source": [
    "# Solution\n",
    "\n",
    "- It just works in the terminal, not in here\n",
    "\n",
    "If want to check an example go to the lecture notes: https://cs50.harvard.edu/python/2022/notes/4/\n"
   ]
  },
  {
   "cell_type": "code",
   "execution_count": null,
   "metadata": {},
   "outputs": [],
   "source": [
    "import requests\n",
    "import sys\n",
    "\n",
    "try:\n",
    "    n = float(sys.argv[1])\n",
    "except IndexError:\n",
    "    sys.exit(\"Missing command-line argument\")\n",
    "except ValueError:\n",
    "    sys.exit(\"Command-line argument is not a number\")\n",
    "\n",
    "\n",
    "try:\n",
    "    r = requests.get('https://api.coindesk.com/v1/bpi/currentprice.json')\n",
    "    price = float(r.json()['bpi']['USD']['rate_float'])\n",
    "except requests.RequestException:\n",
    "    sys.exit(\"Not Found\")\n",
    "\n",
    "amount = n * price\n",
    "\n",
    "print(f\"${amount:,.4f}\")"
   ]
  },
  {
   "cell_type": "markdown",
   "metadata": {},
   "source": [
    "# How to Test\n",
    "\n",
    "Here’s how to test your code manually:\n",
    "\n",
    "    Run your program with python bitcoin.py. Your program should use sys.exit to exit with an error message:\n",
    "\n",
    "    Missing command-line argument   \n",
    "\n",
    "    Run your program with python bitcoin.py cat. Your program should use sys.exit to exit with an error message:\n",
    "\n",
    "    Command-line argument is not a number\n",
    "\n",
    "    Run your program with python bitcoin.py 1. Your program should output the price of a single Bitcoin to four decimal places, using , as a thousands separator.\n",
    "    Run your program with python bitcoin.py 2. Your program should output the price of two Bitcoin to four decimal places, using , as a thousands separator.\n",
    "    Run your program with python bitcoin.py 2.5. Your program should output the price of 2.5 Bitcoin to four decimal places, using , as a thousands separator.\n"
   ]
  }
 ],
 "metadata": {
  "kernelspec": {
   "display_name": "Python 3",
   "language": "python",
   "name": "python3"
  },
  "language_info": {
   "codemirror_mode": {
    "name": "ipython",
    "version": 3
   },
   "file_extension": ".py",
   "mimetype": "text/x-python",
   "name": "python",
   "nbconvert_exporter": "python",
   "pygments_lexer": "ipython3",
   "version": "3.10.7"
  }
 },
 "nbformat": 4,
 "nbformat_minor": 2
}
