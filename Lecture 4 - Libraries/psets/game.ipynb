{
 "cells": [
  {
   "cell_type": "markdown",
   "metadata": {},
   "source": [
    "https://cs50.harvard.edu/python/2022/psets/4/game/"
   ]
  },
  {
   "cell_type": "markdown",
   "metadata": {},
   "source": [
    "# Guessing Game\n",
    "\n",
    "I’m thinking of a number between 1 and 100…\n",
    "What is it?\n",
    "\n",
    "In a file called game.py, implement a program that:\n",
    "\n",
    "- Prompts the user for a level, n . If the user does not input a positive integer, the program should prompt again.\n",
    "- Randomly generates an integer between 1 and, inclusive, using the random module.\n",
    "- Prompts the user to guess that integer. If the guess is not a positive integer, the program should prompt the user again.\n",
    "    - If the guess is smaller than that integer, the program should output Too small! and prompt the user again.\n",
    "    - If the guess is larger than that integer, the program should output Too large! and prompt the user again.\n",
    "    - If the guess is the same as that integer, the program should output Just right! and exit.\n",
    "\n",
    "### Hints\n",
    "\n",
    "    - Note that the random module comes with quite a few functions, per docs.python.org/3/library/random.html.\n"
   ]
  },
  {
   "cell_type": "markdown",
   "metadata": {},
   "source": [
    "# Solution"
   ]
  },
  {
   "cell_type": "code",
   "execution_count": null,
   "metadata": {},
   "outputs": [],
   "source": [
    "from random import randint\n",
    "\n",
    "def main():\n",
    "\n",
    "    # Prompting User for the level of difficult\n",
    "    level = get_number('Level: ')\n",
    "    # generating rand int based on the first user's input\n",
    "    rand = randint(1, level)\n",
    "    \n",
    "    # defining a scenario where guess will not be right, to get in the while loop\n",
    "    guess = level + 1\n",
    "\n",
    "    while guess != rand:\n",
    "\n",
    "        guess = get_number('Guess: ')\n",
    "        # Print message accordingly to the conditions bellow\n",
    "        print(\"Too large!\" if guess > rand else \"Too small!\" if guess < rand else \"Just right!\")\n",
    "    \n",
    "\n",
    "\n",
    "# Function to continue prompting user for an positive integer till it's provided\n",
    "def get_number(prompt='Input: '):\n",
    "    while True:\n",
    "        try:\n",
    "            number = int(input(prompt).strip())\n",
    "            if number > 0:\n",
    "                return number\n",
    "\n",
    "        except: # ValueError\n",
    "            pass\n",
    "\n",
    "\n",
    "# Calling main program\n",
    "if __name__ == \"__main__\":\n",
    "    main()"
   ]
  },
  {
   "cell_type": "markdown",
   "metadata": {},
   "source": [
    "# How to Test\n",
    "\n",
    "Here’s how to test your code manually:\n",
    "\n",
    "    Run your program with python game.py. Type cat at a prompt that says Level: and press Enter. Your program should reprompt you:\n",
    "\n",
    "    Level:   \n",
    "\n",
    "    Run your program with python game.py. Type -1 at a prompt that says Level: and press Enter. Your program should reprompt you:\n",
    "\n",
    "    Level:   \n",
    "\n",
    "    Run your program with python game.py. Type 10 at a prompt that says Level: and press Enter. Your program should now be ready to accept guesses:\n",
    "\n",
    "    Guess:   \n",
    "\n",
    "    Run your program with python game.py. Type 10 at a prompt that says Level: and press Enter. Then type cat. Your program should reprompt you:\n",
    "\n",
    "    Guess:   \n",
    "\n",
    "    Run your program with python game.py. Type 10 at a prompt that says Level: and press Enter. Then type -1. Your program should reprompt you:\n",
    "\n",
    "    Guess:   \n",
    "\n",
    "    Run your program with python game.py. Type 1 at a prompt that says Level: and press Enter. Then type 1. Your program should output:\n",
    "\n",
    "    Just right!  \n",
    "\n",
    "    There’s only one possible number the answer could be!\n",
    "    Run your program with python game.py. Type 10 at a prompt that says Level: and press Enter. Then type 100. Your program should output:\n",
    "\n",
    "    Too large!  \n",
    "\n",
    "    Looks like you’re guessing outside the range you specified.\n",
    "    Run your program with python game.py. Type 10000 at a prompt that says Level: and press Enter. Then type 1. Your program should output:\n",
    "\n",
    "    Too small!  \n",
    "\n",
    "    Most likely, anyways: you might get lucky and see Just right!. But it would certainly be odd for you to see Just right! every time. And certainly you shouldn’t see Too large!.\n"
   ]
  }
 ],
 "metadata": {
  "kernelspec": {
   "display_name": "Python 3",
   "language": "python",
   "name": "python3"
  },
  "language_info": {
   "codemirror_mode": {
    "name": "ipython",
    "version": 3
   },
   "file_extension": ".py",
   "mimetype": "text/x-python",
   "name": "python",
   "nbconvert_exporter": "python",
   "pygments_lexer": "ipython3",
   "version": "3.10.7"
  }
 },
 "nbformat": 4,
 "nbformat_minor": 2
}
