{
 "cells": [
  {
   "cell_type": "markdown",
   "metadata": {},
   "source": [
    "https://cs50.harvard.edu/python/2022/psets/2/twttr/"
   ]
  },
  {
   "cell_type": "markdown",
   "metadata": {},
   "source": [
    "# Just setting up my twttr\n",
    "\n",
    "When texting or tweeting, it’s not uncommon to shorten words to save time or space, as by omitting vowels, much like Twitter was originally called twttr. In a file called twttr.py, implement a program that prompts the user for a str of text and then outputs that same text but with all vowels (A, E, I, O, and U) omitted, whether inputted in uppercase or lowercase.\n",
    "\n",
    "#### Hints\n",
    "\n",
    "    Recall that a str comes with quite a few methods, per docs.python.org/3/library/stdtypes.html#string-methods.\n",
    "    Much like a list, a str is “iterable,” which means you can iterate over each of its characters in a loop. For instance, if s is a str, you could print each of its characters, one at a time, with code like: "
   ]
  },
  {
   "cell_type": "code",
   "execution_count": null,
   "metadata": {},
   "outputs": [],
   "source": [
    "'''\n",
    "for c in s:\n",
    "    print(c, end=\"\")\n",
    "'''"
   ]
  },
  {
   "cell_type": "markdown",
   "metadata": {},
   "source": [
    "# Solution\n",
    "\n",
    "### With List Comphehension"
   ]
  },
  {
   "cell_type": "code",
   "execution_count": 8,
   "metadata": {},
   "outputs": [
    {
     "name": "stdout",
     "output_type": "stream",
     "text": [
      "Wht's r nm?\n"
     ]
    }
   ],
   "source": [
    "# Declaring vowel's list\n",
    "vowels = ['a', 'e', 'i', 'o', 'u']\n",
    "\n",
    "# string = 'Twitter'\n",
    "string = str(input(\"Input: \")).strip()\n",
    "\n",
    "# List comprehension checking if the current iterated letter is not in the vowel's list above and concat \n",
    "vowelless = ''.join([letter for letter in string if letter.lower() not in vowels])\n",
    "\n",
    "# Print Result \n",
    "print(vowelless)"
   ]
  },
  {
   "cell_type": "markdown",
   "metadata": {},
   "source": [
    "# How to Test\n",
    "\n",
    "Here’s how to test your code manually:\n",
    "\n",
    "    Run your program with python twttr.py. Type Twitter and press Enter. Your program should output:\n",
    "\n",
    "    Twttr   \n",
    "\n",
    "    Run your program with python twttr.py. Type What's your name? and press Enter. Your program should output:\n",
    "\n",
    "    Wht's yr nm?\n",
    "\n",
    "    Run your program with python twttr.py. Type CS50 and press Enter. Your program should output\n",
    "\n",
    "    CS50\n",
    "\n",
    "You can execute the below to check your code using check50, a program that CS50 will use to test your code when you submit. But be sure to test it yourself as well!"
   ]
  }
 ],
 "metadata": {
  "kernelspec": {
   "display_name": "Python 3",
   "language": "python",
   "name": "python3"
  },
  "language_info": {
   "codemirror_mode": {
    "name": "ipython",
    "version": 3
   },
   "file_extension": ".py",
   "mimetype": "text/x-python",
   "name": "python",
   "nbconvert_exporter": "python",
   "pygments_lexer": "ipython3",
   "version": "3.10.7"
  }
 },
 "nbformat": 4,
 "nbformat_minor": 2
}
