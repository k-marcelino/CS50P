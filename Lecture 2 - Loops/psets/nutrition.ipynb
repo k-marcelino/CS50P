{
 "cells": [
  {
   "cell_type": "markdown",
   "metadata": {},
   "source": [
    "https://cs50.harvard.edu/python/2022/psets/2/nutrition/"
   ]
  },
  {
   "cell_type": "markdown",
   "metadata": {},
   "source": [
    "# Nutrition Facts\n",
    "\n",
    "The U.S. Food & Drug Adminstration (FDA) offers downloadable/printable posters that “show nutrition information for the 20 most frequently consumed raw fruits … in the United States. Retail stores are welcome to download the posters, print, display and/or distribute them to consumers in close proximity to the relevant foods in the stores.”\n",
    "\n",
    "In a file called nutrition.py, implement a program that prompts consumers users to input a fruit (case-insensitively) and then outputs the number of calories in one portion of that fruit, per the FDA’s poster for fruits, which is also available as text. Capitalization aside, assume that users will input fruits exactly as written in the poster (e.g., strawberries, not strawberry). Ignore any input that isn’t a fruit.\n",
    "Hints\n",
    "\n",
    "    Rather than use a conditional with 20 Boolean expressions, one for each fruit, better to use a dict to associate a fruit with its calories!\n",
    "    If k is a str and d is a dict, you can check whether k is a key in d with code like: "
   ]
  },
  {
   "cell_type": "code",
   "execution_count": null,
   "metadata": {},
   "outputs": [],
   "source": [
    "'''\n",
    "if k in d:\n",
    "    ...\n",
    "'''"
   ]
  },
  {
   "cell_type": "markdown",
   "metadata": {},
   "source": [
    "Take care to output the fruit’s calories, not calories from fat!"
   ]
  },
  {
   "cell_type": "markdown",
   "metadata": {},
   "source": [
    "# Solution"
   ]
  },
  {
   "cell_type": "code",
   "execution_count": 2,
   "metadata": {},
   "outputs": [
    {
     "name": "stdout",
     "output_type": "stream",
     "text": [
      "Calories: \n"
     ]
    }
   ],
   "source": [
    "# Dictionay - key: fruit; value: calories in one portion\n",
    "calories = {\n",
    "    'apple': 130,\n",
    "    'avocado': 50,\n",
    "    'banana': 110,\n",
    "    'cantaloupe': 50,\n",
    "    'grapefruit': 60,\n",
    "    'grapes': 90,\n",
    "    'honeydew melon': 50,\n",
    "    'kiwifruit': 90,\n",
    "    'lemon': 15,\n",
    "    'lime': 20,\n",
    "    'nectarine': 60,\n",
    "    'orange': 80,\n",
    "    'peach': 60,\n",
    "    'pear': 100,\n",
    "    'pineapple': 50,\n",
    "    'plums': 70,\n",
    "    'strawberries': 50,\n",
    "    'sweet cherries': 100,\n",
    "    'tangerine': 50,\n",
    "    'watermelon': 80\n",
    "}\n",
    "\n",
    "# Get item input\n",
    "fruit = str(input(\"Fruit: \")).strip().lower()\n",
    "\n",
    "# Getting value from dict if the input mathces a key, else return '' \n",
    "# # >>> Didn't pass the test, cause it was expecting no print at all if the fruit is not in the dict\n",
    "# print(f\"Calories: {calories.get(fruit, '')}\")\n",
    "\n",
    "if fruit in calories.keys():\n",
    "    print(f'Calories: {calories[fruit]}')"
   ]
  },
  {
   "cell_type": "markdown",
   "metadata": {},
   "source": [
    "# How to Test\n",
    "\n",
    "Here’s how to test your code manually:\n",
    "\n",
    "    Run your program with python nutrition.py. Type Apple and press Enter. Your program should output:\n",
    "\n",
    "    Calories: 130   \n",
    "\n",
    "    Run your program with python nutrition.py. Type Avocado and press Enter. Your program should output:\n",
    "\n",
    "    Calories: 50\n",
    "\n",
    "    Run your program with python nutrition.py. Type Sweet Cherries and press Enter. Your program should output\n",
    "\n",
    "    Calories: 100\n",
    "\n",
    "    Run your program with python nutrition.py. Type Tomato and press Enter. Your program should output nothing.\n",
    "\n",
    "Be sure to try other fruits and vary the casing of your input. Your program should behave as expected, case-insensitively.\n",
    "\n",
    "You can execute the below to check your code using check50, a program that CS50 will use to test your code when you submit. But be sure to test it yourself as well!"
   ]
  }
 ],
 "metadata": {
  "kernelspec": {
   "display_name": "Python 3",
   "language": "python",
   "name": "python3"
  },
  "language_info": {
   "codemirror_mode": {
    "name": "ipython",
    "version": 3
   },
   "file_extension": ".py",
   "mimetype": "text/x-python",
   "name": "python",
   "nbconvert_exporter": "python",
   "pygments_lexer": "ipython3",
   "version": "3.10.7"
  }
 },
 "nbformat": 4,
 "nbformat_minor": 2
}
