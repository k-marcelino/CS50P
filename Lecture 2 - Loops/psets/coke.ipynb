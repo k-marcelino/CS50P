{
 "cells": [
  {
   "cell_type": "markdown",
   "metadata": {},
   "source": [
    "https://cs50.harvard.edu/python/2022/psets/2/coke/"
   ]
  },
  {
   "cell_type": "markdown",
   "metadata": {},
   "source": [
    "# Coke Machine\n",
    "\n",
    "CS50 Coke Bottle\n",
    "\n",
    "Suppose that a machine sells bottles of Coca-Cola (Coke) for 50 cents and only accepts coins in these denominations: 25 cents, 10 cents, and 5 cents.\n",
    "\n",
    "In a file called coke.py, implement a program that prompts the user to insert a coin, one at a time, each time informing the user of the amount due. Once the user has inputted at least 50 cents, output how many cents in change the user is owed. Assume that the user will only input integers, and ignore any integer that isn’t an accepted denomination."
   ]
  },
  {
   "cell_type": "markdown",
   "metadata": {},
   "source": [
    "# Solution\n",
    "\n",
    "No terminal funciona igual ao esperado, mas aqui tem uns bugs no output, até agora não entendi o que rolou"
   ]
  },
  {
   "cell_type": "code",
   "execution_count": null,
   "metadata": {},
   "outputs": [],
   "source": [
    "amount = 50\n",
    "coin = 25\n",
    "print (f\"Amount Due: {amount}\")\n",
    "\n",
    "while amount > 0:\n",
    "    \n",
    "\n",
    "    # while coin not in [5, 10, 25]:\n",
    "    coin = int(input(\"Insert Coin: \"))\n",
    "    if coin in [5, 10, 25]:\n",
    "        pass\n",
    "    else:\n",
    "        print(f\"Amount Due: {amount}\")\n",
    "        continue\n",
    "\n",
    "    amount -= coin\n",
    "\n",
    "    print(f\"Amount Due: {amount}\") if amount > 0 else print(f\"Change Owed: {abs(amount)}\")"
   ]
  },
  {
   "cell_type": "code",
   "execution_count": null,
   "metadata": {},
   "outputs": [],
   "source": [
    "# Second way - Ainda da uns bugs no sentido de printar com delay, muito estranho\n",
    "\n",
    "amount = 50\n",
    "coin = 25\n",
    "print (f\"Amount Due: {amount}\")\n",
    "\n",
    "while amount > 0:\n",
    "    \n",
    "    while True:\n",
    "        coin = int(input(\"Insert Coin: \"))\n",
    "        if coin in [5, 10, 25]:\n",
    "            break\n",
    "\n",
    "        else:\n",
    "            print(f\"Amount Due: {amount}\")\n",
    "\n",
    "\n",
    "    amount -= coin\n",
    "    print(f\"Amount Due: {amount}\") if amount > 0 else print(f\"Change Owed: {abs(amount)}\")"
   ]
  },
  {
   "cell_type": "markdown",
   "metadata": {},
   "source": [
    "# How to Test\n",
    "\n",
    "Here’s how to test your code manually:\n",
    "\n",
    "    Run your program with python coke.py. At your Insert Coin: prompt, type 25 and press Enter. Your program should output:\n",
    "\n",
    "    Amount Due: 25   \n",
    "\n",
    "    and continue prompting the user for coins.\n",
    "    Run your program with python coke.py. At your Insert Coin: prompt, type 10 and press Enter. Your program should output:\n",
    "\n",
    "    Amount Due: 40\n",
    "\n",
    "    and continue prompting the user for coins.\n",
    "    Run your program with python coke.py. At your Insert Coin: prompt, type 5 and press Enter. Your program should output:\n",
    "\n",
    "    Amount Due: 45\n",
    "\n",
    "    and continue prompting the user for coins.\n",
    "    Run your program with python coke.py. At your Insert Coin: prompt, type 30 and press Enter. Your program should output:\n",
    "\n",
    "    Amount Due: 50\n",
    "\n",
    "    because the machine doesn’t accept 30-cent coins! Your program should then continue prompting the user for coins.\n",
    "    Run your program with python coke.py. At your Insert Coin: prompt, type 25 and press Enter, then type 25 again and press Enter. Your program should halt and display:\n",
    "\n",
    "    Change Owed: 0\n",
    "\n",
    "    Run your program with python coke.py. At your Insert Coin: prompt, type 25 and press Enter, then type 10 and press Enter. Type 25 again and press Enter, after which your program should halt and display:\n",
    "\n",
    "    Change Owed: 10\n",
    "\n",
    "You can execute the below to check your code using check50, a program that CS50 will use to test your code when you submit. But be sure to test it yourself as well!"
   ]
  }
 ],
 "metadata": {
  "kernelspec": {
   "display_name": "Python 3",
   "language": "python",
   "name": "python3"
  },
  "language_info": {
   "codemirror_mode": {
    "name": "ipython",
    "version": 3
   },
   "file_extension": ".py",
   "mimetype": "text/x-python",
   "name": "python",
   "nbconvert_exporter": "python",
   "pygments_lexer": "ipython3",
   "version": "3.10.7"
  }
 },
 "nbformat": 4,
 "nbformat_minor": 2
}
