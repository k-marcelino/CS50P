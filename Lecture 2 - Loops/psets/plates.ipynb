{
 "cells": [
  {
   "cell_type": "markdown",
   "metadata": {},
   "source": [
    "https://cs50.harvard.edu/python/2022/psets/2/plates/"
   ]
  },
  {
   "cell_type": "markdown",
   "metadata": {},
   "source": [
    "# Vanity Plates\n",
    "\n",
    "CS50 license plate\n",
    "\n",
    "In Massachusetts, home to Harvard University, it’s possible to request a vanity license plate for your car, with your choice of letters and numbers instead of random ones. Among the requirements, though, are:\n",
    "\n",
    "    “All vanity plates must start with at least two letters.”\n",
    "    “… vanity plates may contain a maximum of 6 characters (letters or numbers) and a minimum of 2 characters.”\n",
    "    “Numbers cannot be used in the middle of a plate; they must come at the end. For example, AAA222 would be an acceptable … vanity plate; AAA22A would not be acceptable. The first number used cannot be a ‘0’.”\n",
    "    “No periods, spaces, or punctuation marks are allowed.”\n",
    "\n",
    "In plates.py, implement a program that prompts the user for a vanity plate and then output Valid if meets all of the requirements or Invalid if it does not. Assume that any letters in the user’s input will be uppercase. Structure your program per the below, wherein is_valid returns True if s meets all requirements and False if it does not. Assume that s will be a str. You’re welcome to implement additional functions for is_valid to call (e.g., one function per requirement)."
   ]
  },
  {
   "cell_type": "code",
   "execution_count": null,
   "metadata": {},
   "outputs": [],
   "source": [
    "def main():\n",
    "    plate = input(\"Plate: \")\n",
    "    if is_valid(plate):\n",
    "        print(\"Valid\")\n",
    "    else:\n",
    "        print(\"Invalid\")\n",
    "\n",
    "\n",
    "def is_valid(s):\n",
    "    ...\n",
    "\n",
    "\n",
    "main()\n"
   ]
  },
  {
   "cell_type": "markdown",
   "metadata": {},
   "source": [
    "#### Hints\n",
    "\n",
    "    Recall that a str comes with quite a few methods, per docs.python.org/3/library/stdtypes.html#string-methods.\n",
    "    Much like a list, a str is a “sequence” (of characters), which means it can be “sliced” into shorter strings with syntax like s[i:j]. For instance, if s is \"CS50\", then s[0:2] would be \"CS\".\n"
   ]
  },
  {
   "cell_type": "markdown",
   "metadata": {},
   "source": [
    "# Solution"
   ]
  },
  {
   "cell_type": "code",
   "execution_count": null,
   "metadata": {},
   "outputs": [],
   "source": [
    "\"NRVOUS\""
   ]
  },
  {
   "cell_type": "code",
   "execution_count": 14,
   "metadata": {},
   "outputs": [
    {
     "name": "stdout",
     "output_type": "stream",
     "text": [
      "Valid\n"
     ]
    }
   ],
   "source": [
    "# Main Code\n",
    "def main():\n",
    "    plate = input(\"Plate: \")\n",
    "    if is_valid(plate):\n",
    "        print(\"Valid\")\n",
    "    else:\n",
    "        print(\"Invalid\")\n",
    "\n",
    "\n",
    "def is_valid(s):\n",
    "\n",
    "    # Control Variables\n",
    "    alpha_count = 0\n",
    "    num_count = 0\n",
    "\n",
    "    # First iterate through all characters and check if it's alpha, numeric or others.. then counts which one\n",
    "    for char in s:\n",
    "        if char.isalpha():\n",
    "            alpha_count += 1 \n",
    "\n",
    "        elif char.isnumeric():\n",
    "            num_count += 1\n",
    "            # Checking condition where the first number cannot be a zero\n",
    "            if (num_count == 1) and (int(char) == 0):\n",
    "                return False\n",
    "        \n",
    "        # If is not an alphanumeric character, then break the code\n",
    "        else:\n",
    "            return False\n",
    "    \n",
    "\n",
    "    # Checking conditions on:\n",
    "    if (\n",
    "        s[:2].isalpha() and  # First 2 chars being letters;\n",
    "        2 <= len(s) <= 6 and # the range of lenght, minimun 2 and maximum 6;\n",
    "        alpha_count >= 2 and # At least 2 alpha chars;\n",
    "        # if there are any numbers, the last chars must be equal the number of numeric ones\n",
    "        (num_count == 0 or (num_count > 0 and s[-num_count:].isnumeric()))\n",
    "    ):\n",
    "        return True\n",
    "\n",
    "    else:\n",
    "        return False\n",
    "\n",
    "\n",
    "if __name__ == \"__main__\":\n",
    "    main()\n",
    "\n"
   ]
  },
  {
   "cell_type": "markdown",
   "metadata": {},
   "source": [
    "# How to Test\n",
    "\n",
    "Here’s how to test your code manually:\n",
    "\n",
    "    Run your program with python plates.py. Type CS50 and press Enter. Your program should output:\n",
    "\n",
    "    Valid\n",
    "\n",
    "    Run your program with python plates.py. Type CS05 and press Enter. Your program should output:\n",
    "\n",
    "    Invalid\n",
    "\n",
    "    Run your program with python plates.py. Type CS50P and press Enter. Your program should output\n",
    "\n",
    "    Invalid\n",
    "\n",
    "    Run your program with python plates.py. Type PI3.14 and press Enter. Your program should output\n",
    "\n",
    "    Invalid\n",
    "\n",
    "    Run your program with python plates.py. Type H and press Enter. Your program should output\n",
    "\n",
    "    Invalid\n",
    "\n",
    "    Run your program with python plates.py. Type OUTATIME and press Enter. Your program should output\n",
    "\n",
    "    Invalid\n",
    "\n",
    "You can execute the below to check your code using check50, a program that CS50 will use to test your code when you submit. But be sure to test it yourself as well!"
   ]
  }
 ],
 "metadata": {
  "kernelspec": {
   "display_name": "Python 3",
   "language": "python",
   "name": "python3"
  },
  "language_info": {
   "codemirror_mode": {
    "name": "ipython",
    "version": 3
   },
   "file_extension": ".py",
   "mimetype": "text/x-python",
   "name": "python",
   "nbconvert_exporter": "python",
   "pygments_lexer": "ipython3",
   "version": "3.10.7"
  }
 },
 "nbformat": 4,
 "nbformat_minor": 2
}
