{
 "cells": [
  {
   "cell_type": "markdown",
   "metadata": {},
   "source": [
    "https://cs50.harvard.edu/python/2022/psets/2/camel/"
   ]
  },
  {
   "cell_type": "markdown",
   "metadata": {},
   "source": [
    "# camelCase\n",
    "\n",
    "camel\n",
    "\n",
    "Source: en.wikipedia.org/wiki/Camel_case\n",
    "\n",
    "In some languages, it’s common to use camel case (otherwise known as “mixed case”) for variables’ names when those names comprise multiple words, whereby the first letter of the first word is lowercase but the first letter of each subsequent word is uppercase. For instance, whereas a variable for a user’s name might be called name, a variable for a user’s first name might be called firstName, and a variable for a user’s preferred first name (e.g., nickname) might be called preferredFirstName.\n",
    "\n",
    "Python, by contrast, recommends snake case, whereby words are instead separated by underscores (_), with all letters in lowercase. For instance, those same variables would be called name, first_name, and preferred_first_name, respectively, in Python.\n",
    "\n",
    "In a file called camel.py, implement a program that prompts the user for the name of a variable in camel case and outputs the corresponding name in snake case. Assume that the user’s input will indeed be in camel case.\n",
    "Hints\n",
    "\n",
    "    Recall that a str comes with quite a few methods, per docs.python.org/3/library/stdtypes.html#string-methods.\n",
    "    Much like a list, a str is “iterable,” which means you can iterate over each of its characters in a loop. For instance, if s is a str, you could print each of its characters, one at a time, with code like: "
   ]
  },
  {
   "cell_type": "code",
   "execution_count": null,
   "metadata": {},
   "outputs": [],
   "source": [
    "for c in s:\n",
    "    print(c, end=\"\")\n"
   ]
  },
  {
   "cell_type": "code",
   "execution_count": null,
   "metadata": {},
   "outputs": [],
   "source": [
    "for _ in range(3):\n",
    "    print(\"meow\")"
   ]
  },
  {
   "cell_type": "markdown",
   "metadata": {},
   "source": [
    "# ~~Solution~~"
   ]
  },
  {
   "cell_type": "code",
   "execution_count": 5,
   "metadata": {},
   "outputs": [
    {
     "name": "stdout",
     "output_type": "stream",
     "text": [
      "preferredFirstName\n"
     ]
    }
   ],
   "source": [
    "# Turning python case into camelCase (Was not a test, I got wrong the objective hehe, but was funny anyway)\n",
    "\n",
    "# name = \"preferred_first_name\"\n",
    "name = str(input(\"python_case: \")).strip()\n",
    "\n",
    "under = False\n",
    "whole = ''\n",
    "\n",
    "for letter in name:\n",
    "    if under:\n",
    "        letter = letter.upper()\n",
    "    \n",
    "    under = False\n",
    "\n",
    "    if letter == '_':\n",
    "        under = True\n",
    "    else:\n",
    "        whole += letter\n",
    "\n",
    "print(whole)"
   ]
  },
  {
   "cell_type": "markdown",
   "metadata": {},
   "source": [
    "# Solution\n",
    "\n",
    "### 1. Using conventional for loop"
   ]
  },
  {
   "cell_type": "code",
   "execution_count": 8,
   "metadata": {},
   "outputs": [
    {
     "name": "stdout",
     "output_type": "stream",
     "text": [
      "preferred_first_name \n"
     ]
    }
   ],
   "source": [
    "# Even easier that the one above\n",
    "\n",
    "# camel = 'preferredFirstCase' # Test\n",
    "\n",
    "# Prompting User for a camelCase phrase or word\n",
    "camel = str(input(\"camelCase: \")).strip()\n",
    "# Defining an empty word\n",
    "whole = ''\n",
    "\n",
    "# Iterating throug over all letters from the camel case word\n",
    "for letter in camel:\n",
    "\n",
    "    # Checking if the letter is upper, then first add an underscore, then the current word in lower case\n",
    "    if letter.isupper():\n",
    "        whole += '_'\n",
    "\n",
    "    whole += letter.lower()\n",
    "\n",
    "# Printing Result\n",
    "print(whole)\n"
   ]
  },
  {
   "cell_type": "markdown",
   "metadata": {},
   "source": [
    "### 2. Using list comprehension"
   ]
  },
  {
   "cell_type": "code",
   "execution_count": 13,
   "metadata": {},
   "outputs": [
    {
     "name": "stdout",
     "output_type": "stream",
     "text": [
      "preferred_first_case\n"
     ]
    }
   ],
   "source": [
    "# Using List Comprehension\n",
    "\n",
    "# Prompting User for a camelCase phrase or word\n",
    "camel = input(\"camelCase: \").strip()\n",
    "\n",
    "# Using list comprehension and join for efficiency\n",
    "snake_case = ''.join(['_' + char.lower() if char.isupper() else char for char in camel])\n",
    "\n",
    "# Printing Result\n",
    "print(snake_case)\n"
   ]
  },
  {
   "cell_type": "markdown",
   "metadata": {},
   "source": [
    "# How to Test\n",
    "\n",
    "Here’s how to test your code manually:\n",
    "\n",
    "    Run your program with python camel.py. Type name and press Enter. Your program should output:\n",
    "\n",
    "    name   \n",
    "\n",
    "    Run your program with python camel.py. Type firstName and press Enter. Your program should output:\n",
    "\n",
    "    first_name\n",
    "\n",
    "    Run your program with python camel.py. Type preferredFirstName and press Enter. Your program should output\n",
    "\n",
    "    preferred_first_name\n",
    "\n",
    "You can execute the below to check your code using check50, a program that CS50 will use to test your code when you submit. But be sure to test it yourself as well!"
   ]
  }
 ],
 "metadata": {
  "kernelspec": {
   "display_name": "Python 3",
   "language": "python",
   "name": "python3"
  },
  "language_info": {
   "codemirror_mode": {
    "name": "ipython",
    "version": 3
   },
   "file_extension": ".py",
   "mimetype": "text/x-python",
   "name": "python",
   "nbconvert_exporter": "python",
   "pygments_lexer": "ipython3",
   "version": "3.10.7"
  }
 },
 "nbformat": 4,
 "nbformat_minor": 2
}
