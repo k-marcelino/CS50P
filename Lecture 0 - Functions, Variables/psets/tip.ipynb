{
 "cells": [
  {
   "cell_type": "markdown",
   "metadata": {},
   "source": [
    "https://cs50.harvard.edu/python/2022/psets/0/tip/"
   ]
  },
  {
   "cell_type": "markdown",
   "metadata": {},
   "source": [
    "# Tip Calculator\n",
    "\n",
    "    And now for my Wizard tip calculator.\n",
    "\n",
    "    — Morty Seinfeld\n",
    "\n",
    "In the United States, it’s customary to leave a tip for your server after dining in a restaurant, typically an amount equal to 15% or more of your meal’s cost. Not to worry, though, we’ve written a tip calculator for you, below!"
   ]
  },
  {
   "cell_type": "code",
   "execution_count": 4,
   "metadata": {},
   "outputs": [
    {
     "name": "stdout",
     "output_type": "stream",
     "text": [
      "Leave $18.00\n"
     ]
    }
   ],
   "source": [
    "# Defining main code\n",
    "def main():\n",
    "    dollars = dollars_to_float(input(\"How much was the meal? \"))\n",
    "    percent = percent_to_float(input(\"What percentage would you like to tip? \"))\n",
    "    tip = dollars * percent\n",
    "    print(f\"Leave ${tip:.2f}\")\n",
    "\n",
    "\n",
    "# Defining functions - So far it does not seem necessary to \"fancy\" the code or to check the user's input if it is as expected and ways to force a right input..\n",
    "    # ..so I'll keep it simple and straightforward for now, but conscious it's not the better solution for real life\n",
    "def dollars_to_float(d):\n",
    "    return float(d.replace(\"$\", \"\"))\n",
    "\n",
    "\n",
    "def percent_to_float(p):\n",
    "    return float(p.replace(\"%\", \"\")) / 100\n",
    "\n",
    "\n",
    "# Calling Main\n",
    "main()\n"
   ]
  },
  {
   "cell_type": "markdown",
   "metadata": {},
   "source": [
    "Well, we’ve written most of a tip calculator for you. Unfortunately, we didn’t have time to implement two functions:\n",
    "\n",
    "    dollars_to_float, which should accept a str as input (formatted as $##.##, wherein each # is a decimal digit), remove the leading $, and return the amount as a float. For instance, given $50.00 as input, it should return 50.0.\n",
    "    percent_to_float, which should accept a str as input (formatted as ##%, wherein each # is a decimal digit), remove the trailing %, and return the percentage as a float. For instance, given 15% as input, it should return 0.15.\n",
    "\n",
    "Assume that the user will input values in the expected formats.\n",
    "Hints\n",
    "\n",
    "    Recall that input returns a str, per docs.python.org/3/library/functions.html#input.\n",
    "    Recall that float can convert a str to a float, per docs.python.org/3/library/functions.html#float.\n",
    "    Recall that a str comes with quite a few methods, per docs.python.org/3/library/stdtypes.html#string-methods.\n"
   ]
  },
  {
   "cell_type": "markdown",
   "metadata": {},
   "source": [
    "# How to Test\n",
    "\n",
    "Here’s how to test your code manually:\n",
    "\n",
    "    Run your program with python tip.py. Type $50.00 and press Enter. Then, type 15% and press Enter. Your program should output:\n",
    "\n",
    "    Leave $7.50    \n",
    "\n",
    "    Run your program with python tip.py. Type $100.00 and press Enter. Then, type 18% and press Enter. Your program should output:\n",
    "\n",
    "    Leave $18.00\n",
    "\n",
    "    Run your program with python tip.py. Type $15.00 and press Enter. Then, type 25% and press Enter. Your program should output\n",
    "\n",
    "    Leave $3.75\n",
    "\n",
    "You can execute the below to check your code using check50, a program that CS50 will use to test your code when you submit. But be sure to test it yourself as well!\n",
    "\n",
    "check50 cs50/problems/2022/python/tip\n",
    "\n",
    "Green smilies mean your program has passed a test! Red frownies will indicate your program output something unexpected. Visit the URL that check50 outputs to see the input check50 handed to your program, what output it expected, and what output your program actually gave."
   ]
  }
 ],
 "metadata": {
  "kernelspec": {
   "display_name": "Python 3",
   "language": "python",
   "name": "python3"
  },
  "language_info": {
   "codemirror_mode": {
    "name": "ipython",
    "version": 3
   },
   "file_extension": ".py",
   "mimetype": "text/x-python",
   "name": "python",
   "nbconvert_exporter": "python",
   "pygments_lexer": "ipython3",
   "version": "3.10.7"
  }
 },
 "nbformat": 4,
 "nbformat_minor": 2
}
