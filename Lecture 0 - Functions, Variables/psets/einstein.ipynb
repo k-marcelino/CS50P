{
 "cells": [
  {
   "cell_type": "markdown",
   "metadata": {},
   "source": [
    "https://cs50.harvard.edu/python/2022/psets/0/einstein/"
   ]
  },
  {
   "cell_type": "markdown",
   "metadata": {},
   "source": [
    "# Einstein\n",
    "\n",
    "Even if you haven’t studied physics (recently or ever!), you might have heard that E = mc² **colocar como latex**\n",
    ", wherein represents energy (measured in Joules), represents mass (measured in kilograms), and\n",
    "\n",
    "represents the speed of light (measured approximately as 300000000 meters per second), per Albert Einstein et al. Essentially, the formula means that mass and energy are equivalent.\n",
    "\n",
    "In a file called einstein.py, implement a program in Python that prompts the user for mass as an integer (in kilograms) and then outputs the equivalent number of Joules as an integer. Assume that the user will input an integer."
   ]
  },
  {
   "cell_type": "code",
   "execution_count": 6,
   "metadata": {},
   "outputs": [
    {
     "name": "stdout",
     "output_type": "stream",
     "text": [
      "Let's calculate the Energy, given the mass (in kg)\n",
      "Energy: 4500000000000000000\n"
     ]
    },
    {
     "data": {
      "text/plain": [
       "True"
      ]
     },
     "execution_count": 6,
     "metadata": {},
     "output_type": "execute_result"
    }
   ],
   "source": [
    "# Defining constant\n",
    "c = 300000000 # meters per second\n",
    "\n",
    "# Asking user for the value of mass\n",
    "mass = int(input(\"Let's calculate the Energy, given the mass (in kg): \"))\n",
    "\n",
    "# Calculating the energy\n",
    "energy = mass * c **2\n",
    "\n",
    "# Printing Result\n",
    "print(f\"Energy: {energy}\")\n"
   ]
  },
  {
   "cell_type": "markdown",
   "metadata": {},
   "source": [
    "# How to Test\n",
    "\n",
    "Here’s how to test your code manually:\n",
    "\n",
    "    Run your program with python einstein.py. Type 1 and press Enter. Your program should output:\n",
    "\n",
    "    90000000000000000\n",
    "\n",
    "    Run your program with python einstein.py. Type 14 and press Enter. Your program should output:\n",
    "\n",
    "    1260000000000000000\n",
    "\n",
    "    Run your program with python einstein.py. Type 50 and press Enter. Your program should output\n",
    "\n",
    "    4500000000000000000\n",
    "\n",
    "You can execute the below to check your code using check50, a program that CS50 will use to test your code when you submit. But be sure to test it yourself as well!\n",
    "\n",
    "check50 cs50/problems/2022/python/einstein\n",
    "\n",
    "Green smilies mean your program has passed a test! Red frownies will indicate your program output something unexpected. Visit the URL that check50 outputs to see the input check50 handed to your program, what output it expected, and what output your program actually gave."
   ]
  }
 ],
 "metadata": {
  "kernelspec": {
   "display_name": "Python 3",
   "language": "python",
   "name": "python3"
  },
  "language_info": {
   "codemirror_mode": {
    "name": "ipython",
    "version": 3
   },
   "file_extension": ".py",
   "mimetype": "text/x-python",
   "name": "python",
   "nbconvert_exporter": "python",
   "pygments_lexer": "ipython3",
   "version": "3.10.7"
  }
 },
 "nbformat": 4,
 "nbformat_minor": 2
}
