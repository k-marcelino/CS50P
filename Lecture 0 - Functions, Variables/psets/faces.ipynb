{
 "cells": [
  {
   "cell_type": "markdown",
   "metadata": {},
   "source": [
    "https://cs50.harvard.edu/python/2022/psets/0/faces/"
   ]
  },
  {
   "cell_type": "markdown",
   "metadata": {},
   "source": [
    "Making Faces\n",
    "\n",
    "Before there were emoji, there were emoticons, whereby text like :) was a happy face and text like :( was a sad face. Nowadays, programs tend to convert emoticons to emoji automatically!\n",
    "\n",
    "In a file called faces.py, implement a function called convert that accepts a str as input and returns that same input with any :) converted to 🙂 (otherwise known as a slightly smiling face) and any :( converted to 🙁 (otherwise known as a slightly frowning face). All other text should be returned unchanged.\n",
    "\n",
    "Then, in that same file, implement a function called main that prompts the user for input, calls convert on that input, and prints the result. You’re welcome, but not required, to prompt the user explicitly, as by passing a str of your own as an argument to input. Be sure to call main at the bottom of your file."
   ]
  },
  {
   "cell_type": "code",
   "execution_count": 5,
   "metadata": {},
   "outputs": [
    {
     "name": "stdout",
     "output_type": "stream",
     "text": [
      "Hello 😀 Goodbye 😞\n"
     ]
    }
   ],
   "source": [
    "# Main Code\n",
    "def main():\n",
    "    message = convert(str(input(\"type the message: \")))\n",
    "    print(message)\n",
    "\n",
    "\n",
    "# Definning function to replace str to emoji\n",
    "def convert(message):\n",
    "    return message.replace(\":)\", \"🙂\").replace(\":(\", \"🙁\")\n",
    "\n",
    "\n",
    "# Calling Main\n",
    "main()\n"
   ]
  },
  {
   "cell_type": "markdown",
   "metadata": {},
   "source": [
    "# How to Test\n",
    "\n",
    "Here’s how to test your code manually:\n",
    "\n",
    "    Run your program with python faces.py. Type Hello :) and press Enter. Your program should output:\n",
    "\n",
    "    Hello 🙂\n",
    "\n",
    "    Run your program with python faces.py. Type Goodbye :( and press Enter. Your program should output:\n",
    "\n",
    "    Goodbye 🙁\n",
    "\n",
    "    Run your program with python faces.py. Type Hello :) Goodbye :( and press Enter. Your program should output\n",
    "\n",
    "    Hello 🙂 Goodbye 🙁\n",
    "\n",
    "You can execute the below to check your code using check50, a program that CS50 will use to test your code when you submit. But be sure to test it yourself as well!\n",
    "\n",
    "check50 cs50/problems/2022/python/faces\n",
    "\n",
    "Green smilies mean your program has passed a test! Red frownies will indicate your program output something unexpected. Visit the URL that check50 outputs to see the input check50 handed to your program, what output it expected, and what output your program actually gave."
   ]
  }
 ],
 "metadata": {
  "kernelspec": {
   "display_name": "Python 3",
   "language": "python",
   "name": "python3"
  },
  "language_info": {
   "codemirror_mode": {
    "name": "ipython",
    "version": 3
   },
   "file_extension": ".py",
   "mimetype": "text/x-python",
   "name": "python",
   "nbconvert_exporter": "python",
   "pygments_lexer": "ipython3",
   "version": "3.10.7"
  }
 },
 "nbformat": 4,
 "nbformat_minor": 2
}
