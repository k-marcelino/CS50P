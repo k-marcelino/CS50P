{
 "cells": [
  {
   "cell_type": "markdown",
   "metadata": {},
   "source": [
    "https://cs50.harvard.edu/python/2022/psets/0/playback/"
   ]
  },
  {
   "cell_type": "markdown",
   "metadata": {},
   "source": [
    "# Playback Speed\n",
    "\n",
    "Some people have a habit of lecturing speaking rather quickly, and it’d be nice to slow them down, a la YouTube’s 0.75 playback speed, or even by having them pause between words.\n",
    "\n",
    "In a file called playback.py, implement a program in Python that prompts the user for input and then outputs that same input, replacing each space with ... (i.e., three periods)."
   ]
  },
  {
   "cell_type": "code",
   "execution_count": 8,
   "metadata": {},
   "outputs": [
    {
     "name": "stdout",
     "output_type": "stream",
     "text": [
      "sdfds...df...sd\n"
     ]
    }
   ],
   "source": [
    "# Ask user for speech and replace spaces for 3 dots \"...\"\n",
    "speech = str(input(\"Say something: \")).strip().replace(\" \", \"...\")\n",
    "print(speech)\n"
   ]
  },
  {
   "cell_type": "markdown",
   "metadata": {},
   "source": [
    "# How to Test\n",
    "\n",
    "Here’s how to test your code manually:\n",
    "\n",
    "    Run your program with python playback.py. Type This is CS50 and press Enter. Your program should output:\n",
    "\n",
    "    This...is...CS50    \n",
    "\n",
    "    Run your program with python playback.py. Type This is our week on functions and press Enter. Your program should output:\n",
    "\n",
    "    This...is...our...week...on...functions\n",
    "\n",
    "    Run your program with python playback.py. Type Let's implement a function called hello and press Enter. Your program should output\n",
    "\n",
    "    Let's...implement...a...function...called...hello\n",
    "\n",
    "You can execute the below to check your code using check50, a program that CS50 will use to test your code when you submit. But be sure to test it yourself as well!\n",
    "\n",
    "check50 cs50/problems/2022/python/playback\n",
    "\n",
    "Green smilies mean your program has passed a test! Red frownies will indicate your program output something unexpected. Visit the URL that check50 outputs to see the input check50 handed to your program, what output it expected, and what output your program actually gave."
   ]
  }
 ],
 "metadata": {
  "kernelspec": {
   "display_name": "Python 3",
   "language": "python",
   "name": "python3"
  },
  "language_info": {
   "codemirror_mode": {
    "name": "ipython",
    "version": 3
   },
   "file_extension": ".py",
   "mimetype": "text/x-python",
   "name": "python",
   "nbconvert_exporter": "python",
   "pygments_lexer": "ipython3",
   "version": "3.10.7"
  }
 },
 "nbformat": 4,
 "nbformat_minor": 2
}
