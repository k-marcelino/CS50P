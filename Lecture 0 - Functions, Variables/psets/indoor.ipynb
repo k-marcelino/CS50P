{
 "cells": [
  {
   "cell_type": "markdown",
   "metadata": {},
   "source": [
    "https://cs50.harvard.edu/python/2022/psets/0/indoor/"
   ]
  },
  {
   "cell_type": "markdown",
   "metadata": {},
   "source": [
    "# Indoor Voice\n",
    "\n",
    "WRITING IN ALL CAPS IS LIKE YELLING.\n",
    "\n",
    "Best to use your “indoor voice” sometimes, writing entirely in lowercase.\n",
    "\n",
    "In a file called indoor.py, implement a program in Python that prompts the user for input and then outputs that same input in lowercase. Punctuation and whitespace should be outputted unchanged. You’re welcome, but not required, to prompt the user explicitly, as by passing a str of your own as an argument to input."
   ]
  },
  {
   "cell_type": "code",
   "execution_count": 2,
   "metadata": {},
   "outputs": [
    {
     "name": "stdout",
     "output_type": "stream",
     "text": [
      "heloooooo\n"
     ]
    }
   ],
   "source": [
    "# Asking User for Caps Lock input and turn it into lower case\n",
    "indoor_voice = str(input(\"YELL HERE: \")).lower()\n",
    "print(indoor_voice)\n"
   ]
  },
  {
   "cell_type": "markdown",
   "metadata": {},
   "source": [
    "# How to Test\n",
    "\n",
    "Here’s how to test your code manually. At the indoor/ $ prompt in your terminal: :\n",
    "\n",
    "    Run your program with python indoor.py. Type **HELLO** and press Enter. Your program should output **hello**.\n",
    "    Run your program with python indoor.py. Type **THIS IS CS50** and press Enter. Your program should output **this is cs50**.\n",
    "    Run your program with python indoor.py. Type **50** and press Enter. Your program should output **50**.\n",
    "\n",
    "If you run into an error saying your file cannot be opened, retrace your steps to be sure that you are inside your indoor folder and have saved your indoor.py file there. Remember how?\n",
    "\n",
    "You can execute the below to check your code using check50, a program that CS50 will use to test your code when you submit. But be sure to test it yourself as well!\n",
    "\n",
    "check50 cs50/problems/2022/python/indoor\n",
    "\n",
    "Green smilies mean your program has passed a test! Red frownies will indicate your program output something unexpected. Visit the URL that check50 outputs to see the input check50 handed to your program, what output it expected, and what output your program actually gave."
   ]
  }
 ],
 "metadata": {
  "kernelspec": {
   "display_name": "Python 3",
   "language": "python",
   "name": "python3"
  },
  "language_info": {
   "codemirror_mode": {
    "name": "ipython",
    "version": 3
   },
   "file_extension": ".py",
   "mimetype": "text/x-python",
   "name": "python",
   "nbconvert_exporter": "python",
   "pygments_lexer": "ipython3",
   "version": "3.10.7"
  }
 },
 "nbformat": 4,
 "nbformat_minor": 2
}
