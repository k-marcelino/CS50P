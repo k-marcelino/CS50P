{
 "cells": [
  {
   "cell_type": "markdown",
   "metadata": {},
   "source": [
    "https://cs50.harvard.edu/python/2022/psets/1/extensions/"
   ]
  },
  {
   "cell_type": "markdown",
   "metadata": {},
   "source": [
    "# File Extensions\n",
    "\n",
    "Even though Windows and macOS sometimes hide them, most files have file extensions, a suffix that starts with a period (.) at the end of their name. For instance, file names for GIFs end with .gif, and file names for JPEGs end with .jpg or .jpeg. When you double-click on a file to open it, your computer uses its file extension to determine which program to launch.\n",
    "\n",
    "Web browsers, by contrast, rely on media types, formerly known as MIME types, to determine how to display files that live on the web. When you download a file from a web server, that server sends an HTTP header, along with the file itself, indicating the file’s media type. For instance, the media type for a GIF is image/gif, and the media type for a JPEG is image/jpeg. To determine the media type for a file, a web server typically looks at the file’s extension, mapping one to the other.\n",
    "\n",
    "See developer.mozilla.org/en-US/docs/Web/HTTP/Basics_of_HTTP/MIME_types/Common_types for common types.\n",
    "\n",
    "In a file called extensions.py, implement a program that prompts the user for the name of a file and then outputs that file’s media type if the file’s name ends, case-insensitively, in any of these suffixes:\n",
    "\n",
    "    .gif\n",
    "    .jpg\n",
    "    .jpeg\n",
    "    .png\n",
    "    .pdf\n",
    "    .txt\n",
    "    .zip\n",
    "\n",
    "If the file’s name ends with some other suffix or has no suffix at all, output application/octet-stream instead, which is a common default.\n",
    "Hints\n",
    "\n",
    "    Recall that a str comes with quite a few methods, per docs.python.org/3/library/stdtypes.html#string-methods.\n"
   ]
  },
  {
   "attachments": {
    "image.png": {
     "image/png": "[encoded data removed]"
    }
   },
   "cell_type": "markdown",
   "metadata": {},
   "source": [
    "![image.png](attachment:image.png)"
   ]
  },
  {
   "cell_type": "markdown",
   "metadata": {},
   "source": [
    "test.txt.pdf"
   ]
  },
  {
   "cell_type": "markdown",
   "metadata": {},
   "source": [
    "# Solutions\n",
    "\n",
    "## 1. Using math case\n",
    "\n",
    "- Very likely if/elif/else\n"
   ]
  },
  {
   "cell_type": "code",
   "execution_count": null,
   "metadata": {},
   "outputs": [],
   "source": [
    "# Prompting user for file name\n",
    "file_name = str(input(\"Give me the file name: \")).strip().lower()\n",
    "\n",
    "# Getting the file extension - Obtaining the last dot position in the name\n",
    "last_dot = file_name.rfind('.') # Depending the goal with would be necessary to check if there is really an extension and take some other actions, for now I'm keeping it simple\n",
    "extension = file_name[last_dot:]\n",
    "# print(extension)\n",
    "\n",
    "# Printing the mime found, or if any, print the default value\n",
    "match extension:\n",
    "    case  \".gif\":\n",
    "        print(\"image/gif\")\n",
    "    case  \".jpg\" | \".jpeg\":\n",
    "        print(\"image/jpeg\")\n",
    "    case \".png\":\n",
    "        print(\"image/png\")\n",
    "    case \".pdf\":\n",
    "        print(\"application/pdf\")\n",
    "    case \".txt\":\n",
    "        print(\"text/plain\")\n",
    "    case \".zip\":\n",
    "        print(\"application/zip\")\n",
    "    case _:\n",
    "        print(\"application/octet-stream\")\n"
   ]
  },
  {
   "cell_type": "markdown",
   "metadata": {},
   "source": [
    "## 2 Using Dict\n",
    "\n",
    "### 2.1 First Version"
   ]
  },
  {
   "cell_type": "code",
   "execution_count": 43,
   "metadata": {},
   "outputs": [
    {
     "name": "stdout",
     "output_type": "stream",
     "text": [
      "application/pdf\n"
     ]
    }
   ],
   "source": [
    "# Creating dict to store all mime types and their respective extensions\n",
    "media_dict = {\n",
    "    \"image/gif\":        [\".gif\"],\n",
    "    \"image/jpeg\":       [\".jpg\", \".jpeg\"],\n",
    "    \"image/png\":        [\".png\"],\n",
    "    \"application/pdf\":  [\".pdf\"],\n",
    "    \"text/plain\":       [\".txt\"],\n",
    "    \"application/zip\":  [\".zip\"]\n",
    "}\n",
    "\n",
    "# initializing mime variable empty\n",
    "mime = \"\"\n",
    "\n",
    "# Prompting user for file name\n",
    "file_name = str(input(\"Give me the file name: \")).strip().lower()\n",
    "\n",
    "# Getting the file extension - Obtaining the last dot position in the name\n",
    "last_dot = file_name.rfind('.') # Depending the goal with would be necessary to check if there is really an extension and take some other actions, for now I'm keeping it simple\n",
    "extension = file_name[last_dot:]\n",
    "# print(extension)\n",
    "\n",
    "# Checking if any extension is found in the given file_name, if so, store the respective mime in a variable\n",
    "for key, value in media_dict.items():\n",
    "    # print(value)\n",
    "    if extension in value:\n",
    "        mime = key\n",
    "        break\n",
    "\n",
    "# Printing the mime found, or if any, print the default value\n",
    "print(mime) if mime != \"\" else print(\"application/octet-stream\")"
   ]
  },
  {
   "cell_type": "markdown",
   "metadata": {},
   "source": [
    "### 2.2 Second Version\n",
    "\n",
    "- Slighly different approach to the first solution without iterating over the dict"
   ]
  },
  {
   "cell_type": "code",
   "execution_count": 45,
   "metadata": {},
   "outputs": [
    {
     "name": "stdout",
     "output_type": "stream",
     "text": [
      "application/pdf\n"
     ]
    }
   ],
   "source": [
    "# Creating dict to store all mime types and their respective extensions\n",
    "media_dict = {\n",
    "    \".gif\"  : \"image/gif\",\n",
    "    \".jpg\"  : \"image/jpeg\",\n",
    "    \".jpeg\" : \"image/jpeg\",\n",
    "    \".png\"  : \"image/png\",\n",
    "    \".pdf\"  : \"application/pdf\",\n",
    "    \".txt\"  : \"text/plain\",\n",
    "    \".zip\"  : \"application/zip\"\n",
    "}\n",
    "\n",
    "# initializing mime variable empty\n",
    "mime = \"\"\n",
    "\n",
    "# Prompting user for file name\n",
    "file_name = str(input(\"Give me the file name: \")).strip().lower()\n",
    "\n",
    "# Getting the file extension - Obtaining the last dot position in the name\n",
    "last_dot = file_name.rfind('.') # Depending the goal with would be necessary to check if there is really an extension and take some other actions, for now I'm keeping it simple\n",
    "extension = file_name[last_dot:]\n",
    "# print(extension)\n",
    "\n",
    "# Getting the correspondent mime given the extension, if any found, use the default value\n",
    "mime = media_dict.get(extension, \"application/octet-stream\")\n",
    "\n",
    "# Printing result\n",
    "print(mime)"
   ]
  },
  {
   "cell_type": "code",
   "execution_count": null,
   "metadata": {},
   "outputs": [],
   "source": [
    "# Solutions\n",
    "\n",
    "## 1. Using math case [WORKING]\n",
    "##### Very likely if/elif/else\n",
    "\n",
    "# Prompting user for file name\n",
    "# file_name = str(input(\"Give me the file name: \")).strip().lower()\n",
    "\n",
    "# Getting the file extension - Obtaining the last dot position in the name\n",
    "# last_dot = file_name.rfind('.') # Depending the goal with would be necessary to check if there is really an extension and take some other actions, for now I'm keeping it simple\n",
    "# extension = file_name[last_dot:]\n",
    "# print(extension)\n",
    "\n",
    "# Printing the mime found, or if any, print the default value\n",
    "# match extension:\n",
    "#     case  \".gif\":\n",
    "#         print(\"image/gif\")\n",
    "#     case  \".jpg\" | \".jpeg\":\n",
    "#         print(\"image/jpeg\")\n",
    "#     case \".png\":\n",
    "#         print(\"image/png\")\n",
    "#     case \".pdf\":\n",
    "#         print(\"application/pdf\")\n",
    "#     case \".txt\":\n",
    "#         print(\"text/plain\")\n",
    "#     case \".zip\":\n",
    "#         print(\"application/zip\")\n",
    "#     case _:\n",
    "#         print(\"application/octet-stream\")\n",
    "\n",
    "\n",
    "\n",
    "## 2 Using Dict\n",
    "\n",
    "### 2.1 First Version [WORKING]\n",
    "\n",
    "# Creating dict to store all mime types and their respective extensions\n",
    "# media_dict = {\n",
    "#     \"image/gif\":        [\".gif\"],\n",
    "#     \"image/jpeg\":       [\".jpg\", \".jpeg\"],\n",
    "#     \"image/png\":        [\".png\"],\n",
    "#     \"application/pdf\":  [\".pdf\"],\n",
    "#     \"text/plain\":       [\".txt\"],\n",
    "#     \"application/zip\":  [\".zip\"]\n",
    "# }\n",
    "\n",
    "# initializing mime variable empty\n",
    "# mime = \"\"\n",
    "\n",
    "# Prompting user for file name\n",
    "# file_name = str(input(\"Give me the file name: \")).strip().lower()\n",
    "\n",
    "# Getting the file extension - Obtaining the last dot position in the name\n",
    "# last_dot = file_name.rfind('.') # Depending the goal with would be necessary to check if there is really an extension and take some other actions, for now I'm keeping it simple\n",
    "# extension = file_name[last_dot:]\n",
    "# print(extension)\n",
    "\n",
    "# Checking if any extension is found in the given file_name, if so, store the respective mime in a variable\n",
    "# for key, value in media_dict.items():\n",
    "    # print(value)\n",
    "    # if extension in value:\n",
    "    #     mime = key\n",
    "    #     break\n",
    "\n",
    "# Printing the mime found, or if any, print the default value\n",
    "# print(mime) if mime != \"\" else print(\"application/octet-stream\")\n",
    "\n",
    "\n",
    "\n",
    "\n",
    "### 2.2 Second Version [WORKING]\n",
    "\n",
    "#### Slighly different approach to the first solution without iterating over the dict\n",
    "\n",
    "# Creating dict to store all mime types and their respective extensions\n",
    "media_dict = {\n",
    "    \".gif\"  : \"image/gif\",\n",
    "    \".jpg\"  : \"image/jpeg\",\n",
    "    \".jpeg\" : \"image/jpeg\",\n",
    "    \".png\"  : \"image/png\",\n",
    "    \".pdf\"  : \"application/pdf\",\n",
    "    \".txt\"  : \"text/plain\",\n",
    "    \".zip\"  : \"application/zip\"\n",
    "}\n",
    "\n",
    "# initializing mime variable empty\n",
    "mime = \"\"\n",
    "\n",
    "# Prompting user for file name\n",
    "file_name = str(input(\"Give me the file name: \")).strip().lower()\n",
    "\n",
    "# Getting the file extension - Obtaining the last dot position in the name\n",
    "last_dot = file_name.rfind('.') # Depending the goal with would be necessary to check if there is really an extension and take some other actions, for now I'm keeping it simple\n",
    "extension = file_name[last_dot:]\n",
    "# print(extension)\n",
    "\n",
    "# Getting the correspondent mime given the extension, if any found, use the default value\n",
    "mime = media_dict.get(extension, \"application/octet-stream\")\n",
    "\n",
    "# Printing result\n",
    "print(mime)\n"
   ]
  },
  {
   "cell_type": "markdown",
   "metadata": {},
   "source": [
    "# How to Test\n",
    "\n",
    "Here’s how to test your code manually:\n",
    "\n",
    "    Run your program with python extensions.py. Type happy.jpg and press Enter. Your program should output:\n",
    "\n",
    "    image/jpeg   \n",
    "\n",
    "    Run your program with python extensions.py. Type document.pdf and press Enter. Your program should output:\n",
    "\n",
    "    application/pdf\n",
    "\n",
    "Be sure to test each of the other file formats, vary the casing of your input, and “accidentally” add spaces on either side of your input before pressing enter. Your program should behave as expected, case- and space-insensitively.\n",
    "\n",
    "You can execute the below to check your code using check50, a program that CS50 will use to test your code when you submit. But be sure to test it yourself as well!\n",
    "\n",
    "check50 cs50/problems/2022/python/extensions\n",
    "\n",
    "Green smilies mean your program has passed a test! Red frownies will indicate your program output something unexpected. Visit the URL that check50 outputs to see the input check50 handed to your program, what output it expected, and what output your program actually gave."
   ]
  }
 ],
 "metadata": {
  "kernelspec": {
   "display_name": "Python 3",
   "language": "python",
   "name": "python3"
  },
  "language_info": {
   "codemirror_mode": {
    "name": "ipython",
    "version": 3
   },
   "file_extension": ".py",
   "mimetype": "text/x-python",
   "name": "python",
   "nbconvert_exporter": "python",
   "pygments_lexer": "ipython3",
   "version": "3.10.7"
  }
 },
 "nbformat": 4,
 "nbformat_minor": 2
}
