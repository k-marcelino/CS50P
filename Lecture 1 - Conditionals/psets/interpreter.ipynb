{
 "cells": [
  {
   "cell_type": "markdown",
   "metadata": {},
   "source": [
    "https://cs50.harvard.edu/python/2022/psets/1/interpreter/"
   ]
  },
  {
   "cell_type": "markdown",
   "metadata": {},
   "source": [
    "# Math Interpreter\n",
    "\n",
    "Python already supports math, whereby you can write code to add, subtract, multiply, or divide values and even variables. But let’s write a program that enables users to do math, even without knowing Python.\n",
    "\n",
    "In a file called interpreter.py, implement a program that prompts the user for an arithmetic expression and then calculates and outputs the result as a floating-point value formatted to one decimal place. Assume that the user’s input will be formatted as x y z, with one space between x and y and one space between y and z, wherein:\n",
    "\n",
    "    x is an integer\n",
    "    y is +, -, *, or /\n",
    "    z is an integer\n",
    "\n",
    "For instance, if the user inputs 1 + 1, your program should output 2.0. Assume that, if y is /, then z will not be 0.\n",
    "\n",
    "Note that, just as python itself is an interpreter for Python, so will your interpreter.py be an interpreter for math!\n",
    "Hints\n",
    "\n",
    "Recall that a str comes with quite a few methods, per docs.python.org/3/library/stdtypes.html#string-methods, including split, which separates a str into a sequence of values, all of which can be assigned to variables at once. For instance, if expression is a str like 1 + 1, then\n",
    "\n",
    "x, y, z = expression.split(\" \")\n",
    "\n",
    "will assign 1 to x, + to y, and 1 to z."
   ]
  },
  {
   "cell_type": "markdown",
   "metadata": {},
   "source": [
    "# Solutions\n",
    "\n",
    "## 1. Match-Case"
   ]
  },
  {
   "cell_type": "code",
   "execution_count": 30,
   "metadata": {},
   "outputs": [
    {
     "name": "stdout",
     "output_type": "stream",
     "text": [
      "1.5\n"
     ]
    }
   ],
   "source": [
    "# If in real life the obvious checks before anything would be to:\n",
    "\"\"\"\n",
    "- See if there are 2 spaces after the strip to split with success\n",
    "- See if y is is a predefined list of operations\n",
    "- See if x and z are numerical\n",
    "\n",
    "But in the context of simplicity and go straight to the point I will skip these and others and more robust checks\n",
    "\"\"\"\n",
    "\n",
    "\n",
    "# Asking user for expression:\n",
    "expression = str(input(\"Expression: \")).strip()\n",
    "# Spliting and treating arguments\n",
    "x, y, z = expression.split()\n",
    "x, z = float(x), float(z)\n",
    "\n",
    "# Checking wich case the operation matches\n",
    "match y:\n",
    "    case \"+\":\n",
    "        print(round(x + z, 1))\n",
    "    case \"-\":\n",
    "        print(round(x - z, 1))\n",
    "    case \"*\":\n",
    "        print(round(x * z, 1))\n",
    "    case \"/\":\n",
    "        print(round(x / z, 1)) if z!= 0 else print(\"undefined\")\n"
   ]
  },
  {
   "cell_type": "markdown",
   "metadata": {},
   "source": [
    "## 2. Eval\n",
    "\n",
    "#### Check for a better way to resolve this"
   ]
  },
  {
   "cell_type": "code",
   "execution_count": 26,
   "metadata": {},
   "outputs": [
    {
     "name": "stdout",
     "output_type": "stream",
     "text": [
      "1.5\n"
     ]
    }
   ],
   "source": [
    "# Asking user for expression:\n",
    "expression = str(input(\"Expression: \")).strip()\n",
    "# Spliting and treating arguments\n",
    "x, y, z = expression.split()\n",
    "x, z = float(x), float(z)\n",
    "\n",
    "\n",
    "# Printing result avoiding division by zero\n",
    "print(eval(f\"{x} {y} {z}\")) if (y != \"/\") or (z != 0) else \"undefined\"\n"
   ]
  },
  {
   "cell_type": "markdown",
   "metadata": {},
   "source": [
    "# How to Test\n",
    "\n",
    "Here’s how to test your code manually:\n",
    "\n",
    "    Run your program with python interpreter.py. Type 1 + 1 and press Enter. Your program should output:\n",
    "\n",
    "    2.0 \n",
    "\n",
    "    Run your program with python interpreter.py. Type 2 - 3 and press Enter. Your program should output:\n",
    "\n",
    "    -1.0\n",
    "\n",
    "    Run your program with python interpreter.py. Type 2 * 2 and press Enter. Your program should output\n",
    "\n",
    "    4.0\n",
    "\n",
    "    Run your program with python interpreter.py. Type 50 / 5 and press Enter. Your program should output\n",
    "\n",
    "    10.0\n",
    "\n",
    "You can execute the below to check your code using check50, a program that CS50 will use to test your code when you submit. But be sure to test it yourself as well!"
   ]
  }
 ],
 "metadata": {
  "kernelspec": {
   "display_name": "Python 3",
   "language": "python",
   "name": "python3"
  },
  "language_info": {
   "codemirror_mode": {
    "name": "ipython",
    "version": 3
   },
   "file_extension": ".py",
   "mimetype": "text/x-python",
   "name": "python",
   "nbconvert_exporter": "python",
   "pygments_lexer": "ipython3",
   "version": "3.10.7"
  }
 },
 "nbformat": 4,
 "nbformat_minor": 2
}
