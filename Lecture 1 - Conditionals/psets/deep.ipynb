{
 "cells": [
  {
   "cell_type": "markdown",
   "metadata": {},
   "source": [
    "https://cs50.harvard.edu/python/2022/psets/1/deep/"
   ]
  },
  {
   "cell_type": "markdown",
   "metadata": {},
   "source": [
    "# Deep Thought\n",
    "\n",
    "    “All right,” said the computer, and settled into silence again. The two men fidgeted. The tension was unbearable.\n",
    "    “You’re really not going to like it,” observed Deep Thought.\n",
    "    “Tell us!”\n",
    "    “All right,” said Deep Thought. “The Answer to the Great Question…”\n",
    "    “Yes…!”\n",
    "    “Of Life, the Universe and Everything…” said Deep Thought.\n",
    "    “Yes…!”\n",
    "    “Is…” said Deep Thought, and paused.\n",
    "    “Yes…!”\n",
    "    “Is…”\n",
    "    “Yes…!!!…?”\n",
    "    “Forty-two,” said Deep Thought, with infinite majesty and calm.”\n",
    "\n",
    "    — The Hitchhiker’s Guide to the Galaxy, Douglas Adams\n",
    "\n",
    "In deep.py, implement a program that prompts the user for the answer to the Great Question of Life, the Universe and Everything, outputting Yes if the user inputs 42 or (case-insensitively) forty-two or forty two. Otherwise output No.\n",
    "\n",
    "### Hints\n",
    "\n",
    "    No need to convert the user’s input to an int if you check for equality with \"42\", a str, rather than 42, an int!\n",
    "    It’s okay if your output or the user’s wraps onto multiple lines.\n"
   ]
  },
  {
   "cell_type": "code",
   "execution_count": 5,
   "metadata": {},
   "outputs": [
    {
     "name": "stdout",
     "output_type": "stream",
     "text": [
      "Yes\n"
     ]
    }
   ],
   "source": [
    "# Creating list with all right answers possible\n",
    "right_answers = [42, \"42\", \"forty-two\", \"forty two\"]\n",
    "\n",
    "# Asking user for the great question\n",
    "answer = str(input(\"What's the answer to the Great Question of Life, the Universe and Everything? \"))\n",
    "\n",
    "# Print \"yes\" accordinlgy if the answer is inside the predefined list, else \"No\"\n",
    "print(\"Yes\") if answer.strip().lower() in right_answers else print(\"No\")\n"
   ]
  },
  {
   "cell_type": "markdown",
   "metadata": {},
   "source": [
    "# How to Test\n",
    "\n",
    "Here’s how to test your code manually:\n",
    "\n",
    "    Run your program with python deep.py. Type 42 and press Enter. Your program should output:\n",
    "\n",
    "    Yes \n",
    "\n",
    "    Run your program with python deep.py. Type Forty Two and press Enter. Your program should output:\n",
    "\n",
    "    Yes\n",
    "\n",
    "    Run your program with python deep.py. Type forty-two and press Enter. Your program should output\n",
    "\n",
    "    Yes\n",
    "\n",
    "    Run your program with python deep.py. Type 50 and press Enter. Your program should output\n",
    "\n",
    "    No\n",
    "\n",
    "Be sure to vary the casing of your input and “accidentally” add spaces on either side of your input before pressing enter. Your program should behave as expected, case- and space-insensitively.\n",
    "\n",
    "You can execute the below to check your code using check50, a program that CS50 will use to test your code when you submit. But be sure to test it yourself as well!"
   ]
  }
 ],
 "metadata": {
  "kernelspec": {
   "display_name": "Python 3",
   "language": "python",
   "name": "python3"
  },
  "language_info": {
   "codemirror_mode": {
    "name": "ipython",
    "version": 3
   },
   "file_extension": ".py",
   "mimetype": "text/x-python",
   "name": "python",
   "nbconvert_exporter": "python",
   "pygments_lexer": "ipython3",
   "version": "3.10.7"
  }
 },
 "nbformat": 4,
 "nbformat_minor": 2
}
