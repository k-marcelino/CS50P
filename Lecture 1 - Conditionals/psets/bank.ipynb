{
 "cells": [
  {
   "cell_type": "markdown",
   "metadata": {},
   "source": [
    "https://cs50.harvard.edu/python/2022/psets/1/bank/m"
   ]
  },
  {
   "cell_type": "markdown",
   "metadata": {},
   "source": [
    "# Home Federal Savings Bank\n",
    "\n",
    "In season 7, episode 24 of Seinfeld, Kramer visits a bank that promises to give $100 to anyone who isn’t greeted with a “hello.” Kramer is instead greeted with a “hey,” which he insists isn’t a “hello,” and so he asks for $100. The bank’s manager proposes a compromise: “You got a greeting that starts with an ‘h,’ how does $20 sound?” Kramer accepts.\n",
    "\n",
    "In a file called bank.py, implement a program that prompts the user for a greeting. If the greeting starts with “hello”, output $0. If the greeting starts with an “h” (but not “hello”), output $20. Otherwise, output $100. Ignore any leading whitespace in the user’s greeting, and treat the user’s greeting case-insensitively.\n",
    "Hints\n",
    "\n",
    "    Recall that a str comes with quite a few methods, per docs.python.org/3/library/stdtypes.html#string-methods.\n",
    "    Be sure to give $0 not only for “hello” but also “hello there”, “hello, Newman”, and the like.\n"
   ]
  },
  {
   "cell_type": "code",
   "execution_count": null,
   "metadata": {},
   "outputs": [],
   "source": [
    "# Prompts user for a greeting\n",
    "greeting = str(input(\"Hello, Newman\")).strip().lower()\n",
    "\n",
    "# Checking conditions and responding accordingly\n",
    "if greeting.startswith(\"hello\"):\n",
    "    print(\"$0\")\n",
    "elif greeting[0] == 'h':\n",
    "    print(\"$20\")\n",
    "else:\n",
    "    print(\"$100\")"
   ]
  },
  {
   "cell_type": "markdown",
   "metadata": {},
   "source": [
    "# How to Test\n",
    "\n",
    "Here’s how to test your code manually:\n",
    "\n",
    "    Run your program with python bank.py. Type Hello and press Enter. Your program should output:\n",
    "\n",
    "    $0 \n",
    "\n",
    "    Run your program with python bank.py. Type Hello, Newman and press Enter. Your program should output:\n",
    "\n",
    "    $0\n",
    "\n",
    "    Run your program with python bank.py. Type How you doing? and press Enter. Your program should output\n",
    "\n",
    "    $20\n",
    "\n",
    "    Run your program with python bank.py. Type What's happening? and press Enter. Your program should output\n",
    "\n",
    "    $100\n",
    "\n",
    "You can execute the below to check your code using check50, a program that CS50 will use to test your code when you submit. But be sure to test it yourself as well!"
   ]
  }
 ],
 "metadata": {
  "kernelspec": {
   "display_name": "Python 3",
   "language": "python",
   "name": "python3"
  },
  "language_info": {
   "name": "python",
   "version": "3.10.7"
  }
 },
 "nbformat": 4,
 "nbformat_minor": 2
}
