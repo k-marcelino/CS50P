{
 "cells": [
  {
   "cell_type": "markdown",
   "metadata": {},
   "source": [
    "https://cs50.harvard.edu/python/2022/psets/1/meal/"
   ]
  },
  {
   "cell_type": "markdown",
   "metadata": {},
   "source": [
    "# Meal Time\n",
    "\n",
    "Suppose that you’re in a country where it’s customary to eat breakfast between 7:00 and 8:00, lunch between 12:00 and 13:00, and dinner between 18:00 and 19:00. Wouldn’t it be nice if you had a program that could tell you what to eat when?\n",
    "\n",
    "In meal.py, implement a program that prompts the user for a time and outputs whether it’s breakfast time, lunch time, or dinner time. If it’s not time for a meal, don’t output anything at all. Assume that the user’s input will be formatted in 24-hour time as #:## or ##:##. And assume that each meal’s time range is inclusive. For instance, whether it’s 7:00, 7:01, 7:59, or 8:00, or anytime in between, it’s time for breakfast.\n",
    "\n",
    "Structure your program per the below, wherein convert is a function (that can be called by main) that converts time, a str in 24-hour format, to the corresponding number of hours as a float. For instance, given a time like \"7:30\" (i.e., 7 hours and 30 minutes), convert should return 7.5 (i.e., 7.5 hours)."
   ]
  },
  {
   "cell_type": "code",
   "execution_count": 18,
   "metadata": {},
   "outputs": [
    {
     "name": "stdout",
     "output_type": "stream",
     "text": [
      "dinner time\n"
     ]
    }
   ],
   "source": [
    "def main():\n",
    "    ...\n",
    "\n",
    "\n",
    "def convert(time):\n",
    "    ...\n",
    "\n",
    "\n",
    "if __name__ == \"__main__\":\n",
    "    main()\n"
   ]
  },
  {
   "cell_type": "markdown",
   "metadata": {},
   "source": [
    "### Hints\n",
    "\n",
    "    Recall that a str comes with quite a few methods, per docs.python.org/3/library/stdtypes.html#string-methods, including split, which separates a str into a sequence of values, all of which can be assigned to variables at once. For instance, if time is a str like \"7:30\", then "
   ]
  },
  {
   "cell_type": "code",
   "execution_count": 3,
   "metadata": {},
   "outputs": [
    {
     "name": "stdout",
     "output_type": "stream",
     "text": [
      "7 0.5\n"
     ]
    }
   ],
   "source": [
    "time = \"7:30\"\n",
    "hours, minutes = time.split(\":\")\n",
    "minutes = int(minutes) / 60\n",
    "print(hours, minutes)"
   ]
  },
  {
   "cell_type": "markdown",
   "metadata": {},
   "source": [
    "will assign \"7\" to hours and \"30\" to minutes.\n",
    "Keep in mind that there are 60 minutes in 1 hour."
   ]
  },
  {
   "cell_type": "markdown",
   "metadata": {},
   "source": [
    "# Solution"
   ]
  },
  {
   "cell_type": "code",
   "execution_count": 30,
   "metadata": {},
   "outputs": [
    {
     "name": "stdout",
     "output_type": "stream",
     "text": [
      "breakfast time\n"
     ]
    }
   ],
   "source": [
    "\n",
    "\n",
    "# Some Obious checks would be:\n",
    "\"\"\"\n",
    "- See if there is a \":\"\n",
    "- If the digits before and after the separators are digits\n",
    "- etc\n",
    "\n",
    "Not implementing cause it would only add unnecessary complexity for the purpose of the pset\n",
    "\"\"\"\n",
    "\n",
    "# Main Code\n",
    "def main():\n",
    "    time = str(input(\"What time is it? [Answer Format: ##:##] \")).strip()\n",
    "\n",
    "    # Calling function\n",
    "    converted = convert(time)\n",
    "\n",
    "    # Checking with meal it is and printing it\n",
    "    if 18 <= converted <= 19:\n",
    "        print(\"diner time\")\n",
    "    elif 12 <= converted <= 13:\n",
    "        print(\"lunch time\")\n",
    "    elif 7 <= converted <= 8:\n",
    "        print(\"breakfast time\")\n",
    "\n",
    "\n",
    "# Creating function to convert\n",
    "def convert(time):\n",
    "    hours, minutes = time.split(\":\")\n",
    "    hours, minutes = int(hours), int(minutes)\n",
    "\n",
    "    return round(hours + minutes / 60, 2)\n",
    "\n",
    "\n",
    "if __name__ == \"__main__\":\n",
    "    main()\n",
    "\n",
    "# Making the challenge in local version since the check50 doesn't validadte the a.m. / p.m. improvement\n"
   ]
  },
  {
   "cell_type": "markdown",
   "metadata": {},
   "source": [
    "# Challenge\n",
    "\n",
    "If up for a challenge, optionally add support for 12-hour times, allowing the user to input times in these formats too:\n",
    "\n",
    "    #:## a.m. and ##:## a.m.\n",
    "    #:## p.m. and ##:## p.m.\n"
   ]
  },
  {
   "cell_type": "code",
   "execution_count": null,
   "metadata": {},
   "outputs": [],
   "source": [
    "# Some Obious checks would be:\n",
    "\"\"\"\n",
    "- See if there is a \":\"\n",
    "- If the digits before and after the separators are digits\n",
    "- etc\n",
    "\n",
    "Not implementing cause it would only add unnecessary complexity for the purpose of the pset\n",
    "\"\"\"\n",
    "\n",
    "# Main Code\n",
    "def main():\n",
    "    time = str(input(\"What time is it? [Answer Format: ##:##] \")).strip()\n",
    "\n",
    "    # Calling function\n",
    "    converted = convert(time)\n",
    "\n",
    "    # Checking with meal it is and printing it\n",
    "    if 18 <= converted <= 19:\n",
    "        print(\"dinner time\")\n",
    "    elif 12 <= converted <= 13:\n",
    "        print(\"lunch time\")\n",
    "    elif 7 <= converted <= 8:\n",
    "        print(\"breakfast time\")\n",
    "\n",
    "\n",
    "# Creating function to convert \n",
    "def convert(time):\n",
    "\n",
    "    hours, minutes = time.split(\":\")\n",
    "\n",
    "    # Adding the challenge conditions (Again consciously there would need more checks and logic improvements to make it a real world well designed code)\n",
    "    if (\"a.m.\" in time) or (\"p.m.\" in time):\n",
    "        minutes, period = minutes.split(\" \")\n",
    "        \n",
    "        # Only checking if it's post midday since the a.m. is already right (of course it would need a check to know if that's true)\n",
    "        if period == \"p.m.\":\n",
    "            hours = int(hours) + 12\n",
    "\n",
    "    # converting date components into integers\n",
    "    hours, minutes = int(hours), int(minutes)\n",
    "\n",
    "    \n",
    "    return round(hours + minutes / 60, 2)\n",
    "\n",
    "\n",
    "if __name__ == \"__main__\":\n",
    "    main()\n"
   ]
  },
  {
   "cell_type": "markdown",
   "metadata": {},
   "source": [
    "### Few Tests\n",
    "\n",
    "7:00 a.m.\n",
    "7:00 p.m.\n",
    "\n",
    "7:30 a.m.\n",
    "7:30 p.m.\n",
    "\n",
    "12:30 a.m.\n",
    "7:30 p.m."
   ]
  },
  {
   "cell_type": "markdown",
   "metadata": {},
   "source": [
    "# How to Test\n",
    "\n",
    "Here’s how to test your code manually:\n",
    "\n",
    "    Run your program with python meal.py. Type 7:00 and press Enter. Your program should output:\n",
    "\n",
    "    breakfast time   \n",
    "\n",
    "    Run your program with python meal.py. Type 7:30 and press Enter. Your program should output:\n",
    "\n",
    "    breakfast time\n",
    "\n",
    "    Run your program with python meal.py. Type 12:42 and press Enter. Your program should output\n",
    "\n",
    "    lunch time\n",
    "\n",
    "    Run your program with python meal.py. Type 18:32 and press Enter. Your program should output\n",
    "\n",
    "    dinner time\n",
    "\n",
    "    Run your program with python meal.py. Type 11:11 and press Enter. Your program should output nothing.\n",
    "\n",
    "You can execute the below to check your code using check50, a program that CS50 will use to test your code when you submit. But be sure to test it yourself as well!"
   ]
  }
 ],
 "metadata": {
  "kernelspec": {
   "display_name": "Python 3",
   "language": "python",
   "name": "python3"
  },
  "language_info": {
   "codemirror_mode": {
    "name": "ipython",
    "version": 3
   },
   "file_extension": ".py",
   "mimetype": "text/x-python",
   "name": "python",
   "nbconvert_exporter": "python",
   "pygments_lexer": "ipython3",
   "version": "3.10.7"
  }
 },
 "nbformat": 4,
 "nbformat_minor": 2
}
